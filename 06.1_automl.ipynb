{
 "cells": [
  {
   "cell_type": "code",
   "execution_count": 1,
   "metadata": {},
   "outputs": [],
   "source": [
    "import numpy as np\n",
    "import pandas as pd\n",
    "from sklearn.decomposition import PCA\n",
    "from sklearn.model_selection import train_test_split\n",
    "from sklearn.metrics import accuracy_score, log_loss, roc_auc_score, precision_score, recall_score\n",
    "from tpot import TPOTClassifier\n",
    "import matplotlib.pyplot as plt"
   ]
  },
  {
   "cell_type": "code",
   "execution_count": 2,
   "metadata": {},
   "outputs": [
    {
     "name": "stdout",
     "output_type": "stream",
     "text": [
      "(1241, 16094)\n"
     ]
    }
   ],
   "source": [
    "# Load pd_train\n",
    "pd_train = pd.read_parquet(\"data/training_class.parquet\")\n",
    "pd_train[\"label\"] = pd_train[\"Class\"].apply(lambda x: 1 if x == \"Hepatotoxicity\" else 0)\n",
    "print(pd_train.shape)"
   ]
  },
  {
   "cell_type": "code",
   "execution_count": 3,
   "metadata": {},
   "outputs": [
    {
     "name": "stdout",
     "output_type": "stream",
     "text": [
      "(286, 16094)\n"
     ]
    }
   ],
   "source": [
    "# Load pd_test\n",
    "pd_test = pd.read_parquet(\"data/testing_class.parquet\")\n",
    "pd_test[\"label\"] = pd_test[\"Class\"].apply(lambda x: 1 if x == \"Hepatotoxicity\" else 0)\n",
    "print(pd_test.shape)"
   ]
  },
  {
   "cell_type": "code",
   "execution_count": 4,
   "metadata": {},
   "outputs": [],
   "source": [
    "X_train = pd_train.drop(columns=[\"Class\", \"label\"])\n",
    "y_train = pd_train[\"label\"]\n",
    "\n",
    "X_test = pd_test.drop(columns=[\"Class\", \"label\"])\n",
    "y_test = pd_test[\"label\"]"
   ]
  },
  {
   "cell_type": "code",
   "execution_count": null,
   "metadata": {},
   "outputs": [],
   "source": []
  },
  {
   "cell_type": "markdown",
   "metadata": {},
   "source": [
    "# TPOT optimization"
   ]
  },
  {
   "cell_type": "code",
   "execution_count": 5,
   "metadata": {},
   "outputs": [
    {
     "name": "stderr",
     "output_type": "stream",
     "text": [
      "Version 0.12.1 of tpot is outdated. Version 0.12.2 was released Friday February 23, 2024.\n"
     ]
    },
    {
     "data": {
      "application/vnd.jupyter.widget-view+json": {
       "model_id": "905626c842e249ff96f980bc3501c1b8",
       "version_major": 2,
       "version_minor": 0
      },
      "text/plain": [
       "Optimization Progress:   0%|          | 0/120 [00:00<?, ?pipeline/s]"
      ]
     },
     "metadata": {},
     "output_type": "display_data"
    },
    {
     "name": "stdout",
     "output_type": "stream",
     "text": [
      "\n",
      "Generation 1 - Current best internal CV score: 0.7492814875999718\n",
      "\n",
      "Generation 2 - Current best internal CV score: 0.7492814875999718\n",
      "\n",
      "Generation 3 - Current best internal CV score: 0.7492814875999718\n",
      "\n",
      "Generation 4 - Current best internal CV score: 0.7492814875999718\n",
      "\n",
      "Generation 5 - Current best internal CV score: 0.7492814875999718\n",
      "\n",
      "Best pipeline: RandomForestClassifier(MinMaxScaler(input_matrix), bootstrap=True, criterion=gini, max_features=0.2, min_samples_leaf=8, min_samples_split=4, n_estimators=100)\n"
     ]
    },
    {
     "data": {
      "text/html": [
       "<style>#sk-container-id-1 {color: black;}#sk-container-id-1 pre{padding: 0;}#sk-container-id-1 div.sk-toggleable {background-color: white;}#sk-container-id-1 label.sk-toggleable__label {cursor: pointer;display: block;width: 100%;margin-bottom: 0;padding: 0.3em;box-sizing: border-box;text-align: center;}#sk-container-id-1 label.sk-toggleable__label-arrow:before {content: \"▸\";float: left;margin-right: 0.25em;color: #696969;}#sk-container-id-1 label.sk-toggleable__label-arrow:hover:before {color: black;}#sk-container-id-1 div.sk-estimator:hover label.sk-toggleable__label-arrow:before {color: black;}#sk-container-id-1 div.sk-toggleable__content {max-height: 0;max-width: 0;overflow: hidden;text-align: left;background-color: #f0f8ff;}#sk-container-id-1 div.sk-toggleable__content pre {margin: 0.2em;color: black;border-radius: 0.25em;background-color: #f0f8ff;}#sk-container-id-1 input.sk-toggleable__control:checked~div.sk-toggleable__content {max-height: 200px;max-width: 100%;overflow: auto;}#sk-container-id-1 input.sk-toggleable__control:checked~label.sk-toggleable__label-arrow:before {content: \"▾\";}#sk-container-id-1 div.sk-estimator input.sk-toggleable__control:checked~label.sk-toggleable__label {background-color: #d4ebff;}#sk-container-id-1 div.sk-label input.sk-toggleable__control:checked~label.sk-toggleable__label {background-color: #d4ebff;}#sk-container-id-1 input.sk-hidden--visually {border: 0;clip: rect(1px 1px 1px 1px);clip: rect(1px, 1px, 1px, 1px);height: 1px;margin: -1px;overflow: hidden;padding: 0;position: absolute;width: 1px;}#sk-container-id-1 div.sk-estimator {font-family: monospace;background-color: #f0f8ff;border: 1px dotted black;border-radius: 0.25em;box-sizing: border-box;margin-bottom: 0.5em;}#sk-container-id-1 div.sk-estimator:hover {background-color: #d4ebff;}#sk-container-id-1 div.sk-parallel-item::after {content: \"\";width: 100%;border-bottom: 1px solid gray;flex-grow: 1;}#sk-container-id-1 div.sk-label:hover label.sk-toggleable__label {background-color: #d4ebff;}#sk-container-id-1 div.sk-serial::before {content: \"\";position: absolute;border-left: 1px solid gray;box-sizing: border-box;top: 0;bottom: 0;left: 50%;z-index: 0;}#sk-container-id-1 div.sk-serial {display: flex;flex-direction: column;align-items: center;background-color: white;padding-right: 0.2em;padding-left: 0.2em;position: relative;}#sk-container-id-1 div.sk-item {position: relative;z-index: 1;}#sk-container-id-1 div.sk-parallel {display: flex;align-items: stretch;justify-content: center;background-color: white;position: relative;}#sk-container-id-1 div.sk-item::before, #sk-container-id-1 div.sk-parallel-item::before {content: \"\";position: absolute;border-left: 1px solid gray;box-sizing: border-box;top: 0;bottom: 0;left: 50%;z-index: -1;}#sk-container-id-1 div.sk-parallel-item {display: flex;flex-direction: column;z-index: 1;position: relative;background-color: white;}#sk-container-id-1 div.sk-parallel-item:first-child::after {align-self: flex-end;width: 50%;}#sk-container-id-1 div.sk-parallel-item:last-child::after {align-self: flex-start;width: 50%;}#sk-container-id-1 div.sk-parallel-item:only-child::after {width: 0;}#sk-container-id-1 div.sk-dashed-wrapped {border: 1px dashed gray;margin: 0 0.4em 0.5em 0.4em;box-sizing: border-box;padding-bottom: 0.4em;background-color: white;}#sk-container-id-1 div.sk-label label {font-family: monospace;font-weight: bold;display: inline-block;line-height: 1.2em;}#sk-container-id-1 div.sk-label-container {text-align: center;}#sk-container-id-1 div.sk-container {/* jupyter's `normalize.less` sets `[hidden] { display: none; }` but bootstrap.min.css set `[hidden] { display: none !important; }` so we also need the `!important` here to be able to override the default hidden behavior on the sphinx rendered scikit-learn.org. See: https://github.com/scikit-learn/scikit-learn/issues/21755 */display: inline-block !important;position: relative;}#sk-container-id-1 div.sk-text-repr-fallback {display: none;}</style><div id=\"sk-container-id-1\" class=\"sk-top-container\"><div class=\"sk-text-repr-fallback\"><pre>TPOTClassifier(generations=5, n_jobs=4, population_size=20, random_state=42,\n",
       "               scoring=&#x27;roc_auc&#x27;, verbosity=2)</pre><b>In a Jupyter environment, please rerun this cell to show the HTML representation or trust the notebook. <br />On GitHub, the HTML representation is unable to render, please try loading this page with nbviewer.org.</b></div><div class=\"sk-container\" hidden><div class=\"sk-item\"><div class=\"sk-estimator sk-toggleable\"><input class=\"sk-toggleable__control sk-hidden--visually\" id=\"sk-estimator-id-1\" type=\"checkbox\" checked><label for=\"sk-estimator-id-1\" class=\"sk-toggleable__label sk-toggleable__label-arrow\">TPOTClassifier</label><div class=\"sk-toggleable__content\"><pre>TPOTClassifier(generations=5, n_jobs=4, population_size=20, random_state=42,\n",
       "               scoring=&#x27;roc_auc&#x27;, verbosity=2)</pre></div></div></div></div></div>"
      ],
      "text/plain": [
       "TPOTClassifier(generations=5, n_jobs=4, population_size=20, random_state=42,\n",
       "               scoring='roc_auc', verbosity=2)"
      ]
     },
     "execution_count": 5,
     "metadata": {},
     "output_type": "execute_result"
    }
   ],
   "source": [
    "# Set up TPOT with basic configuration\n",
    "tpot = TPOTClassifier(\n",
    "    generations=5,\n",
    "    population_size=20,\n",
    "    verbosity=2,\n",
    "    scoring=\"roc_auc\",  # AUC\n",
    "    random_state=42,\n",
    "    n_jobs=4  # Use 4 cores\n",
    ")\n",
    "\n",
    "# Fit the model\n",
    "tpot.fit(X_train, y_train)"
   ]
  },
  {
   "cell_type": "code",
   "execution_count": 6,
   "metadata": {},
   "outputs": [
    {
     "name": "stdout",
     "output_type": "stream",
     "text": [
      "Accuracy: 0.8146853146853147\n",
      "Log Loss: 0.47206500243926136\n",
      "AUC: 0.88771319178559\n"
     ]
    }
   ],
   "source": [
    "# Evaluate the best model found by TPOT\n",
    "y_pred = tpot.predict(X_test)\n",
    "y_pred_proba = tpot.predict_proba(X_test)[:, 1]\n",
    "\n",
    "# Print performance metrics\n",
    "print(\"Accuracy:\", accuracy_score(y_test, y_pred))\n",
    "print(\"Log Loss:\", log_loss(y_test, y_pred_proba))\n",
    "print(\"AUC:\", roc_auc_score(y_test, y_pred_proba))"
   ]
  },
  {
   "cell_type": "code",
   "execution_count": null,
   "metadata": {},
   "outputs": [],
   "source": []
  },
  {
   "cell_type": "markdown",
   "metadata": {},
   "source": [
    "# PCA optimization"
   ]
  },
  {
   "cell_type": "code",
   "execution_count": 2,
   "metadata": {},
   "outputs": [],
   "source": [
    "# # Example data (replace with actual data)\n",
    "# X = pd.DataFrame(np.random.randn(1000, 1600), columns=[f\"feature_{i}\" for i in range(1600)])\n",
    "# y = np.random.randint(2, size=1000)\n",
    "\n",
    "# # Split data into training and test sets\n",
    "# X_train, X_test, y_train, y_test = train_test_split(X, y, test_size=0.2, random_state=42)\n",
    "\n",
    "# # Dimensions for PCA\n",
    "# dimensions = [10, 20, 50]\n",
    "# tpot_results = []  # List to store results"
   ]
  },
  {
   "cell_type": "code",
   "execution_count": 8,
   "metadata": {},
   "outputs": [
    {
     "data": {
      "application/vnd.jupyter.widget-view+json": {
       "model_id": "7096bc63829d48549730a73b072414f2",
       "version_major": 2,
       "version_minor": 0
      },
      "text/plain": [
       "Optimization Progress:   0%|          | 0/120 [00:00<?, ?pipeline/s]"
      ]
     },
     "metadata": {},
     "output_type": "display_data"
    },
    {
     "name": "stdout",
     "output_type": "stream",
     "text": [
      "\n",
      "Generation 1 - Current best internal CV score: 0.7144354528653049\n",
      "\n",
      "Generation 2 - Current best internal CV score: 0.7144354528653049\n",
      "\n",
      "Generation 3 - Current best internal CV score: 0.7204036148144403\n",
      "\n",
      "Generation 4 - Current best internal CV score: 0.7204036148144403\n",
      "\n",
      "Generation 5 - Current best internal CV score: 0.7204036148144403\n",
      "\n",
      "Best pipeline: RandomForestClassifier(input_matrix, bootstrap=True, criterion=gini, max_features=0.15000000000000002, min_samples_leaf=2, min_samples_split=4, n_estimators=100)\n",
      "{'PCA Components': 10, 'Model Name': 'RandomForestClassifier', 'Parameters': {'bootstrap': True, 'ccp_alpha': 0.0, 'class_weight': None, 'criterion': 'gini', 'max_depth': None, 'max_features': 0.15000000000000002, 'max_leaf_nodes': None, 'max_samples': None, 'min_impurity_decrease': 0.0, 'min_samples_leaf': 2, 'min_samples_split': 4, 'min_weight_fraction_leaf': 0.0, 'monotonic_cst': None, 'n_estimators': 100, 'n_jobs': None, 'oob_score': False, 'random_state': 42, 'verbose': 0, 'warm_start': False}, 'AUC': 0.8658545074834667, 'Precision': 0.9269406392694064, 'Recall': 0.918552036199095}\n"
     ]
    },
    {
     "data": {
      "application/vnd.jupyter.widget-view+json": {
       "model_id": "1e6d4a762ff64a7fbb4ab7bf183359f4",
       "version_major": 2,
       "version_minor": 0
      },
      "text/plain": [
       "Optimization Progress:   0%|          | 0/120 [00:00<?, ?pipeline/s]"
      ]
     },
     "metadata": {},
     "output_type": "display_data"
    },
    {
     "name": "stdout",
     "output_type": "stream",
     "text": [
      "\n",
      "Generation 1 - Current best internal CV score: 0.7221484523726635\n",
      "\n",
      "Generation 2 - Current best internal CV score: 0.7246743512703957\n",
      "\n",
      "Generation 3 - Current best internal CV score: 0.7349261942891182\n",
      "\n",
      "Generation 4 - Current best internal CV score: 0.7349261942891182\n",
      "\n",
      "Generation 5 - Current best internal CV score: 0.7349261942891182\n",
      "\n",
      "Best pipeline: ExtraTreesClassifier(input_matrix, bootstrap=True, criterion=entropy, max_features=0.8, min_samples_leaf=1, min_samples_split=5, n_estimators=100)\n",
      "{'PCA Components': 20, 'Model Name': 'ExtraTreesClassifier', 'Parameters': {'bootstrap': True, 'ccp_alpha': 0.0, 'class_weight': None, 'criterion': 'entropy', 'max_depth': None, 'max_features': 0.8, 'max_leaf_nodes': None, 'max_samples': None, 'min_impurity_decrease': 0.0, 'min_samples_leaf': 1, 'min_samples_split': 5, 'min_weight_fraction_leaf': 0.0, 'monotonic_cst': None, 'n_estimators': 100, 'n_jobs': None, 'oob_score': False, 'random_state': 42, 'verbose': 0, 'warm_start': False}, 'AUC': 0.9007309432648799, 'Precision': 0.9269406392694064, 'Recall': 0.918552036199095}\n"
     ]
    },
    {
     "data": {
      "application/vnd.jupyter.widget-view+json": {
       "model_id": "c52c0d03e456411bb049737c6050c819",
       "version_major": 2,
       "version_minor": 0
      },
      "text/plain": [
       "Optimization Progress:   0%|          | 0/120 [00:00<?, ?pipeline/s]"
      ]
     },
     "metadata": {},
     "output_type": "display_data"
    },
    {
     "name": "stdout",
     "output_type": "stream",
     "text": [
      "\n",
      "Generation 1 - Current best internal CV score: 0.7372154162266603\n",
      "\n",
      "Generation 2 - Current best internal CV score: 0.7372154162266603\n",
      "\n",
      "Generation 3 - Current best internal CV score: 0.7372154162266603\n",
      "\n",
      "Generation 4 - Current best internal CV score: 0.7386743031943493\n",
      "\n",
      "Generation 5 - Current best internal CV score: 0.7408261518012215\n",
      "\n",
      "Best pipeline: ExtraTreesClassifier(ZeroCount(input_matrix), bootstrap=False, criterion=gini, max_features=0.4, min_samples_leaf=5, min_samples_split=6, n_estimators=100)\n",
      "{'PCA Components': 50, 'Model Name': 'ExtraTreesClassifier', 'Parameters': {'bootstrap': False, 'ccp_alpha': 0.0, 'class_weight': None, 'criterion': 'gini', 'max_depth': None, 'max_features': 0.4, 'max_leaf_nodes': None, 'max_samples': None, 'min_impurity_decrease': 0.0, 'min_samples_leaf': 5, 'min_samples_split': 6, 'min_weight_fraction_leaf': 0.0, 'monotonic_cst': None, 'n_estimators': 100, 'n_jobs': None, 'oob_score': False, 'random_state': 42, 'verbose': 0, 'warm_start': False}, 'AUC': 0.8976679429168117, 'Precision': 0.9269406392694064, 'Recall': 0.918552036199095}\n"
     ]
    },
    {
     "data": {
      "application/vnd.jupyter.widget-view+json": {
       "model_id": "52364677c9cf4f2f91d80e5cf960007f",
       "version_major": 2,
       "version_minor": 0
      },
      "text/plain": [
       "Optimization Progress:   0%|          | 0/120 [00:00<?, ?pipeline/s]"
      ]
     },
     "metadata": {},
     "output_type": "display_data"
    },
    {
     "name": "stdout",
     "output_type": "stream",
     "text": [
      "\n",
      "Generation 1 - Current best internal CV score: 0.718791968972438\n",
      "\n",
      "Generation 2 - Current best internal CV score: 0.7264699138927616\n",
      "\n",
      "Generation 3 - Current best internal CV score: 0.7265649443837507\n",
      "\n",
      "Generation 4 - Current best internal CV score: 0.7334744323849091\n",
      "\n",
      "Generation 5 - Current best internal CV score: 0.7334744323849091\n",
      "\n",
      "Best pipeline: ExtraTreesClassifier(MinMaxScaler(input_matrix), bootstrap=False, criterion=entropy, max_features=0.35000000000000003, min_samples_leaf=6, min_samples_split=9, n_estimators=100)\n",
      "{'PCA Components': 100, 'Model Name': 'ExtraTreesClassifier', 'Parameters': {'bootstrap': False, 'ccp_alpha': 0.0, 'class_weight': None, 'criterion': 'entropy', 'max_depth': None, 'max_features': 0.35000000000000003, 'max_leaf_nodes': None, 'max_samples': None, 'min_impurity_decrease': 0.0, 'min_samples_leaf': 6, 'min_samples_split': 9, 'min_weight_fraction_leaf': 0.0, 'monotonic_cst': None, 'n_estimators': 100, 'n_jobs': None, 'oob_score': False, 'random_state': 42, 'verbose': 0, 'warm_start': False}, 'AUC': 0.904768534632788, 'Precision': 0.9269406392694064, 'Recall': 0.918552036199095}\n"
     ]
    },
    {
     "data": {
      "application/vnd.jupyter.widget-view+json": {
       "model_id": "45ab6c4e08e5475088e30acbc1d283e1",
       "version_major": 2,
       "version_minor": 0
      },
      "text/plain": [
       "Optimization Progress:   0%|          | 0/120 [00:00<?, ?pipeline/s]"
      ]
     },
     "metadata": {},
     "output_type": "display_data"
    },
    {
     "name": "stdout",
     "output_type": "stream",
     "text": [
      "\n",
      "Generation 1 - Current best internal CV score: 0.716516800730452\n",
      "\n",
      "Generation 2 - Current best internal CV score: 0.716516800730452\n",
      "\n",
      "Generation 3 - Current best internal CV score: 0.716516800730452\n",
      "\n",
      "Generation 4 - Current best internal CV score: 0.7218420660086879\n",
      "\n",
      "Generation 5 - Current best internal CV score: 0.7218420660086879\n",
      "\n",
      "Best pipeline: KNeighborsClassifier(input_matrix, n_neighbors=9, p=1, weights=distance)\n",
      "{'PCA Components': 200, 'Model Name': 'KNeighborsClassifier', 'Parameters': {'algorithm': 'auto', 'leaf_size': 30, 'metric': 'minkowski', 'metric_params': None, 'n_jobs': None, 'n_neighbors': 9, 'p': 1, 'weights': 'distance'}, 'AUC': 0.9141663766098155, 'Precision': 0.9269406392694064, 'Recall': 0.918552036199095}\n"
     ]
    },
    {
     "data": {
      "application/vnd.jupyter.widget-view+json": {
       "model_id": "774034808b9041fa93f9aeb9a5d73b58",
       "version_major": 2,
       "version_minor": 0
      },
      "text/plain": [
       "Optimization Progress:   0%|          | 0/120 [00:00<?, ?pipeline/s]"
      ]
     },
     "metadata": {},
     "output_type": "display_data"
    },
    {
     "name": "stdout",
     "output_type": "stream",
     "text": [
      "\n",
      "Generation 1 - Current best internal CV score: 0.7269598345355107\n",
      "\n",
      "Generation 2 - Current best internal CV score: 0.7269859991984562\n",
      "\n",
      "Generation 3 - Current best internal CV score: 0.726986073453844\n",
      "\n",
      "Generation 4 - Current best internal CV score: 0.726986073453844\n",
      "\n",
      "Generation 5 - Current best internal CV score: 0.7271429560924785\n",
      "\n",
      "Best pipeline: LinearSVC(XGBClassifier(MLPClassifier(input_matrix, alpha=0.001, learning_rate_init=0.001), learning_rate=0.001, max_depth=7, min_child_weight=11, n_estimators=100, n_jobs=1, subsample=0.05, verbosity=0), C=0.0001, dual=False, loss=squared_hinge, penalty=l2, tol=0.0001)\n",
      "{'PCA Components': 300, 'Model Name': 'LinearSVC', 'Parameters': {'C': 0.0001, 'class_weight': None, 'dual': False, 'fit_intercept': True, 'intercept_scaling': 1, 'loss': 'squared_hinge', 'max_iter': 1000, 'multi_class': 'ovr', 'penalty': 'l2', 'random_state': 42, 'tol': 0.0001, 'verbose': 0}, 'AUC': 0.7867132867132867, 'Precision': 0.9040404040404041, 'Recall': 0.8099547511312217}\n"
     ]
    },
    {
     "data": {
      "application/vnd.jupyter.widget-view+json": {
       "model_id": "85025a0c2b6c4419a5ba35dd1c23c51b",
       "version_major": 2,
       "version_minor": 0
      },
      "text/plain": [
       "Optimization Progress:   0%|          | 0/120 [00:00<?, ?pipeline/s]"
      ]
     },
     "metadata": {},
     "output_type": "display_data"
    },
    {
     "name": "stdout",
     "output_type": "stream",
     "text": [
      "\n",
      "Generation 1 - Current best internal CV score: 0.7116291742579849\n",
      "\n",
      "Generation 2 - Current best internal CV score: 0.7116291742579849\n",
      "\n",
      "Generation 3 - Current best internal CV score: 0.716636250019341\n",
      "\n",
      "Generation 4 - Current best internal CV score: 0.716636250019341\n",
      "\n",
      "Generation 5 - Current best internal CV score: 0.716636250019341\n",
      "\n",
      "Best pipeline: KNeighborsClassifier(input_matrix, n_neighbors=3, p=2, weights=distance)\n",
      "{'PCA Components': 500, 'Model Name': 'KNeighborsClassifier', 'Parameters': {'algorithm': 'auto', 'leaf_size': 30, 'metric': 'minkowski', 'metric_params': None, 'n_jobs': None, 'n_neighbors': 3, 'p': 2, 'weights': 'distance'}, 'AUC': 0.8722241559345632, 'Precision': 0.9040404040404041, 'Recall': 0.8099547511312217}\n"
     ]
    },
    {
     "data": {
      "application/vnd.jupyter.widget-view+json": {
       "model_id": "4b0061e0a2d5456fbc655c9d5bca7e78",
       "version_major": 2,
       "version_minor": 0
      },
      "text/plain": [
       "Optimization Progress:   0%|          | 0/120 [00:00<?, ?pipeline/s]"
      ]
     },
     "metadata": {},
     "output_type": "display_data"
    },
    {
     "name": "stdout",
     "output_type": "stream",
     "text": [
      "\n",
      "Generation 1 - Current best internal CV score: 0.7183054342890243\n",
      "\n",
      "Generation 2 - Current best internal CV score: 0.7183054342890243\n",
      "\n",
      "Generation 3 - Current best internal CV score: 0.7183054342890243\n",
      "\n",
      "Generation 4 - Current best internal CV score: 0.7274320728982065\n",
      "\n",
      "Generation 5 - Current best internal CV score: 0.7274320728982065\n",
      "\n",
      "Best pipeline: LogisticRegression(input_matrix, C=0.001, dual=False, penalty=l2)\n",
      "{'PCA Components': 800, 'Model Name': 'LogisticRegression', 'Parameters': {'C': 0.001, 'class_weight': None, 'dual': False, 'fit_intercept': True, 'intercept_scaling': 1, 'l1_ratio': None, 'max_iter': 100, 'multi_class': 'deprecated', 'n_jobs': None, 'penalty': 'l2', 'random_state': 42, 'solver': 'lbfgs', 'tol': 0.0001, 'verbose': 0, 'warm_start': False}, 'AUC': 0.8215106160807518, 'Precision': 0.9040404040404041, 'Recall': 0.8099547511312217}\n"
     ]
    },
    {
     "data": {
      "application/vnd.jupyter.widget-view+json": {
       "model_id": "1fcb8815c63f48be8eeebf99f3520590",
       "version_major": 2,
       "version_minor": 0
      },
      "text/plain": [
       "Optimization Progress:   0%|          | 0/120 [00:00<?, ?pipeline/s]"
      ]
     },
     "metadata": {},
     "output_type": "display_data"
    },
    {
     "name": "stdout",
     "output_type": "stream",
     "text": [
      "\n",
      "Generation 1 - Current best internal CV score: 0.7120304041793281\n",
      "\n",
      "Generation 2 - Current best internal CV score: 0.7120304041793281\n",
      "\n",
      "Generation 3 - Current best internal CV score: 0.7120304041793281\n",
      "\n",
      "Generation 4 - Current best internal CV score: 0.7138531783792627\n",
      "\n",
      "Generation 5 - Current best internal CV score: 0.7138531783792627\n",
      "\n",
      "Best pipeline: KNeighborsClassifier(input_matrix, n_neighbors=7, p=2, weights=distance)\n",
      "{'PCA Components': 1000, 'Model Name': 'KNeighborsClassifier', 'Parameters': {'algorithm': 'auto', 'leaf_size': 30, 'metric': 'minkowski', 'metric_params': None, 'n_jobs': None, 'n_neighbors': 7, 'p': 2, 'weights': 'distance'}, 'AUC': 0.8990602158022972, 'Precision': 0.9040404040404041, 'Recall': 0.8099547511312217}\n"
     ]
    },
    {
     "data": {
      "application/vnd.jupyter.widget-view+json": {
       "model_id": "9c4afce9fcbf476696b33f300dc5fac3",
       "version_major": 2,
       "version_minor": 0
      },
      "text/plain": [
       "Optimization Progress:   0%|          | 0/120 [00:00<?, ?pipeline/s]"
      ]
     },
     "metadata": {},
     "output_type": "display_data"
    },
    {
     "name": "stdout",
     "output_type": "stream",
     "text": [
      "\n",
      "Generation 1 - Current best internal CV score: 0.7023357969026041\n",
      "\n",
      "Generation 2 - Current best internal CV score: 0.7147752813519371\n",
      "\n",
      "Generation 3 - Current best internal CV score: 0.7156608213170849\n",
      "\n",
      "Generation 4 - Current best internal CV score: 0.7156608213170849\n",
      "\n",
      "Generation 5 - Current best internal CV score: 0.7156608213170849\n",
      "\n",
      "Best pipeline: KNeighborsClassifier(GaussianNB(input_matrix), n_neighbors=3, p=2, weights=distance)\n",
      "{'PCA Components': 1200, 'Model Name': 'KNeighborsClassifier', 'Parameters': {'algorithm': 'auto', 'leaf_size': 30, 'metric': 'minkowski', 'metric_params': None, 'n_jobs': None, 'n_neighbors': 3, 'p': 2, 'weights': 'distance'}, 'AUC': 0.8733727810650888, 'Precision': 0.9040404040404041, 'Recall': 0.8099547511312217}\n"
     ]
    }
   ],
   "source": [
    "# List to store AUC scores for different PCA dimensions\n",
    "# dimensions = range(100, 500, 100)  # Check PCA dimensions from 1 to 10\n",
    "dimensions = [10, 20, 50, 100, 200, 300, 500, 800, 1000, 1200]\n",
    "# dimensions = [10, 20, 50]\n",
    "tpot_results = []  # List to store results\n",
    "\n",
    "# Loop over different numbers of PCA components\n",
    "for n_components in dimensions:\n",
    "    # Apply PCA\n",
    "    pca = PCA(n_components=n_components)\n",
    "    X_train_pca = pca.fit_transform(X_train)\n",
    "    X_test_pca = pca.transform(X_test)\n",
    "    \n",
    "    # Set up TPOT with basic configuration\n",
    "    tpot = TPOTClassifier(\n",
    "        generations=5,\n",
    "        population_size=20,\n",
    "        verbosity=2,\n",
    "        scoring=\"roc_auc\",  # AUC\n",
    "        random_state=42,\n",
    "        n_jobs=12  # Use 4 cores\n",
    "    )\n",
    "    \n",
    "    # Fit TPOT on the PCA-transformed data\n",
    "    tpot.fit(X_train_pca, y_train)\n",
    "    \n",
    "    # Access the best pipeline directly after fitting\n",
    "    best_pipeline = tpot.fitted_pipeline_\n",
    "\n",
    "    # Check if the model has predict_proba\n",
    "    if hasattr(best_pipeline, \"predict_proba\"):\n",
    "        y_pred_proba = best_pipeline.predict_proba(X_test_pca)[:, 1]\n",
    "        auc = roc_auc_score(y_test, y_pred_proba)\n",
    "    else:\n",
    "        # Fallback to accuracy if predict_proba is unavailable\n",
    "        y_pred = best_pipeline.predict(X_test_pca)\n",
    "        auc = accuracy_score(y_test, y_pred)  # Substitute with accuracy if AUC can't be calculated\n",
    "    \n",
    "    \n",
    "    y_pred = (y_pred > 0.5).astype(int)  # Binarize predictions for threshold of 0.5\n",
    "    precision = precision_score(y_test, y_pred)\n",
    "    recall = recall_score(y_test, y_pred)  # Same as sensitivity for positive class\n",
    "\n",
    "    # Extract model name and parameters\n",
    "    model_name = type(best_pipeline.steps[-1][1]).__name__  # Name of the final estimator\n",
    "    model_params = best_pipeline.steps[-1][1].get_params()  # Params of the final estimator\n",
    "    \n",
    "\n",
    "    # Append results to list\n",
    "    result = {\n",
    "        \"PCA Components\": n_components,\n",
    "        \"Model Name\": model_name,\n",
    "        \"Parameters\": model_params,\n",
    "        \"AUC\": auc,\n",
    "        \"Precision\": precision,\n",
    "        \"Recall\": recall\n",
    "    }\n",
    "    tpot_results.append(result)\n",
    "    \n",
    "    print(result)"
   ]
  },
  {
   "cell_type": "code",
   "execution_count": null,
   "metadata": {},
   "outputs": [],
   "source": []
  },
  {
   "cell_type": "code",
   "execution_count": 9,
   "metadata": {},
   "outputs": [
    {
     "data": {
      "text/html": [
       "<div>\n",
       "<style scoped>\n",
       "    .dataframe tbody tr th:only-of-type {\n",
       "        vertical-align: middle;\n",
       "    }\n",
       "\n",
       "    .dataframe tbody tr th {\n",
       "        vertical-align: top;\n",
       "    }\n",
       "\n",
       "    .dataframe thead th {\n",
       "        text-align: right;\n",
       "    }\n",
       "</style>\n",
       "<table border=\"1\" class=\"dataframe\">\n",
       "  <thead>\n",
       "    <tr style=\"text-align: right;\">\n",
       "      <th></th>\n",
       "      <th>PCA Components</th>\n",
       "      <th>Model Name</th>\n",
       "      <th>Parameters</th>\n",
       "      <th>AUC</th>\n",
       "      <th>Precision</th>\n",
       "      <th>Recall</th>\n",
       "    </tr>\n",
       "  </thead>\n",
       "  <tbody>\n",
       "    <tr>\n",
       "      <th>0</th>\n",
       "      <td>10</td>\n",
       "      <td>RandomForestClassifier</td>\n",
       "      <td>{'bootstrap': True, 'ccp_alpha': 0.0, 'class_w...</td>\n",
       "      <td>0.865855</td>\n",
       "      <td>0.926941</td>\n",
       "      <td>0.918552</td>\n",
       "    </tr>\n",
       "    <tr>\n",
       "      <th>1</th>\n",
       "      <td>20</td>\n",
       "      <td>ExtraTreesClassifier</td>\n",
       "      <td>{'bootstrap': True, 'ccp_alpha': 0.0, 'class_w...</td>\n",
       "      <td>0.900731</td>\n",
       "      <td>0.926941</td>\n",
       "      <td>0.918552</td>\n",
       "    </tr>\n",
       "    <tr>\n",
       "      <th>2</th>\n",
       "      <td>50</td>\n",
       "      <td>ExtraTreesClassifier</td>\n",
       "      <td>{'bootstrap': False, 'ccp_alpha': 0.0, 'class_...</td>\n",
       "      <td>0.897668</td>\n",
       "      <td>0.926941</td>\n",
       "      <td>0.918552</td>\n",
       "    </tr>\n",
       "    <tr>\n",
       "      <th>3</th>\n",
       "      <td>100</td>\n",
       "      <td>ExtraTreesClassifier</td>\n",
       "      <td>{'bootstrap': False, 'ccp_alpha': 0.0, 'class_...</td>\n",
       "      <td>0.904769</td>\n",
       "      <td>0.926941</td>\n",
       "      <td>0.918552</td>\n",
       "    </tr>\n",
       "    <tr>\n",
       "      <th>4</th>\n",
       "      <td>200</td>\n",
       "      <td>KNeighborsClassifier</td>\n",
       "      <td>{'algorithm': 'auto', 'leaf_size': 30, 'metric...</td>\n",
       "      <td>0.914166</td>\n",
       "      <td>0.926941</td>\n",
       "      <td>0.918552</td>\n",
       "    </tr>\n",
       "    <tr>\n",
       "      <th>5</th>\n",
       "      <td>300</td>\n",
       "      <td>LinearSVC</td>\n",
       "      <td>{'C': 0.0001, 'class_weight': None, 'dual': Fa...</td>\n",
       "      <td>0.786713</td>\n",
       "      <td>0.904040</td>\n",
       "      <td>0.809955</td>\n",
       "    </tr>\n",
       "    <tr>\n",
       "      <th>6</th>\n",
       "      <td>500</td>\n",
       "      <td>KNeighborsClassifier</td>\n",
       "      <td>{'algorithm': 'auto', 'leaf_size': 30, 'metric...</td>\n",
       "      <td>0.872224</td>\n",
       "      <td>0.904040</td>\n",
       "      <td>0.809955</td>\n",
       "    </tr>\n",
       "    <tr>\n",
       "      <th>7</th>\n",
       "      <td>800</td>\n",
       "      <td>LogisticRegression</td>\n",
       "      <td>{'C': 0.001, 'class_weight': None, 'dual': Fal...</td>\n",
       "      <td>0.821511</td>\n",
       "      <td>0.904040</td>\n",
       "      <td>0.809955</td>\n",
       "    </tr>\n",
       "    <tr>\n",
       "      <th>8</th>\n",
       "      <td>1000</td>\n",
       "      <td>KNeighborsClassifier</td>\n",
       "      <td>{'algorithm': 'auto', 'leaf_size': 30, 'metric...</td>\n",
       "      <td>0.899060</td>\n",
       "      <td>0.904040</td>\n",
       "      <td>0.809955</td>\n",
       "    </tr>\n",
       "    <tr>\n",
       "      <th>9</th>\n",
       "      <td>1200</td>\n",
       "      <td>KNeighborsClassifier</td>\n",
       "      <td>{'algorithm': 'auto', 'leaf_size': 30, 'metric...</td>\n",
       "      <td>0.873373</td>\n",
       "      <td>0.904040</td>\n",
       "      <td>0.809955</td>\n",
       "    </tr>\n",
       "  </tbody>\n",
       "</table>\n",
       "</div>"
      ],
      "text/plain": [
       "   PCA Components              Model Name  \\\n",
       "0              10  RandomForestClassifier   \n",
       "1              20    ExtraTreesClassifier   \n",
       "2              50    ExtraTreesClassifier   \n",
       "3             100    ExtraTreesClassifier   \n",
       "4             200    KNeighborsClassifier   \n",
       "5             300               LinearSVC   \n",
       "6             500    KNeighborsClassifier   \n",
       "7             800      LogisticRegression   \n",
       "8            1000    KNeighborsClassifier   \n",
       "9            1200    KNeighborsClassifier   \n",
       "\n",
       "                                          Parameters       AUC  Precision  \\\n",
       "0  {'bootstrap': True, 'ccp_alpha': 0.0, 'class_w...  0.865855   0.926941   \n",
       "1  {'bootstrap': True, 'ccp_alpha': 0.0, 'class_w...  0.900731   0.926941   \n",
       "2  {'bootstrap': False, 'ccp_alpha': 0.0, 'class_...  0.897668   0.926941   \n",
       "3  {'bootstrap': False, 'ccp_alpha': 0.0, 'class_...  0.904769   0.926941   \n",
       "4  {'algorithm': 'auto', 'leaf_size': 30, 'metric...  0.914166   0.926941   \n",
       "5  {'C': 0.0001, 'class_weight': None, 'dual': Fa...  0.786713   0.904040   \n",
       "6  {'algorithm': 'auto', 'leaf_size': 30, 'metric...  0.872224   0.904040   \n",
       "7  {'C': 0.001, 'class_weight': None, 'dual': Fal...  0.821511   0.904040   \n",
       "8  {'algorithm': 'auto', 'leaf_size': 30, 'metric...  0.899060   0.904040   \n",
       "9  {'algorithm': 'auto', 'leaf_size': 30, 'metric...  0.873373   0.904040   \n",
       "\n",
       "     Recall  \n",
       "0  0.918552  \n",
       "1  0.918552  \n",
       "2  0.918552  \n",
       "3  0.918552  \n",
       "4  0.918552  \n",
       "5  0.809955  \n",
       "6  0.809955  \n",
       "7  0.809955  \n",
       "8  0.809955  \n",
       "9  0.809955  "
      ]
     },
     "execution_count": 9,
     "metadata": {},
     "output_type": "execute_result"
    }
   ],
   "source": [
    "# Convert results to DataFrame\n",
    "tpot_df = pd.DataFrame(tpot_results)\n",
    "tpot_df"
   ]
  },
  {
   "cell_type": "code",
   "execution_count": null,
   "metadata": {},
   "outputs": [],
   "source": []
  },
  {
   "cell_type": "code",
   "execution_count": 10,
   "metadata": {},
   "outputs": [
    {
     "data": {
      "image/png": "[encoded data removed]",
      "text/plain": [
       "<Figure size 640x480 with 1 Axes>"
      ]
     },
     "metadata": {},
     "output_type": "display_data"
    }
   ],
   "source": [
    "\n",
    "# Plot AUC scores against the number of PCA components\n",
    "plt.plot(tpot_df[\"PCA Components\"], tpot_df[\"AUC\"], marker='o')\n",
    "plt.xlabel('Number of PCA Components')\n",
    "plt.ylabel('AUC Score')\n",
    "plt.title('AUC Score vs. Number of PCA Components')\n",
    "plt.grid()\n",
    "plt.show()"
   ]
  },
  {
   "cell_type": "code",
   "execution_count": null,
   "metadata": {},
   "outputs": [],
   "source": []
  }
 ],
 "metadata": {
  "kernelspec": {
   "display_name": "dili",
   "language": "python",
   "name": "python3"
  },
  "language_info": {
   "codemirror_mode": {
    "name": "ipython",
    "version": 3
   },
   "file_extension": ".py",
   "mimetype": "text/x-python",
   "name": "python",
   "nbconvert_exporter": "python",
   "pygments_lexer": "ipython3",
   "version": "3.9.20"
  }
 },
 "nbformat": 4,
 "nbformat_minor": 2
}
