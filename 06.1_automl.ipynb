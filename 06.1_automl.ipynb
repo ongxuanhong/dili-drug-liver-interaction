{
 "cells": [
  {
   "cell_type": "code",
   "execution_count": 1,
   "metadata": {},
   "outputs": [],
   "source": [
    "import numpy as np\n",
    "import pandas as pd\n",
    "from sklearn.decomposition import PCA\n",
    "from sklearn.model_selection import train_test_split\n",
    "from sklearn.metrics import (\n",
    "    accuracy_score,\n",
    "    log_loss,\n",
    "    roc_auc_score,\n",
    "    precision_score,\n",
    "    recall_score,\n",
    "    confusion_matrix,\n",
    ")\n",
    "from tpot import TPOTClassifier\n",
    "import matplotlib.pyplot as plt"
   ]
  },
  {
   "cell_type": "code",
   "execution_count": 2,
   "metadata": {},
   "outputs": [
    {
     "name": "stdout",
     "output_type": "stream",
     "text": [
      "(1241, 16094)\n"
     ]
    }
   ],
   "source": [
    "# Load pd_train\n",
    "pd_train = pd.read_parquet(\"data/training_class.parquet\")\n",
    "pd_train[\"label\"] = pd_train[\"Class\"].apply(lambda x: 1 if x == \"Hepatotoxicity\" else 0)\n",
    "print(pd_train.shape)"
   ]
  },
  {
   "cell_type": "code",
   "execution_count": 3,
   "metadata": {},
   "outputs": [
    {
     "name": "stdout",
     "output_type": "stream",
     "text": [
      "(286, 16094)\n"
     ]
    }
   ],
   "source": [
    "# Load pd_test\n",
    "pd_test = pd.read_parquet(\"data/testing_class.parquet\")\n",
    "pd_test[\"label\"] = pd_test[\"Class\"].apply(lambda x: 1 if x == \"Hepatotoxicity\" else 0)\n",
    "print(pd_test.shape)"
   ]
  },
  {
   "cell_type": "code",
   "execution_count": null,
   "metadata": {},
   "outputs": [],
   "source": []
  },
  {
   "cell_type": "code",
   "execution_count": 4,
   "metadata": {},
   "outputs": [],
   "source": [
    "X_train = pd_train.drop(columns=[\"Class\", \"label\"])\n",
    "y_train = pd_train[\"label\"]\n",
    "\n",
    "X_test = pd_test.drop(columns=[\"Class\", \"label\"])\n",
    "y_test = pd_test[\"label\"]"
   ]
  },
  {
   "cell_type": "code",
   "execution_count": null,
   "metadata": {},
   "outputs": [],
   "source": []
  },
  {
   "cell_type": "markdown",
   "metadata": {},
   "source": [
    "# TPOT optimization"
   ]
  },
  {
   "cell_type": "code",
   "execution_count": 5,
   "metadata": {},
   "outputs": [
    {
     "name": "stderr",
     "output_type": "stream",
     "text": [
      "Version 0.12.1 of tpot is outdated. Version 0.12.2 was released Friday February 23, 2024.\n"
     ]
    },
    {
     "data": {
      "application/vnd.jupyter.widget-view+json": {
       "model_id": "905626c842e249ff96f980bc3501c1b8",
       "version_major": 2,
       "version_minor": 0
      },
      "text/plain": [
       "Optimization Progress:   0%|          | 0/120 [00:00<?, ?pipeline/s]"
      ]
     },
     "metadata": {},
     "output_type": "display_data"
    },
    {
     "name": "stdout",
     "output_type": "stream",
     "text": [
      "\n",
      "Generation 1 - Current best internal CV score: 0.7492814875999718\n",
      "\n",
      "Generation 2 - Current best internal CV score: 0.7492814875999718\n",
      "\n",
      "Generation 3 - Current best internal CV score: 0.7492814875999718\n",
      "\n",
      "Generation 4 - Current best internal CV score: 0.7492814875999718\n",
      "\n",
      "Generation 5 - Current best internal CV score: 0.7492814875999718\n",
      "\n",
      "Best pipeline: RandomForestClassifier(MinMaxScaler(input_matrix), bootstrap=True, criterion=gini, max_features=0.2, min_samples_leaf=8, min_samples_split=4, n_estimators=100)\n"
     ]
    },
    {
     "data": {
      "text/html": [
       "<style>#sk-container-id-1 {color: black;}#sk-container-id-1 pre{padding: 0;}#sk-container-id-1 div.sk-toggleable {background-color: white;}#sk-container-id-1 label.sk-toggleable__label {cursor: pointer;display: block;width: 100%;margin-bottom: 0;padding: 0.3em;box-sizing: border-box;text-align: center;}#sk-container-id-1 label.sk-toggleable__label-arrow:before {content: \"▸\";float: left;margin-right: 0.25em;color: #696969;}#sk-container-id-1 label.sk-toggleable__label-arrow:hover:before {color: black;}#sk-container-id-1 div.sk-estimator:hover label.sk-toggleable__label-arrow:before {color: black;}#sk-container-id-1 div.sk-toggleable__content {max-height: 0;max-width: 0;overflow: hidden;text-align: left;background-color: #f0f8ff;}#sk-container-id-1 div.sk-toggleable__content pre {margin: 0.2em;color: black;border-radius: 0.25em;background-color: #f0f8ff;}#sk-container-id-1 input.sk-toggleable__control:checked~div.sk-toggleable__content {max-height: 200px;max-width: 100%;overflow: auto;}#sk-container-id-1 input.sk-toggleable__control:checked~label.sk-toggleable__label-arrow:before {content: \"▾\";}#sk-container-id-1 div.sk-estimator input.sk-toggleable__control:checked~label.sk-toggleable__label {background-color: #d4ebff;}#sk-container-id-1 div.sk-label input.sk-toggleable__control:checked~label.sk-toggleable__label {background-color: #d4ebff;}#sk-container-id-1 input.sk-hidden--visually {border: 0;clip: rect(1px 1px 1px 1px);clip: rect(1px, 1px, 1px, 1px);height: 1px;margin: -1px;overflow: hidden;padding: 0;position: absolute;width: 1px;}#sk-container-id-1 div.sk-estimator {font-family: monospace;background-color: #f0f8ff;border: 1px dotted black;border-radius: 0.25em;box-sizing: border-box;margin-bottom: 0.5em;}#sk-container-id-1 div.sk-estimator:hover {background-color: #d4ebff;}#sk-container-id-1 div.sk-parallel-item::after {content: \"\";width: 100%;border-bottom: 1px solid gray;flex-grow: 1;}#sk-container-id-1 div.sk-label:hover label.sk-toggleable__label {background-color: #d4ebff;}#sk-container-id-1 div.sk-serial::before {content: \"\";position: absolute;border-left: 1px solid gray;box-sizing: border-box;top: 0;bottom: 0;left: 50%;z-index: 0;}#sk-container-id-1 div.sk-serial {display: flex;flex-direction: column;align-items: center;background-color: white;padding-right: 0.2em;padding-left: 0.2em;position: relative;}#sk-container-id-1 div.sk-item {position: relative;z-index: 1;}#sk-container-id-1 div.sk-parallel {display: flex;align-items: stretch;justify-content: center;background-color: white;position: relative;}#sk-container-id-1 div.sk-item::before, #sk-container-id-1 div.sk-parallel-item::before {content: \"\";position: absolute;border-left: 1px solid gray;box-sizing: border-box;top: 0;bottom: 0;left: 50%;z-index: -1;}#sk-container-id-1 div.sk-parallel-item {display: flex;flex-direction: column;z-index: 1;position: relative;background-color: white;}#sk-container-id-1 div.sk-parallel-item:first-child::after {align-self: flex-end;width: 50%;}#sk-container-id-1 div.sk-parallel-item:last-child::after {align-self: flex-start;width: 50%;}#sk-container-id-1 div.sk-parallel-item:only-child::after {width: 0;}#sk-container-id-1 div.sk-dashed-wrapped {border: 1px dashed gray;margin: 0 0.4em 0.5em 0.4em;box-sizing: border-box;padding-bottom: 0.4em;background-color: white;}#sk-container-id-1 div.sk-label label {font-family: monospace;font-weight: bold;display: inline-block;line-height: 1.2em;}#sk-container-id-1 div.sk-label-container {text-align: center;}#sk-container-id-1 div.sk-container {/* jupyter's `normalize.less` sets `[hidden] { display: none; }` but bootstrap.min.css set `[hidden] { display: none !important; }` so we also need the `!important` here to be able to override the default hidden behavior on the sphinx rendered scikit-learn.org. See: https://github.com/scikit-learn/scikit-learn/issues/21755 */display: inline-block !important;position: relative;}#sk-container-id-1 div.sk-text-repr-fallback {display: none;}</style><div id=\"sk-container-id-1\" class=\"sk-top-container\"><div class=\"sk-text-repr-fallback\"><pre>TPOTClassifier(generations=5, n_jobs=4, population_size=20, random_state=42,\n",
       "               scoring=&#x27;roc_auc&#x27;, verbosity=2)</pre><b>In a Jupyter environment, please rerun this cell to show the HTML representation or trust the notebook. <br />On GitHub, the HTML representation is unable to render, please try loading this page with nbviewer.org.</b></div><div class=\"sk-container\" hidden><div class=\"sk-item\"><div class=\"sk-estimator sk-toggleable\"><input class=\"sk-toggleable__control sk-hidden--visually\" id=\"sk-estimator-id-1\" type=\"checkbox\" checked><label for=\"sk-estimator-id-1\" class=\"sk-toggleable__label sk-toggleable__label-arrow\">TPOTClassifier</label><div class=\"sk-toggleable__content\"><pre>TPOTClassifier(generations=5, n_jobs=4, population_size=20, random_state=42,\n",
       "               scoring=&#x27;roc_auc&#x27;, verbosity=2)</pre></div></div></div></div></div>"
      ],
      "text/plain": [
       "TPOTClassifier(generations=5, n_jobs=4, population_size=20, random_state=42,\n",
       "               scoring='roc_auc', verbosity=2)"
      ]
     },
     "execution_count": 5,
     "metadata": {},
     "output_type": "execute_result"
    }
   ],
   "source": [
    "# Set up TPOT with basic configuration\n",
    "tpot = TPOTClassifier(\n",
    "    generations=5,\n",
    "    population_size=20,\n",
    "    verbosity=2,\n",
    "    scoring=\"roc_auc\",  # AUC\n",
    "    random_state=42,\n",
    "    n_jobs=4,  # Use 4 cores\n",
    ")\n",
    "\n",
    "# Fit the model\n",
    "tpot.fit(X_train, y_train)"
   ]
  },
  {
   "cell_type": "code",
   "execution_count": 6,
   "metadata": {},
   "outputs": [
    {
     "name": "stdout",
     "output_type": "stream",
     "text": [
      "Accuracy: 0.8146853146853147\n",
      "Log Loss: 0.47206500243926136\n",
      "AUC: 0.88771319178559\n"
     ]
    }
   ],
   "source": [
    "# Evaluate the best model found by TPOT\n",
    "y_pred = tpot.predict(X_test)\n",
    "y_pred_proba = tpot.predict_proba(X_test)[:, 1]\n",
    "\n",
    "# Print performance metrics\n",
    "print(\"Accuracy:\", accuracy_score(y_test, y_pred))\n",
    "print(\"Log Loss:\", log_loss(y_test, y_pred_proba))\n",
    "print(\"AUC:\", roc_auc_score(y_test, y_pred_proba))"
   ]
  },
  {
   "cell_type": "code",
   "execution_count": null,
   "metadata": {},
   "outputs": [],
   "source": []
  },
  {
   "cell_type": "markdown",
   "metadata": {},
   "source": [
    "# PCA optimization"
   ]
  },
  {
   "cell_type": "code",
   "execution_count": 2,
   "metadata": {},
   "outputs": [],
   "source": [
    "# # Example data (replace with actual data)\n",
    "# X = pd.DataFrame(\n",
    "#     np.random.randn(1000, 1600), columns=[f\"feature_{i}\" for i in range(1600)]\n",
    "# )\n",
    "# y = np.random.randint(2, size=1000)\n",
    "\n",
    "# # Split data into training and test sets\n",
    "# X_train, X_test, y_train, y_test = train_test_split(\n",
    "#     X, y, test_size=0.2, random_state=42\n",
    "# )\n",
    "\n",
    "# # Dimensions for PCA\n",
    "# dimensions = [10, 20, 50]\n",
    "# tpot_results = []  # List to store results"
   ]
  },
  {
   "cell_type": "code",
   "execution_count": 5,
   "metadata": {},
   "outputs": [
    {
     "data": {
      "application/vnd.jupyter.widget-view+json": {
       "model_id": "bd26a6cdbd2c407c9a05e14b604ddd80",
       "version_major": 2,
       "version_minor": 0
      },
      "text/plain": [
       "Optimization Progress:   0%|          | 0/120 [00:00<?, ?pipeline/s]"
      ]
     },
     "metadata": {},
     "output_type": "display_data"
    },
    {
     "name": "stdout",
     "output_type": "stream",
     "text": [
      "\n",
      "Generation 1 - Current best internal CV score: 0.7209535364007509\n",
      "\n",
      "Generation 2 - Current best internal CV score: 0.7209535364007509\n",
      "\n",
      "Generation 3 - Current best internal CV score: 0.7209535364007509\n",
      "\n",
      "Generation 4 - Current best internal CV score: 0.7209535364007509\n",
      "\n",
      "Generation 5 - Current best internal CV score: 0.7307687914137839\n",
      "\n",
      "Best pipeline: ExtraTreesClassifier(input_matrix, bootstrap=False, criterion=gini, max_features=0.55, min_samples_leaf=1, min_samples_split=17, n_estimators=100)\n",
      "{'Best model': Pipeline(steps=[('extratreesclassifier',\n",
      "                 ExtraTreesClassifier(max_features=0.55, min_samples_split=17,\n",
      "                                      random_state=42))]), 'PCA Components': 10, 'Model Name': 'ExtraTreesClassifier', 'Parameters': {'bootstrap': False, 'ccp_alpha': 0.0, 'class_weight': None, 'criterion': 'gini', 'max_depth': None, 'max_features': 0.55, 'max_leaf_nodes': None, 'max_samples': None, 'min_impurity_decrease': 0.0, 'min_samples_leaf': 1, 'min_samples_split': 17, 'min_weight_fraction_leaf': 0.0, 'monotonic_cst': None, 'n_estimators': 100, 'n_jobs': None, 'oob_score': False, 'random_state': 42, 'verbose': 0, 'warm_start': False}, 'AUC': 0.8603550295857988, 'Precision': 0.9117647058823529, 'Recall': 0.8416289592760181, 'Sensitivity': 0.8416289592760181, 'Specificity': 0.7230769230769231}\n"
     ]
    },
    {
     "data": {
      "application/vnd.jupyter.widget-view+json": {
       "model_id": "9486af4961ca4737a09714a05aa505e8",
       "version_major": 2,
       "version_minor": 0
      },
      "text/plain": [
       "Optimization Progress:   0%|          | 0/120 [00:00<?, ?pipeline/s]"
      ]
     },
     "metadata": {},
     "output_type": "display_data"
    },
    {
     "name": "stdout",
     "output_type": "stream",
     "text": [
      "\n",
      "Generation 1 - Current best internal CV score: 0.7257128292725652\n",
      "\n",
      "Generation 2 - Current best internal CV score: 0.7257128292725652\n",
      "\n",
      "Generation 3 - Current best internal CV score: 0.7324240096265375\n",
      "\n",
      "Generation 4 - Current best internal CV score: 0.7390708986297223\n",
      "\n",
      "Generation 5 - Current best internal CV score: 0.7396026751349585\n",
      "\n",
      "Best pipeline: ExtraTreesClassifier(input_matrix, bootstrap=False, criterion=entropy, max_features=0.9500000000000001, min_samples_leaf=1, min_samples_split=14, n_estimators=100)\n",
      "{'Best model': Pipeline(steps=[('extratreesclassifier',\n",
      "                 ExtraTreesClassifier(criterion='entropy',\n",
      "                                      max_features=0.9500000000000001,\n",
      "                                      min_samples_split=14, random_state=42))]), 'PCA Components': 20, 'Model Name': 'ExtraTreesClassifier', 'Parameters': {'bootstrap': False, 'ccp_alpha': 0.0, 'class_weight': None, 'criterion': 'entropy', 'max_depth': None, 'max_features': 0.9500000000000001, 'max_leaf_nodes': None, 'max_samples': None, 'min_impurity_decrease': 0.0, 'min_samples_leaf': 1, 'min_samples_split': 14, 'min_weight_fraction_leaf': 0.0, 'monotonic_cst': None, 'n_estimators': 100, 'n_jobs': None, 'oob_score': False, 'random_state': 42, 'verbose': 0, 'warm_start': False}, 'AUC': 0.9016359206404456, 'Precision': 0.9303482587064676, 'Recall': 0.8461538461538461, 'Sensitivity': 0.8461538461538461, 'Specificity': 0.7846153846153846}\n"
     ]
    },
    {
     "data": {
      "application/vnd.jupyter.widget-view+json": {
       "model_id": "7fbb1764908c4914af842c32e085b11a",
       "version_major": 2,
       "version_minor": 0
      },
      "text/plain": [
       "Optimization Progress:   0%|          | 0/120 [00:00<?, ?pipeline/s]"
      ]
     },
     "metadata": {},
     "output_type": "display_data"
    },
    {
     "name": "stdout",
     "output_type": "stream",
     "text": [
      "\n",
      "Generation 1 - Current best internal CV score: 0.7334913764282592\n",
      "\n",
      "Generation 2 - Current best internal CV score: 0.7375304498895632\n",
      "\n",
      "Generation 3 - Current best internal CV score: 0.7375304498895632\n",
      "\n",
      "Generation 4 - Current best internal CV score: 0.7375304498895632\n",
      "\n",
      "Generation 5 - Current best internal CV score: 0.7377875678038034\n",
      "\n",
      "Best pipeline: ExtraTreesClassifier(input_matrix, bootstrap=False, criterion=entropy, max_features=0.6500000000000001, min_samples_leaf=6, min_samples_split=9, n_estimators=100)\n",
      "{'Best model': Pipeline(steps=[('extratreesclassifier',\n",
      "                 ExtraTreesClassifier(criterion='entropy',\n",
      "                                      max_features=0.6500000000000001,\n",
      "                                      min_samples_leaf=6, min_samples_split=9,\n",
      "                                      random_state=42))]), 'PCA Components': 50, 'Model Name': 'ExtraTreesClassifier', 'Parameters': {'bootstrap': False, 'ccp_alpha': 0.0, 'class_weight': None, 'criterion': 'entropy', 'max_depth': None, 'max_features': 0.6500000000000001, 'max_leaf_nodes': None, 'max_samples': None, 'min_impurity_decrease': 0.0, 'min_samples_leaf': 6, 'min_samples_split': 9, 'min_weight_fraction_leaf': 0.0, 'monotonic_cst': None, 'n_estimators': 100, 'n_jobs': None, 'oob_score': False, 'random_state': 42, 'verbose': 0, 'warm_start': False}, 'AUC': 0.8996171249564914, 'Precision': 0.9198113207547169, 'Recall': 0.8823529411764706, 'Sensitivity': 0.8823529411764706, 'Specificity': 0.7384615384615385}\n"
     ]
    },
    {
     "data": {
      "application/vnd.jupyter.widget-view+json": {
       "model_id": "ae2fa577fddd46e5a4419e7f1aa602c9",
       "version_major": 2,
       "version_minor": 0
      },
      "text/plain": [
       "Optimization Progress:   0%|          | 0/120 [00:00<?, ?pipeline/s]"
      ]
     },
     "metadata": {},
     "output_type": "display_data"
    },
    {
     "name": "stdout",
     "output_type": "stream",
     "text": [
      "\n",
      "Generation 1 - Current best internal CV score: 0.723272868898003\n",
      "\n",
      "Generation 2 - Current best internal CV score: 0.726381723531788\n",
      "\n",
      "Generation 3 - Current best internal CV score: 0.7279259126712432\n",
      "\n",
      "Generation 4 - Current best internal CV score: 0.7279259126712432\n",
      "\n",
      "Generation 5 - Current best internal CV score: 0.7321324337586682\n",
      "\n",
      "Best pipeline: ExtraTreesClassifier(MinMaxScaler(input_matrix), bootstrap=False, criterion=gini, max_features=0.35000000000000003, min_samples_leaf=3, min_samples_split=13, n_estimators=100)\n",
      "{'Best model': Pipeline(steps=[('minmaxscaler', MinMaxScaler()),\n",
      "                ('extratreesclassifier',\n",
      "                 ExtraTreesClassifier(max_features=0.35000000000000003,\n",
      "                                      min_samples_leaf=3, min_samples_split=13,\n",
      "                                      random_state=42))]), 'PCA Components': 100, 'Model Name': 'ExtraTreesClassifier', 'Parameters': {'bootstrap': False, 'ccp_alpha': 0.0, 'class_weight': None, 'criterion': 'gini', 'max_depth': None, 'max_features': 0.35000000000000003, 'max_leaf_nodes': None, 'max_samples': None, 'min_impurity_decrease': 0.0, 'min_samples_leaf': 3, 'min_samples_split': 13, 'min_weight_fraction_leaf': 0.0, 'monotonic_cst': None, 'n_estimators': 100, 'n_jobs': None, 'oob_score': False, 'random_state': 42, 'verbose': 0, 'warm_start': False}, 'AUC': 0.9168813087365123, 'Precision': 0.9209302325581395, 'Recall': 0.8959276018099548, 'Sensitivity': 0.8959276018099548, 'Specificity': 0.7384615384615385}\n"
     ]
    },
    {
     "data": {
      "application/vnd.jupyter.widget-view+json": {
       "model_id": "c435134dd2164d7d9968309c977ff3eb",
       "version_major": 2,
       "version_minor": 0
      },
      "text/plain": [
       "Optimization Progress:   0%|          | 0/120 [00:00<?, ?pipeline/s]"
      ]
     },
     "metadata": {},
     "output_type": "display_data"
    },
    {
     "name": "stdout",
     "output_type": "stream",
     "text": [
      "\n",
      "Generation 1 - Current best internal CV score: 0.7165919480462337\n",
      "\n",
      "Generation 2 - Current best internal CV score: 0.7165919480462337\n",
      "\n",
      "Generation 3 - Current best internal CV score: 0.7165919480462337\n",
      "\n",
      "Generation 4 - Current best internal CV score: 0.7181313757748118\n",
      "\n",
      "Generation 5 - Current best internal CV score: 0.7187623518656822\n",
      "\n",
      "Best pipeline: KNeighborsClassifier(input_matrix, n_neighbors=4, p=2, weights=distance)\n",
      "{'Best model': Pipeline(steps=[('kneighborsclassifier',\n",
      "                 KNeighborsClassifier(n_neighbors=4, weights='distance'))]), 'PCA Components': 200, 'Model Name': 'KNeighborsClassifier', 'Parameters': {'algorithm': 'auto', 'leaf_size': 30, 'metric': 'minkowski', 'metric_params': None, 'n_jobs': None, 'n_neighbors': 4, 'p': 2, 'weights': 'distance'}, 'AUC': 0.8990602158022973, 'Precision': 0.9381443298969072, 'Recall': 0.8235294117647058, 'Sensitivity': 0.8235294117647058, 'Specificity': 0.8153846153846154}\n"
     ]
    },
    {
     "data": {
      "application/vnd.jupyter.widget-view+json": {
       "model_id": "4aa7be4f793144de9bb9d658b3b320fb",
       "version_major": 2,
       "version_minor": 0
      },
      "text/plain": [
       "Optimization Progress:   0%|          | 0/120 [00:00<?, ?pipeline/s]"
      ]
     },
     "metadata": {},
     "output_type": "display_data"
    },
    {
     "name": "stdout",
     "output_type": "stream",
     "text": [
      "\n",
      "Generation 1 - Current best internal CV score: 0.711734765851004\n",
      "\n",
      "Generation 2 - Current best internal CV score: 0.711734765851004\n",
      "\n",
      "Generation 3 - Current best internal CV score: 0.711734765851004\n",
      "\n",
      "Generation 4 - Current best internal CV score: 0.711734765851004\n",
      "\n",
      "Generation 5 - Current best internal CV score: 0.711734765851004\n",
      "\n",
      "Best pipeline: KNeighborsClassifier(input_matrix, n_neighbors=3, p=1, weights=distance)\n",
      "{'Best model': Pipeline(steps=[('kneighborsclassifier',\n",
      "                 KNeighborsClassifier(n_neighbors=3, p=1, weights='distance'))]), 'PCA Components': 300, 'Model Name': 'KNeighborsClassifier', 'Parameters': {'algorithm': 'auto', 'leaf_size': 30, 'metric': 'minkowski', 'metric_params': None, 'n_jobs': None, 'n_neighbors': 3, 'p': 1, 'weights': 'distance'}, 'AUC': 0.8780368952314652, 'Precision': 0.9306930693069307, 'Recall': 0.8506787330316742, 'Sensitivity': 0.8506787330316742, 'Specificity': 0.7846153846153846}\n"
     ]
    },
    {
     "data": {
      "application/vnd.jupyter.widget-view+json": {
       "model_id": "90b3a3a2dd9a47daa21115a34fcc9a5a",
       "version_major": 2,
       "version_minor": 0
      },
      "text/plain": [
       "Optimization Progress:   0%|          | 0/120 [00:00<?, ?pipeline/s]"
      ]
     },
     "metadata": {},
     "output_type": "display_data"
    },
    {
     "name": "stdout",
     "output_type": "stream",
     "text": [
      "\n",
      "Generation 1 - Current best internal CV score: 0.7164003328817226\n",
      "\n",
      "Generation 2 - Current best internal CV score: 0.7164003328817226\n",
      "\n",
      "Generation 3 - Current best internal CV score: 0.7164003328817226\n",
      "\n",
      "Generation 4 - Current best internal CV score: 0.7164003328817226\n",
      "\n",
      "Generation 5 - Current best internal CV score: 0.7169865312469434\n",
      "\n",
      "Best pipeline: KNeighborsClassifier(KNeighborsClassifier(input_matrix, n_neighbors=20, p=2, weights=distance), n_neighbors=3, p=1, weights=distance)\n",
      "{'Best model': Pipeline(steps=[('stackingestimator',\n",
      "                 StackingEstimator(estimator=KNeighborsClassifier(n_neighbors=20,\n",
      "                                                                  weights='distance'))),\n",
      "                ('kneighborsclassifier',\n",
      "                 KNeighborsClassifier(n_neighbors=3, p=1, weights='distance'))]), 'PCA Components': 500, 'Model Name': 'KNeighborsClassifier', 'Parameters': {'algorithm': 'auto', 'leaf_size': 30, 'metric': 'minkowski', 'metric_params': None, 'n_jobs': None, 'n_neighbors': 3, 'p': 1, 'weights': 'distance'}, 'AUC': 0.8794987817612252, 'Precision': 0.9384615384615385, 'Recall': 0.8280542986425339, 'Sensitivity': 0.8280542986425339, 'Specificity': 0.8153846153846154}\n"
     ]
    },
    {
     "data": {
      "application/vnd.jupyter.widget-view+json": {
       "model_id": "0098ff46140a4268b1294a63e08098b0",
       "version_major": 2,
       "version_minor": 0
      },
      "text/plain": [
       "Optimization Progress:   0%|          | 0/120 [00:00<?, ?pipeline/s]"
      ]
     },
     "metadata": {},
     "output_type": "display_data"
    },
    {
     "name": "stdout",
     "output_type": "stream",
     "text": [
      "\n",
      "Generation 1 - Current best internal CV score: 0.7171223119722342\n",
      "\n",
      "Generation 2 - Current best internal CV score: 0.7171223119722342\n",
      "\n",
      "Generation 3 - Current best internal CV score: 0.7171223119722342\n",
      "\n",
      "Generation 4 - Current best internal CV score: 0.7171223119722342\n",
      "\n",
      "Generation 5 - Current best internal CV score: 0.7171223119722342\n",
      "\n",
      "Best pipeline: KNeighborsClassifier(input_matrix, n_neighbors=3, p=2, weights=distance)\n",
      "{'Best model': Pipeline(steps=[('kneighborsclassifier',\n",
      "                 KNeighborsClassifier(n_neighbors=3, weights='distance'))]), 'PCA Components': 800, 'Model Name': 'KNeighborsClassifier', 'Parameters': {'algorithm': 'auto', 'leaf_size': 30, 'metric': 'minkowski', 'metric_params': None, 'n_jobs': None, 'n_neighbors': 3, 'p': 2, 'weights': 'distance'}, 'AUC': 0.8666202575704838, 'Precision': 0.9361702127659575, 'Recall': 0.7963800904977375, 'Sensitivity': 0.7963800904977375, 'Specificity': 0.8153846153846154}\n"
     ]
    },
    {
     "data": {
      "application/vnd.jupyter.widget-view+json": {
       "model_id": "005ef3c7f47d4dd7b1143fae38ebb74e",
       "version_major": 2,
       "version_minor": 0
      },
      "text/plain": [
       "Optimization Progress:   0%|          | 0/120 [00:00<?, ?pipeline/s]"
      ]
     },
     "metadata": {},
     "output_type": "display_data"
    },
    {
     "name": "stdout",
     "output_type": "stream",
     "text": [
      "\n",
      "Generation 1 - Current best internal CV score: 0.7120304041793281\n",
      "\n",
      "Generation 2 - Current best internal CV score: 0.7120304041793281\n",
      "\n",
      "Generation 3 - Current best internal CV score: 0.7120304041793281\n",
      "\n",
      "Generation 4 - Current best internal CV score: 0.7138531783792627\n",
      "\n",
      "Generation 5 - Current best internal CV score: 0.7138531783792627\n",
      "\n",
      "Best pipeline: KNeighborsClassifier(input_matrix, n_neighbors=7, p=2, weights=distance)\n",
      "{'Best model': Pipeline(steps=[('kneighborsclassifier',\n",
      "                 KNeighborsClassifier(n_neighbors=7, weights='distance'))]), 'PCA Components': 1000, 'Model Name': 'KNeighborsClassifier', 'Parameters': {'algorithm': 'auto', 'leaf_size': 30, 'metric': 'minkowski', 'metric_params': None, 'n_jobs': None, 'n_neighbors': 7, 'p': 2, 'weights': 'distance'}, 'AUC': 0.8990602158022972, 'Precision': 0.9384615384615385, 'Recall': 0.8280542986425339, 'Sensitivity': 0.8280542986425339, 'Specificity': 0.8153846153846154}\n"
     ]
    },
    {
     "data": {
      "application/vnd.jupyter.widget-view+json": {
       "model_id": "c41618b6045043d48165c4c5d8844867",
       "version_major": 2,
       "version_minor": 0
      },
      "text/plain": [
       "Optimization Progress:   0%|          | 0/120 [00:00<?, ?pipeline/s]"
      ]
     },
     "metadata": {},
     "output_type": "display_data"
    },
    {
     "name": "stdout",
     "output_type": "stream",
     "text": [
      "\n",
      "Generation 1 - Current best internal CV score: 0.7023357969026041\n",
      "\n",
      "Generation 2 - Current best internal CV score: 0.7147752813519371\n",
      "\n",
      "Generation 3 - Current best internal CV score: 0.7156608213170849\n",
      "\n",
      "Generation 4 - Current best internal CV score: 0.7156608213170849\n",
      "\n",
      "Generation 5 - Current best internal CV score: 0.7156608213170849\n",
      "\n",
      "Best pipeline: KNeighborsClassifier(GaussianNB(input_matrix), n_neighbors=3, p=2, weights=distance)\n",
      "{'Best model': Pipeline(steps=[('stackingestimator',\n",
      "                 StackingEstimator(estimator=GaussianNB())),\n",
      "                ('kneighborsclassifier',\n",
      "                 KNeighborsClassifier(n_neighbors=3, weights='distance'))]), 'PCA Components': 1200, 'Model Name': 'KNeighborsClassifier', 'Parameters': {'algorithm': 'auto', 'leaf_size': 30, 'metric': 'minkowski', 'metric_params': None, 'n_jobs': None, 'n_neighbors': 3, 'p': 2, 'weights': 'distance'}, 'AUC': 0.8733727810650888, 'Precision': 0.9368421052631579, 'Recall': 0.8054298642533937, 'Sensitivity': 0.8054298642533937, 'Specificity': 0.8153846153846154}\n"
     ]
    }
   ],
   "source": [
    "# List to store AUC scores for different PCA dimensions\n",
    "# dimensions = range(100, 500, 100)  # Check PCA dimensions from 1 to 10\n",
    "dimensions = [10, 20, 50, 100, 200, 300, 500, 800, 1000, 1200]\n",
    "# dimensions = [10, 20, 50]\n",
    "tpot_results = []  # List to store results\n",
    "\n",
    "# Loop over different numbers of PCA components\n",
    "for n_components in dimensions:\n",
    "    # Apply PCA\n",
    "    pca = PCA(n_components=n_components)\n",
    "    X_train_pca = pca.fit_transform(X_train)\n",
    "    X_test_pca = pca.transform(X_test)\n",
    "\n",
    "    # Set up TPOT with basic configuration\n",
    "    tpot = TPOTClassifier(\n",
    "        generations=5,\n",
    "        population_size=20,\n",
    "        verbosity=2,\n",
    "        scoring=\"roc_auc\",  # AUC\n",
    "        random_state=42,\n",
    "        n_jobs=12,  # Use 4 cores\n",
    "    )\n",
    "\n",
    "    # Fit TPOT on the PCA-transformed data\n",
    "    tpot.fit(X_train_pca, y_train)\n",
    "\n",
    "    # Access the best pipeline directly after fitting\n",
    "    best_pipeline = tpot.fitted_pipeline_\n",
    "\n",
    "    # Check if the model has predict_proba\n",
    "    if hasattr(best_pipeline, \"predict_proba\"):\n",
    "        y_pred = best_pipeline.predict_proba(X_test_pca)[:, 1]\n",
    "        auc = roc_auc_score(y_test, y_pred)\n",
    "    else:\n",
    "        # Fallback to accuracy if predict_proba is unavailable\n",
    "        y_pred = best_pipeline.predict(X_test_pca)\n",
    "        auc = accuracy_score(\n",
    "            y_test, y_pred\n",
    "        )  # Substitute with accuracy if AUC can't be calculated\n",
    "\n",
    "    y_pred = (y_pred > 0.5).astype(int)  # Binarize predictions for threshold of 0.5\n",
    "    precision = precision_score(y_test, y_pred)\n",
    "    recall = recall_score(y_test, y_pred)  # Same as sensitivity for positive class\n",
    "\n",
    "    # Calculate sensitivity and specificity\n",
    "    tn, fp, fn, tp = confusion_matrix(y_test, y_pred).ravel()\n",
    "    sensitivity = tp / (tp + fn) if (tp + fn) > 0 else 0\n",
    "    specificity = tn / (tn + fp) if (tn + fp) > 0 else 0\n",
    "\n",
    "    # Extract model name and parameters\n",
    "    model_name = type(\n",
    "        best_pipeline.steps[-1][1]\n",
    "    ).__name__  # Name of the final estimator\n",
    "    model_params = best_pipeline.steps[-1][\n",
    "        1\n",
    "    ].get_params()  # Params of the final estimator\n",
    "\n",
    "    # Append results to list\n",
    "    result = {\n",
    "        \"Best model\": best_pipeline,\n",
    "        \"PCA Components\": n_components,\n",
    "        \"Model Name\": model_name,\n",
    "        \"Parameters\": model_params,\n",
    "        \"AUC\": auc,\n",
    "        \"Precision\": precision,\n",
    "        \"Recall\": recall,\n",
    "        \"Sensitivity\": sensitivity,\n",
    "        \"Specificity\": specificity,\n",
    "    }\n",
    "    tpot_results.append(result)\n",
    "\n",
    "    print(result)"
   ]
  },
  {
   "cell_type": "code",
   "execution_count": null,
   "metadata": {},
   "outputs": [],
   "source": []
  },
  {
   "cell_type": "code",
   "execution_count": 6,
   "metadata": {},
   "outputs": [
    {
     "data": {
      "text/html": [
       "<div>\n",
       "<style scoped>\n",
       "    .dataframe tbody tr th:only-of-type {\n",
       "        vertical-align: middle;\n",
       "    }\n",
       "\n",
       "    .dataframe tbody tr th {\n",
       "        vertical-align: top;\n",
       "    }\n",
       "\n",
       "    .dataframe thead th {\n",
       "        text-align: right;\n",
       "    }\n",
       "</style>\n",
       "<table border=\"1\" class=\"dataframe\">\n",
       "  <thead>\n",
       "    <tr style=\"text-align: right;\">\n",
       "      <th></th>\n",
       "      <th>Best model</th>\n",
       "      <th>PCA Components</th>\n",
       "      <th>Model Name</th>\n",
       "      <th>Parameters</th>\n",
       "      <th>AUC</th>\n",
       "      <th>Precision</th>\n",
       "      <th>Recall</th>\n",
       "      <th>Sensitivity</th>\n",
       "      <th>Specificity</th>\n",
       "    </tr>\n",
       "  </thead>\n",
       "  <tbody>\n",
       "    <tr>\n",
       "      <th>0</th>\n",
       "      <td>((ExtraTreeClassifier(max_features=0.55, min_s...</td>\n",
       "      <td>10</td>\n",
       "      <td>ExtraTreesClassifier</td>\n",
       "      <td>{'bootstrap': False, 'ccp_alpha': 0.0, 'class_...</td>\n",
       "      <td>0.860355</td>\n",
       "      <td>0.911765</td>\n",
       "      <td>0.841629</td>\n",
       "      <td>0.841629</td>\n",
       "      <td>0.723077</td>\n",
       "    </tr>\n",
       "    <tr>\n",
       "      <th>1</th>\n",
       "      <td>((ExtraTreeClassifier(criterion='entropy', max...</td>\n",
       "      <td>20</td>\n",
       "      <td>ExtraTreesClassifier</td>\n",
       "      <td>{'bootstrap': False, 'ccp_alpha': 0.0, 'class_...</td>\n",
       "      <td>0.901636</td>\n",
       "      <td>0.930348</td>\n",
       "      <td>0.846154</td>\n",
       "      <td>0.846154</td>\n",
       "      <td>0.784615</td>\n",
       "    </tr>\n",
       "    <tr>\n",
       "      <th>2</th>\n",
       "      <td>((ExtraTreeClassifier(criterion='entropy', max...</td>\n",
       "      <td>50</td>\n",
       "      <td>ExtraTreesClassifier</td>\n",
       "      <td>{'bootstrap': False, 'ccp_alpha': 0.0, 'class_...</td>\n",
       "      <td>0.899617</td>\n",
       "      <td>0.919811</td>\n",
       "      <td>0.882353</td>\n",
       "      <td>0.882353</td>\n",
       "      <td>0.738462</td>\n",
       "    </tr>\n",
       "    <tr>\n",
       "      <th>3</th>\n",
       "      <td>(MinMaxScaler(), (ExtraTreeClassifier(max_feat...</td>\n",
       "      <td>100</td>\n",
       "      <td>ExtraTreesClassifier</td>\n",
       "      <td>{'bootstrap': False, 'ccp_alpha': 0.0, 'class_...</td>\n",
       "      <td>0.916881</td>\n",
       "      <td>0.920930</td>\n",
       "      <td>0.895928</td>\n",
       "      <td>0.895928</td>\n",
       "      <td>0.738462</td>\n",
       "    </tr>\n",
       "    <tr>\n",
       "      <th>4</th>\n",
       "      <td>(KNeighborsClassifier(n_neighbors=4, weights='...</td>\n",
       "      <td>200</td>\n",
       "      <td>KNeighborsClassifier</td>\n",
       "      <td>{'algorithm': 'auto', 'leaf_size': 30, 'metric...</td>\n",
       "      <td>0.899060</td>\n",
       "      <td>0.938144</td>\n",
       "      <td>0.823529</td>\n",
       "      <td>0.823529</td>\n",
       "      <td>0.815385</td>\n",
       "    </tr>\n",
       "    <tr>\n",
       "      <th>5</th>\n",
       "      <td>(KNeighborsClassifier(n_neighbors=3, p=1, weig...</td>\n",
       "      <td>300</td>\n",
       "      <td>KNeighborsClassifier</td>\n",
       "      <td>{'algorithm': 'auto', 'leaf_size': 30, 'metric...</td>\n",
       "      <td>0.878037</td>\n",
       "      <td>0.930693</td>\n",
       "      <td>0.850679</td>\n",
       "      <td>0.850679</td>\n",
       "      <td>0.784615</td>\n",
       "    </tr>\n",
       "    <tr>\n",
       "      <th>6</th>\n",
       "      <td>(StackingEstimator(estimator=KNeighborsClassif...</td>\n",
       "      <td>500</td>\n",
       "      <td>KNeighborsClassifier</td>\n",
       "      <td>{'algorithm': 'auto', 'leaf_size': 30, 'metric...</td>\n",
       "      <td>0.879499</td>\n",
       "      <td>0.938462</td>\n",
       "      <td>0.828054</td>\n",
       "      <td>0.828054</td>\n",
       "      <td>0.815385</td>\n",
       "    </tr>\n",
       "    <tr>\n",
       "      <th>7</th>\n",
       "      <td>(KNeighborsClassifier(n_neighbors=3, weights='...</td>\n",
       "      <td>800</td>\n",
       "      <td>KNeighborsClassifier</td>\n",
       "      <td>{'algorithm': 'auto', 'leaf_size': 30, 'metric...</td>\n",
       "      <td>0.866620</td>\n",
       "      <td>0.936170</td>\n",
       "      <td>0.796380</td>\n",
       "      <td>0.796380</td>\n",
       "      <td>0.815385</td>\n",
       "    </tr>\n",
       "    <tr>\n",
       "      <th>8</th>\n",
       "      <td>(KNeighborsClassifier(n_neighbors=7, weights='...</td>\n",
       "      <td>1000</td>\n",
       "      <td>KNeighborsClassifier</td>\n",
       "      <td>{'algorithm': 'auto', 'leaf_size': 30, 'metric...</td>\n",
       "      <td>0.899060</td>\n",
       "      <td>0.938462</td>\n",
       "      <td>0.828054</td>\n",
       "      <td>0.828054</td>\n",
       "      <td>0.815385</td>\n",
       "    </tr>\n",
       "    <tr>\n",
       "      <th>9</th>\n",
       "      <td>(StackingEstimator(estimator=GaussianNB()), KN...</td>\n",
       "      <td>1200</td>\n",
       "      <td>KNeighborsClassifier</td>\n",
       "      <td>{'algorithm': 'auto', 'leaf_size': 30, 'metric...</td>\n",
       "      <td>0.873373</td>\n",
       "      <td>0.936842</td>\n",
       "      <td>0.805430</td>\n",
       "      <td>0.805430</td>\n",
       "      <td>0.815385</td>\n",
       "    </tr>\n",
       "  </tbody>\n",
       "</table>\n",
       "</div>"
      ],
      "text/plain": [
       "                                          Best model  PCA Components  \\\n",
       "0  ((ExtraTreeClassifier(max_features=0.55, min_s...              10   \n",
       "1  ((ExtraTreeClassifier(criterion='entropy', max...              20   \n",
       "2  ((ExtraTreeClassifier(criterion='entropy', max...              50   \n",
       "3  (MinMaxScaler(), (ExtraTreeClassifier(max_feat...             100   \n",
       "4  (KNeighborsClassifier(n_neighbors=4, weights='...             200   \n",
       "5  (KNeighborsClassifier(n_neighbors=3, p=1, weig...             300   \n",
       "6  (StackingEstimator(estimator=KNeighborsClassif...             500   \n",
       "7  (KNeighborsClassifier(n_neighbors=3, weights='...             800   \n",
       "8  (KNeighborsClassifier(n_neighbors=7, weights='...            1000   \n",
       "9  (StackingEstimator(estimator=GaussianNB()), KN...            1200   \n",
       "\n",
       "             Model Name                                         Parameters  \\\n",
       "0  ExtraTreesClassifier  {'bootstrap': False, 'ccp_alpha': 0.0, 'class_...   \n",
       "1  ExtraTreesClassifier  {'bootstrap': False, 'ccp_alpha': 0.0, 'class_...   \n",
       "2  ExtraTreesClassifier  {'bootstrap': False, 'ccp_alpha': 0.0, 'class_...   \n",
       "3  ExtraTreesClassifier  {'bootstrap': False, 'ccp_alpha': 0.0, 'class_...   \n",
       "4  KNeighborsClassifier  {'algorithm': 'auto', 'leaf_size': 30, 'metric...   \n",
       "5  KNeighborsClassifier  {'algorithm': 'auto', 'leaf_size': 30, 'metric...   \n",
       "6  KNeighborsClassifier  {'algorithm': 'auto', 'leaf_size': 30, 'metric...   \n",
       "7  KNeighborsClassifier  {'algorithm': 'auto', 'leaf_size': 30, 'metric...   \n",
       "8  KNeighborsClassifier  {'algorithm': 'auto', 'leaf_size': 30, 'metric...   \n",
       "9  KNeighborsClassifier  {'algorithm': 'auto', 'leaf_size': 30, 'metric...   \n",
       "\n",
       "        AUC  Precision    Recall  Sensitivity  Specificity  \n",
       "0  0.860355   0.911765  0.841629     0.841629     0.723077  \n",
       "1  0.901636   0.930348  0.846154     0.846154     0.784615  \n",
       "2  0.899617   0.919811  0.882353     0.882353     0.738462  \n",
       "3  0.916881   0.920930  0.895928     0.895928     0.738462  \n",
       "4  0.899060   0.938144  0.823529     0.823529     0.815385  \n",
       "5  0.878037   0.930693  0.850679     0.850679     0.784615  \n",
       "6  0.879499   0.938462  0.828054     0.828054     0.815385  \n",
       "7  0.866620   0.936170  0.796380     0.796380     0.815385  \n",
       "8  0.899060   0.938462  0.828054     0.828054     0.815385  \n",
       "9  0.873373   0.936842  0.805430     0.805430     0.815385  "
      ]
     },
     "execution_count": 6,
     "metadata": {},
     "output_type": "execute_result"
    }
   ],
   "source": [
    "# Convert results to DataFrame\n",
    "tpot_df = pd.DataFrame(tpot_results)\n",
    "tpot_df"
   ]
  },
  {
   "cell_type": "code",
   "execution_count": 7,
   "metadata": {},
   "outputs": [
    {
     "name": "stdout",
     "output_type": "stream",
     "text": [
      "Results saved to tpot_results.joblib\n"
     ]
    }
   ],
   "source": [
    "import joblib\n",
    "\n",
    "# Save results using Joblib\n",
    "joblib.dump(tpot_results, \"models/tpot_results.joblib\")\n",
    "print(\"Results saved to tpot_results.joblib\")\n",
    "\n",
    "# # Optionally, load the results back\n",
    "# loaded_results = joblib.load(\"models/tpot_results.joblib\")\n",
    "# print(\"Loaded Results:\", loaded_results)"
   ]
  },
  {
   "cell_type": "code",
   "execution_count": null,
   "metadata": {},
   "outputs": [],
   "source": []
  },
  {
   "cell_type": "code",
   "execution_count": 8,
   "metadata": {},
   "outputs": [
    {
     "data": {
      "image/png": "[encoded data removed]",
      "text/plain": [
       "<Figure size 640x480 with 1 Axes>"
      ]
     },
     "metadata": {},
     "output_type": "display_data"
    }
   ],
   "source": [
    "# Plot AUC scores against the number of PCA components\n",
    "plt.plot(tpot_df[\"PCA Components\"], tpot_df[\"AUC\"], marker=\"o\")\n",
    "plt.xlabel(\"Number of PCA Components\")\n",
    "plt.ylabel(\"AUC Score\")\n",
    "plt.title(\"AUC Score vs. Number of PCA Components\")\n",
    "plt.grid()\n",
    "plt.show()"
   ]
  },
  {
   "cell_type": "code",
   "execution_count": null,
   "metadata": {},
   "outputs": [],
   "source": []
  }
 ],
 "metadata": {
  "kernelspec": {
   "display_name": "dili",
   "language": "python",
   "name": "python3"
  },
  "language_info": {
   "codemirror_mode": {
    "name": "ipython",
    "version": 3
   },
   "file_extension": ".py",
   "mimetype": "text/x-python",
   "name": "python",
   "nbconvert_exporter": "python",
   "pygments_lexer": "ipython3",
   "version": "3.8.19"
  }
 },
 "nbformat": 4,
 "nbformat_minor": 2
}
