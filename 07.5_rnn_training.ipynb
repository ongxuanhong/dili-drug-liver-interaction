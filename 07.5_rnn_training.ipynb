{
 "cells": [
  {
   "cell_type": "code",
   "execution_count": 55,
   "metadata": {},
   "outputs": [],
   "source": [
    "from sklearn.model_selection import train_test_split\n",
    "import torch\n",
    "from torch.utils.data import Dataset, DataLoader\n",
    "import numpy as np\n",
    "import pandas as pd\n",
    "import torch.nn as nn\n",
    "import torch.optim as optim\n",
    "import optuna\n",
    "\n",
    "from sklearn.metrics import (\n",
    "    roc_auc_score,\n",
    "    precision_score,\n",
    "    recall_score,\n",
    "    confusion_matrix,\n",
    "    f1_score,\n",
    ")\n",
    "\n",
    "import joblib"
   ]
  },
  {
   "cell_type": "code",
   "execution_count": 2,
   "metadata": {},
   "outputs": [
    {
     "name": "stdout",
     "output_type": "stream",
     "text": [
      "Using device: cuda\n"
     ]
    }
   ],
   "source": [
    "# Check if a GPU is available\n",
    "device = torch.device(\"cuda\" if torch.cuda.is_available() else \"cpu\")\n",
    "print(f\"Using device: {device}\")"
   ]
  },
  {
   "cell_type": "code",
   "execution_count": 3,
   "metadata": {},
   "outputs": [],
   "source": [
    "# set seed for reproducibility\n",
    "random_state = 42\n",
    "np.random.seed(random_state)\n",
    "torch.manual_seed(random_state)\n",
    "if torch.cuda.is_available():\n",
    "    torch.cuda.manual_seed(random_state)"
   ]
  },
  {
   "cell_type": "code",
   "execution_count": null,
   "metadata": {},
   "outputs": [],
   "source": []
  },
  {
   "cell_type": "markdown",
   "metadata": {},
   "source": [
    "# Data preparation"
   ]
  },
  {
   "cell_type": "code",
   "execution_count": 15,
   "metadata": {},
   "outputs": [
    {
     "name": "stdout",
     "output_type": "stream",
     "text": [
      "(1241, 3)\n"
     ]
    },
    {
     "data": {
      "text/html": [
       "<div>\n",
       "<style scoped>\n",
       "    .dataframe tbody tr th:only-of-type {\n",
       "        vertical-align: middle;\n",
       "    }\n",
       "\n",
       "    .dataframe tbody tr th {\n",
       "        vertical-align: top;\n",
       "    }\n",
       "\n",
       "    .dataframe thead th {\n",
       "        text-align: right;\n",
       "    }\n",
       "</style>\n",
       "<table border=\"1\" class=\"dataframe\">\n",
       "  <thead>\n",
       "    <tr style=\"text-align: right;\">\n",
       "      <th></th>\n",
       "      <th>Smiles</th>\n",
       "      <th>Liver</th>\n",
       "      <th>label</th>\n",
       "    </tr>\n",
       "  </thead>\n",
       "  <tbody>\n",
       "    <tr>\n",
       "      <th>0</th>\n",
       "      <td>S=C=Nc1c2c(ccc1)cccc2</td>\n",
       "      <td>Hepatotoxicity</td>\n",
       "      <td>1</td>\n",
       "    </tr>\n",
       "    <tr>\n",
       "      <th>1</th>\n",
       "      <td>c1(c(cc(cc1[N+](=O)[O-])[N+](=O)[O-])[N+](=O)[...</td>\n",
       "      <td>Hepatotoxicity</td>\n",
       "      <td>1</td>\n",
       "    </tr>\n",
       "    <tr>\n",
       "      <th>2</th>\n",
       "      <td>c1(c(cc(cc1)[N+](=O)[O-])[N+](=O)[O-])O</td>\n",
       "      <td>Hepatotoxicity</td>\n",
       "      <td>1</td>\n",
       "    </tr>\n",
       "    <tr>\n",
       "      <th>3</th>\n",
       "      <td>O(CCO)CC</td>\n",
       "      <td>Hepatotoxicity</td>\n",
       "      <td>1</td>\n",
       "    </tr>\n",
       "    <tr>\n",
       "      <th>4</th>\n",
       "      <td>Oc1cc2c(cc1)cccc2</td>\n",
       "      <td>Hepatotoxicity</td>\n",
       "      <td>1</td>\n",
       "    </tr>\n",
       "  </tbody>\n",
       "</table>\n",
       "</div>"
      ],
      "text/plain": [
       "                                              Smiles           Liver  label\n",
       "0                              S=C=Nc1c2c(ccc1)cccc2  Hepatotoxicity      1\n",
       "1  c1(c(cc(cc1[N+](=O)[O-])[N+](=O)[O-])[N+](=O)[...  Hepatotoxicity      1\n",
       "2            c1(c(cc(cc1)[N+](=O)[O-])[N+](=O)[O-])O  Hepatotoxicity      1\n",
       "3                                           O(CCO)CC  Hepatotoxicity      1\n",
       "4                                  Oc1cc2c(cc1)cccc2  Hepatotoxicity      1"
      ]
     },
     "execution_count": 15,
     "metadata": {},
     "output_type": "execute_result"
    }
   ],
   "source": [
    "# Load pd_train\n",
    "pd_train = pd.read_csv(\"data_smiles/Training_Group.csv\")\n",
    "pd_train[\"label\"] = pd_train[\"Liver\"].apply(lambda x: 1 if x == \"Hepatotoxicity\" else 0)\n",
    "print(pd_train.shape)\n",
    "pd_train.head()"
   ]
  },
  {
   "cell_type": "code",
   "execution_count": 6,
   "metadata": {},
   "outputs": [
    {
     "name": "stdout",
     "output_type": "stream",
     "text": [
      "(286, 3)\n"
     ]
    },
    {
     "data": {
      "text/html": [
       "<div>\n",
       "<style scoped>\n",
       "    .dataframe tbody tr th:only-of-type {\n",
       "        vertical-align: middle;\n",
       "    }\n",
       "\n",
       "    .dataframe tbody tr th {\n",
       "        vertical-align: top;\n",
       "    }\n",
       "\n",
       "    .dataframe thead th {\n",
       "        text-align: right;\n",
       "    }\n",
       "</style>\n",
       "<table border=\"1\" class=\"dataframe\">\n",
       "  <thead>\n",
       "    <tr style=\"text-align: right;\">\n",
       "      <th></th>\n",
       "      <th>Smiles</th>\n",
       "      <th>Liver</th>\n",
       "      <th>label</th>\n",
       "    </tr>\n",
       "  </thead>\n",
       "  <tbody>\n",
       "    <tr>\n",
       "      <th>0</th>\n",
       "      <td>C[C@@H](C(=O)N[C@@H](C)C(=O)NC1[C@H]2[C@@H]1CN...</td>\n",
       "      <td>Hepatotoxicity</td>\n",
       "      <td>1</td>\n",
       "    </tr>\n",
       "    <tr>\n",
       "      <th>1</th>\n",
       "      <td>C=CCOC1=C(C=C(C=C1)CC(=O)O)Cl</td>\n",
       "      <td>Hepatotoxicity</td>\n",
       "      <td>1</td>\n",
       "    </tr>\n",
       "    <tr>\n",
       "      <th>2</th>\n",
       "      <td>CCCN(CCC)C(=O)CC1=C(N=C2N1C=C(C=C2)Cl)C3=CC=C(...</td>\n",
       "      <td>Hepatotoxicity</td>\n",
       "      <td>1</td>\n",
       "    </tr>\n",
       "    <tr>\n",
       "      <th>3</th>\n",
       "      <td>C1CC2=CC=CC=C2C(C3=CC=CC=C31)NCCCCCCC(=O)O</td>\n",
       "      <td>Hepatotoxicity</td>\n",
       "      <td>1</td>\n",
       "    </tr>\n",
       "    <tr>\n",
       "      <th>4</th>\n",
       "      <td>C1=CC=C(C=C1)CN2C3=CC=CC=C3C(=N2)OCC(=O)O</td>\n",
       "      <td>Hepatotoxicity</td>\n",
       "      <td>1</td>\n",
       "    </tr>\n",
       "  </tbody>\n",
       "</table>\n",
       "</div>"
      ],
      "text/plain": [
       "                                              Smiles           Liver  label\n",
       "0  C[C@@H](C(=O)N[C@@H](C)C(=O)NC1[C@H]2[C@@H]1CN...  Hepatotoxicity      1\n",
       "1                      C=CCOC1=C(C=C(C=C1)CC(=O)O)Cl  Hepatotoxicity      1\n",
       "2  CCCN(CCC)C(=O)CC1=C(N=C2N1C=C(C=C2)Cl)C3=CC=C(...  Hepatotoxicity      1\n",
       "3         C1CC2=CC=CC=C2C(C3=CC=CC=C31)NCCCCCCC(=O)O  Hepatotoxicity      1\n",
       "4          C1=CC=C(C=C1)CN2C3=CC=CC=C3C(=N2)OCC(=O)O  Hepatotoxicity      1"
      ]
     },
     "execution_count": 6,
     "metadata": {},
     "output_type": "execute_result"
    }
   ],
   "source": [
    "# Load pd_test\n",
    "pd_test = pd.read_csv(\"data_smiles/Testing_Group.csv\")\n",
    "pd_test[\"label\"] = pd_test[\"Liver\"].apply(lambda x: 1 if x == \"Hepatotoxicity\" else 0)\n",
    "print(pd_test.shape)\n",
    "pd_test.head()"
   ]
  },
  {
   "cell_type": "code",
   "execution_count": 16,
   "metadata": {},
   "outputs": [
    {
     "name": "stdout",
     "output_type": "stream",
     "text": [
      "(1179, 4)\n"
     ]
    },
    {
     "data": {
      "text/html": [
       "<div>\n",
       "<style scoped>\n",
       "    .dataframe tbody tr th:only-of-type {\n",
       "        vertical-align: middle;\n",
       "    }\n",
       "\n",
       "    .dataframe tbody tr th {\n",
       "        vertical-align: top;\n",
       "    }\n",
       "\n",
       "    .dataframe thead th {\n",
       "        text-align: right;\n",
       "    }\n",
       "</style>\n",
       "<table border=\"1\" class=\"dataframe\">\n",
       "  <thead>\n",
       "    <tr style=\"text-align: right;\">\n",
       "      <th></th>\n",
       "      <th>count</th>\n",
       "      <th>mean</th>\n",
       "      <th>std</th>\n",
       "      <th>min</th>\n",
       "      <th>25%</th>\n",
       "      <th>50%</th>\n",
       "      <th>75%</th>\n",
       "      <th>max</th>\n",
       "    </tr>\n",
       "    <tr>\n",
       "      <th>Liver</th>\n",
       "      <th></th>\n",
       "      <th></th>\n",
       "      <th></th>\n",
       "      <th></th>\n",
       "      <th></th>\n",
       "      <th></th>\n",
       "      <th></th>\n",
       "      <th></th>\n",
       "    </tr>\n",
       "  </thead>\n",
       "  <tbody>\n",
       "    <tr>\n",
       "      <th>Hepatotoxicity</th>\n",
       "      <td>651.0</td>\n",
       "      <td>53.345622</td>\n",
       "      <td>27.552502</td>\n",
       "      <td>8.0</td>\n",
       "      <td>36.0</td>\n",
       "      <td>48.0</td>\n",
       "      <td>65.0</td>\n",
       "      <td>168.0</td>\n",
       "    </tr>\n",
       "    <tr>\n",
       "      <th>NonHepatotoxicity</th>\n",
       "      <td>528.0</td>\n",
       "      <td>52.698864</td>\n",
       "      <td>27.910168</td>\n",
       "      <td>8.0</td>\n",
       "      <td>35.0</td>\n",
       "      <td>45.0</td>\n",
       "      <td>65.0</td>\n",
       "      <td>169.0</td>\n",
       "    </tr>\n",
       "  </tbody>\n",
       "</table>\n",
       "</div>"
      ],
      "text/plain": [
       "                   count       mean        std  min   25%   50%   75%    max\n",
       "Liver                                                                       \n",
       "Hepatotoxicity     651.0  53.345622  27.552502  8.0  36.0  48.0  65.0  168.0\n",
       "NonHepatotoxicity  528.0  52.698864  27.910168  8.0  35.0  45.0  65.0  169.0"
      ]
     },
     "execution_count": 16,
     "metadata": {},
     "output_type": "execute_result"
    }
   ],
   "source": [
    "# calculate the length of the Smiles strings\n",
    "pd_train[\"smiles_len\"] = pd_train[\"Smiles\"].apply(lambda x: len(x))\n",
    "\n",
    "# filter out the Smiles strings that are too long using the 95% quantile\n",
    "pd_train = pd_train[pd_train[\"smiles_len\"] <= pd_train[\"smiles_len\"].quantile(0.95)]\n",
    "print(pd_train.shape)\n",
    "pd_train.groupby(\"Liver\")[\"smiles_len\"].describe()"
   ]
  },
  {
   "cell_type": "code",
   "execution_count": 27,
   "metadata": {},
   "outputs": [
    {
     "name": "stdout",
     "output_type": "stream",
     "text": [
      "X_train: 1179\n",
      "y_train: 1179\n",
      "X_test: 286\n",
      "y_test: 286\n"
     ]
    }
   ],
   "source": [
    "# Tokenize SMILES\n",
    "df = pd.concat([pd_train, pd_test], axis=0)\n",
    "unique_chars = set(\"\".join(df[\"Smiles\"]))\n",
    "char_to_idx = {char: idx for idx, char in enumerate(unique_chars)}\n",
    "idx_to_char = {idx: char for char, idx in char_to_idx.items()}\n",
    "vocab_size = len(char_to_idx)\n",
    "\n",
    "\n",
    "def tokenize_smiles(smiles):\n",
    "    return [char_to_idx[char] for char in smiles]\n",
    "\n",
    "\n",
    "# tokenize for X_train, y_train, X_test, y_test\n",
    "X_train = [tokenize_smiles(s) for s in pd_train[\"Smiles\"]]\n",
    "y_train = pd_train[\"label\"].values\n",
    "\n",
    "X_test = [tokenize_smiles(s) for s in pd_test[\"Smiles\"]]\n",
    "y_test = pd_test[\"label\"].values\n",
    "\n",
    "print(f\"X_train: {len(X_train)}\")\n",
    "print(f\"y_train: {len(y_train)}\")\n",
    "\n",
    "print(f\"X_test: {len(X_test)}\")\n",
    "print(f\"y_test: {len(y_test)}\")"
   ]
  },
  {
   "cell_type": "code",
   "execution_count": null,
   "metadata": {},
   "outputs": [],
   "source": []
  },
  {
   "cell_type": "code",
   "execution_count": null,
   "metadata": {},
   "outputs": [],
   "source": []
  },
  {
   "cell_type": "code",
   "execution_count": null,
   "metadata": {},
   "outputs": [],
   "source": [
    "class SmilesDataset(Dataset):\n",
    "    def __init__(self, smiles, labels, max_len=200):\n",
    "        self.smiles = [s[:max_len] for s in smiles]\n",
    "        self.labels = labels\n",
    "        self.max_len = max_len\n",
    "\n",
    "    def __len__(self):\n",
    "        return len(self.smiles)\n",
    "\n",
    "    def __getitem__(self, idx):\n",
    "        x = np.zeros(self.max_len, dtype=int)\n",
    "        x[: len(self.smiles[idx])] = self.smiles[idx]\n",
    "        y = self.labels[idx]\n",
    "        return torch.tensor(x, dtype=torch.long), torch.tensor(y, dtype=torch.float)\n",
    "\n",
    "\n",
    "# Create train and test sets\n",
    "train_dataset = SmilesDataset(X_train, y_train)\n",
    "test_dataset = SmilesDataset(X_test, y_test)\n",
    "\n",
    "train_loader = DataLoader(train_dataset, batch_size=64, shuffle=True)\n",
    "test_loader = DataLoader(test_dataset, batch_size=64, shuffle=False)"
   ]
  },
  {
   "cell_type": "code",
   "execution_count": 20,
   "metadata": {},
   "outputs": [
    {
     "name": "stdout",
     "output_type": "stream",
     "text": [
      "torch.Size([64, 200]) torch.Size([64])\n"
     ]
    }
   ],
   "source": [
    "for x, y in train_loader:\n",
    "    print(x.shape, y.shape)\n",
    "    break"
   ]
  },
  {
   "cell_type": "code",
   "execution_count": null,
   "metadata": {},
   "outputs": [],
   "source": []
  },
  {
   "cell_type": "markdown",
   "metadata": {},
   "source": [
    "# Model training"
   ]
  },
  {
   "cell_type": "code",
   "execution_count": 37,
   "metadata": {},
   "outputs": [],
   "source": [
    "def train(model, dataloader, criterion, optimizer):\n",
    "    model.train()\n",
    "    for x_batch, y_batch in dataloader:\n",
    "        optimizer.zero_grad()\n",
    "        predictions = model(x_batch.to(device)).squeeze(1)\n",
    "        loss = criterion(predictions, y_batch.to(device))\n",
    "        loss.backward()\n",
    "        optimizer.step()\n",
    "\n",
    "\n",
    "def find_optimal_threshold(y_true, y_pred):\n",
    "    thresholds = np.linspace(0, 1, 1000)\n",
    "    best_threshold = 0\n",
    "    best_score = 0\n",
    "    for threshold in thresholds:\n",
    "        predicted_labels = (y_pred > threshold).astype(int)\n",
    "        score = f1_score(y_true, predicted_labels)\n",
    "        if score > best_score:\n",
    "            best_threshold = threshold\n",
    "            best_score = score\n",
    "    return best_threshold\n",
    "\n",
    "\n",
    "def evaluate(model, dataloader):\n",
    "    model.eval()\n",
    "    all_labels = []\n",
    "    all_predictions = []\n",
    "\n",
    "    # Collect predictions and true labels\n",
    "    with torch.no_grad():\n",
    "        for x_batch, y_batch in dataloader:\n",
    "            predictions = torch.sigmoid(model(x_batch.to(device)).squeeze(1))\n",
    "            all_predictions.extend(predictions.cpu().numpy())\n",
    "            all_labels.extend(y_batch.cpu().numpy())\n",
    "\n",
    "    # Convert lists to numpy arrays\n",
    "    all_labels = np.array(all_labels)\n",
    "    all_predictions = np.array(all_predictions)\n",
    "\n",
    "    # threshold = find_optimal_threshold(all_labels, all_predictions)\n",
    "    threshold = 0.5\n",
    "    predicted_labels = (all_predictions > threshold).astype(int)\n",
    "\n",
    "    # Calculate metrics\n",
    "    auc = roc_auc_score(all_labels, all_predictions)\n",
    "    precision = precision_score(all_labels, predicted_labels)\n",
    "    recall = recall_score(all_labels, predicted_labels)  # Recall = Sensitivity\n",
    "    tn, fp, fn, tp = confusion_matrix(all_labels, predicted_labels).ravel()\n",
    "    sensitivity = tp / (tp + fn) if (tp + fn) > 0 else 0\n",
    "    specificity = tn / (tn + fp) if (tn + fp) > 0 else 0\n",
    "\n",
    "    results = {\n",
    "        \"AUC\": auc,\n",
    "        \"Precision\": precision,\n",
    "        \"Recall\": recall,\n",
    "        \"Sensitivity\": sensitivity,\n",
    "        \"Specificity\": specificity,\n",
    "    }\n",
    "    return results"
   ]
  },
  {
   "cell_type": "code",
   "execution_count": null,
   "metadata": {},
   "outputs": [],
   "source": []
  },
  {
   "cell_type": "markdown",
   "metadata": {},
   "source": [
    "## RNN"
   ]
  },
  {
   "cell_type": "code",
   "execution_count": 30,
   "metadata": {},
   "outputs": [],
   "source": [
    "class RNNModel(nn.Module):\n",
    "    def __init__(self, vocab_size, embedding_dim, hidden_dim, output_dim):\n",
    "        super(RNNModel, self).__init__()\n",
    "        self.embedding = nn.Embedding(vocab_size, embedding_dim)\n",
    "        self.rnn = nn.RNN(embedding_dim, hidden_dim, batch_first=True)\n",
    "        self.fc = nn.Linear(hidden_dim, output_dim)\n",
    "\n",
    "    def forward(self, x):\n",
    "        embedded = self.embedding(x)\n",
    "        output, hidden = self.rnn(embedded)\n",
    "        out = self.fc(hidden[-1])\n",
    "        return out"
   ]
  },
  {
   "cell_type": "code",
   "execution_count": null,
   "metadata": {},
   "outputs": [],
   "source": []
  },
  {
   "cell_type": "code",
   "execution_count": 41,
   "metadata": {},
   "outputs": [],
   "source": [
    "class GRUModel(nn.Module):\n",
    "    def __init__(self, vocab_size, embedding_dim, hidden_dim, output_dim):\n",
    "        super(GRUModel, self).__init__()\n",
    "        self.embedding = nn.Embedding(vocab_size, embedding_dim)\n",
    "        self.gru = nn.GRU(embedding_dim, hidden_dim, batch_first=True)\n",
    "        self.fc = nn.Linear(hidden_dim, output_dim)\n",
    "\n",
    "    def forward(self, x):\n",
    "        embedded = self.embedding(x)\n",
    "        output, hidden = self.gru(embedded)\n",
    "        out = self.fc(hidden[-1])  # Use the last hidden state\n",
    "        return out\n"
   ]
  },
  {
   "cell_type": "code",
   "execution_count": null,
   "metadata": {},
   "outputs": [],
   "source": []
  },
  {
   "cell_type": "code",
   "execution_count": 44,
   "metadata": {},
   "outputs": [],
   "source": [
    "class LSTMModel(nn.Module):\n",
    "    def __init__(self, vocab_size, embedding_dim, hidden_dim, output_dim):\n",
    "        super(LSTMModel, self).__init__()\n",
    "        self.embedding = nn.Embedding(vocab_size, embedding_dim)\n",
    "        self.lstm = nn.LSTM(embedding_dim, hidden_dim, batch_first=True)\n",
    "        self.fc = nn.Linear(hidden_dim, output_dim)\n",
    "\n",
    "    def forward(self, x):\n",
    "        embedded = self.embedding(x)\n",
    "        output, (hidden, cell) = self.lstm(embedded)\n",
    "        out = self.fc(hidden[-1])  # Use the last hidden state\n",
    "        return out\n"
   ]
  },
  {
   "cell_type": "code",
   "execution_count": null,
   "metadata": {},
   "outputs": [],
   "source": []
  },
  {
   "cell_type": "code",
   "execution_count": 45,
   "metadata": {},
   "outputs": [],
   "source": [
    "class BiRNNModel(nn.Module):\n",
    "    def __init__(self, vocab_size, embedding_dim, hidden_dim, output_dim):\n",
    "        super(BiRNNModel, self).__init__()\n",
    "        self.embedding = nn.Embedding(vocab_size, embedding_dim)\n",
    "        self.rnn = nn.RNN(embedding_dim, hidden_dim, batch_first=True, bidirectional=True)\n",
    "        self.fc = nn.Linear(hidden_dim * 2, output_dim)  # Double the hidden_dim for bidirectional\n",
    "\n",
    "    def forward(self, x):\n",
    "        embedded = self.embedding(x)\n",
    "        output, hidden = self.rnn(embedded)\n",
    "        out = self.fc(torch.cat((hidden[-2], hidden[-1]), dim=1))  # Concatenate last forward and backward hidden states\n",
    "        return out\n"
   ]
  },
  {
   "cell_type": "code",
   "execution_count": null,
   "metadata": {},
   "outputs": [],
   "source": []
  },
  {
   "cell_type": "code",
   "execution_count": 46,
   "metadata": {},
   "outputs": [],
   "source": [
    "class StackedLSTMModel(nn.Module):\n",
    "    def __init__(self, vocab_size, embedding_dim, hidden_dim, output_dim, num_layers=2):\n",
    "        super(StackedLSTMModel, self).__init__()\n",
    "        self.embedding = nn.Embedding(vocab_size, embedding_dim)\n",
    "        self.lstm = nn.LSTM(embedding_dim, hidden_dim, num_layers=num_layers, batch_first=True)\n",
    "        self.fc = nn.Linear(hidden_dim, output_dim)\n",
    "\n",
    "    def forward(self, x):\n",
    "        embedded = self.embedding(x)\n",
    "        output, (hidden, cell) = self.lstm(embedded)\n",
    "        out = self.fc(hidden[-1])  # Use the last hidden state of the top layer\n",
    "        return out\n"
   ]
  },
  {
   "cell_type": "code",
   "execution_count": null,
   "metadata": {},
   "outputs": [],
   "source": []
  },
  {
   "cell_type": "code",
   "execution_count": 47,
   "metadata": {},
   "outputs": [],
   "source": [
    "class AttentionRNNModel(nn.Module):\n",
    "    def __init__(self, vocab_size, embedding_dim, hidden_dim, output_dim):\n",
    "        super(AttentionRNNModel, self).__init__()\n",
    "        self.embedding = nn.Embedding(vocab_size, embedding_dim)\n",
    "        self.rnn = nn.RNN(embedding_dim, hidden_dim, batch_first=True)\n",
    "        self.attention = nn.Linear(hidden_dim, 1)  # Attention weights\n",
    "        self.fc = nn.Linear(hidden_dim, output_dim)\n",
    "\n",
    "    def forward(self, x):\n",
    "        embedded = self.embedding(x)\n",
    "        output, hidden = self.rnn(embedded)\n",
    "        attention_weights = torch.softmax(self.attention(output), dim=1)\n",
    "        context_vector = torch.sum(attention_weights * output, dim=1)\n",
    "        out = self.fc(context_vector)\n",
    "        return out\n"
   ]
  },
  {
   "cell_type": "code",
   "execution_count": null,
   "metadata": {},
   "outputs": [],
   "source": []
  },
  {
   "cell_type": "code",
   "execution_count": 48,
   "metadata": {},
   "outputs": [],
   "source": [
    "class HierarchicalRNNModel(nn.Module):\n",
    "    def __init__(self, vocab_size, embedding_dim, hidden_dim, sentence_dim, output_dim):\n",
    "        super(HierarchicalRNNModel, self).__init__()\n",
    "        self.embedding = nn.Embedding(vocab_size, embedding_dim)\n",
    "        self.sentence_rnn = nn.RNN(embedding_dim, hidden_dim, batch_first=True)\n",
    "        self.document_rnn = nn.RNN(hidden_dim, sentence_dim, batch_first=True)\n",
    "        self.fc = nn.Linear(sentence_dim, output_dim)\n",
    "\n",
    "    def forward(self, x):\n",
    "        embedded = self.embedding(x)\n",
    "        sentence_output, _ = self.sentence_rnn(embedded)\n",
    "        doc_output, _ = self.document_rnn(sentence_output)\n",
    "        out = self.fc(doc_output[:, -1, :])  # Use the last hidden state of the document-level RNN\n",
    "        return out\n"
   ]
  },
  {
   "cell_type": "code",
   "execution_count": null,
   "metadata": {},
   "outputs": [],
   "source": []
  },
  {
   "cell_type": "code",
   "execution_count": 49,
   "metadata": {},
   "outputs": [],
   "source": [
    "class TransformerRNNModel(nn.Module):\n",
    "    def __init__(self, vocab_size, embedding_dim, hidden_dim, output_dim, nhead=2, num_layers=1):\n",
    "        super(TransformerRNNModel, self).__init__()\n",
    "        self.embedding = nn.Embedding(vocab_size, embedding_dim)\n",
    "        self.rnn = nn.RNN(embedding_dim, hidden_dim, batch_first=True)\n",
    "        self.transformer = nn.TransformerEncoder(\n",
    "            nn.TransformerEncoderLayer(d_model=hidden_dim, nhead=nhead),\n",
    "            num_layers=num_layers\n",
    "        )\n",
    "        self.fc = nn.Linear(hidden_dim, output_dim)\n",
    "\n",
    "    def forward(self, x):\n",
    "        embedded = self.embedding(x)\n",
    "        output, hidden = self.rnn(embedded)\n",
    "        transformed = self.transformer(output)\n",
    "        out = self.fc(transformed[:, -1, :])  # Use the last hidden state\n",
    "        return out\n"
   ]
  },
  {
   "cell_type": "code",
   "execution_count": null,
   "metadata": {},
   "outputs": [],
   "source": []
  },
  {
   "cell_type": "code",
   "execution_count": 50,
   "metadata": {},
   "outputs": [],
   "source": [
    "class CNNRNNModel(nn.Module):\n",
    "    def __init__(self, vocab_size, embedding_dim, hidden_dim, output_dim, kernel_size=3):\n",
    "        super(CNNRNNModel, self).__init__()\n",
    "        self.embedding = nn.Embedding(vocab_size, embedding_dim)\n",
    "        self.conv1d = nn.Conv1d(embedding_dim, embedding_dim, kernel_size, padding=1)\n",
    "        self.rnn = nn.RNN(embedding_dim, hidden_dim, batch_first=True)\n",
    "        self.fc = nn.Linear(hidden_dim, output_dim)\n",
    "\n",
    "    def forward(self, x):\n",
    "        embedded = self.embedding(x).permute(0, 2, 1)  # Switch to (batch, channels, seq_len) for Conv1d\n",
    "        conv_output = torch.relu(self.conv1d(embedded)).permute(0, 2, 1)  # Back to (batch, seq_len, channels)\n",
    "        output, hidden = self.rnn(conv_output)\n",
    "        out = self.fc(hidden[-1])\n",
    "        return out\n"
   ]
  },
  {
   "cell_type": "code",
   "execution_count": null,
   "metadata": {},
   "outputs": [],
   "source": []
  },
  {
   "cell_type": "code",
   "execution_count": null,
   "metadata": {},
   "outputs": [],
   "source": [
    "# Optuna objective function\n",
    "def objective(trial):\n",
    "    # Suggest hyperparameters\n",
    "    embedding_dim = trial.suggest_int(\"embedding_dim\", 8, 64)\n",
    "    hidden_dim = trial.suggest_int(\"hidden_dim\", 16, 128)\n",
    "    lr = trial.suggest_loguniform(\"lr\", 1e-5, 1e-1)\n",
    "\n",
    "    # Model instantiation with suggested hyperparameters\n",
    "    rnn_model = GRUModel(vocab_size, embedding_dim, hidden_dim, output_dim=1).to(device)\n",
    "    criterion = nn.BCEWithLogitsLoss()\n",
    "    optimizer = optim.Adam(rnn_model.parameters(), lr=lr)\n",
    "\n",
    "    train_aucs = []\n",
    "    test_aucs = []\n",
    "\n",
    "    # Training loop\n",
    "    for epoch in range(100):  # Limit epochs for faster Optuna optimization\n",
    "        train(rnn_model, train_loader, criterion, optimizer)\n",
    "\n",
    "        # Evaluate on train and test sets\n",
    "        train_results = evaluate(rnn_model, train_loader)\n",
    "        test_results = evaluate(rnn_model, test_loader)\n",
    "\n",
    "        # Store AUCs for plotting later\n",
    "        train_aucs.append(train_results[\"AUC\"])\n",
    "        test_aucs.append(test_results[\"AUC\"])\n",
    "\n",
    "    # Save metrics and model attributes to the trial\n",
    "    trial.set_user_attr(\"Best Model\", rnn_model.state_dict())\n",
    "    trial.set_user_attr(\"Train AUCs\", train_aucs)\n",
    "    trial.set_user_attr(\"Test AUCs\", test_aucs)\n",
    "    trial.set_user_attr(\"Final Train AUC\", train_aucs[-1])\n",
    "    trial.set_user_attr(\"Final Test AUC\", test_aucs[-1])\n",
    "\n",
    "    # Use Test AUC as the objective for Optuna optimization\n",
    "    trial.report(test_aucs[-1], step=0)\n",
    "    if trial.should_prune():\n",
    "        raise optuna.exceptions.TrialPruned()\n",
    "\n",
    "    return test_aucs[-1]\n",
    "\n",
    "\n",
    "# After the study is complete, retrieve the best trial and plot\n",
    "def plot_aucs(study):\n",
    "    best_trial = study.best_trial\n",
    "    train_aucs = best_trial.user_attrs[\"Train AUCs\"]\n",
    "    test_aucs = best_trial.user_attrs[\"Test AUCs\"]\n",
    "\n",
    "    # Plot the AUCs\n",
    "    import matplotlib.pyplot as plt\n",
    "\n",
    "    plt.plot(train_aucs, label=\"Train AUC\")\n",
    "    plt.plot(test_aucs, label=\"Test AUC\")\n",
    "    plt.xlabel(\"Epochs\")\n",
    "    plt.ylabel(\"AUC\")\n",
    "    plt.title(\"Train and Test AUC Over Epochs\")\n",
    "    plt.legend()\n",
    "    plt.show()"
   ]
  },
  {
   "cell_type": "code",
   "execution_count": null,
   "metadata": {},
   "outputs": [],
   "source": [
    "study = optuna.create_study(direction=\"maximize\")\n",
    "study.optimize(objective, n_trials=50)"
   ]
  },
  {
   "cell_type": "code",
   "execution_count": null,
   "metadata": {},
   "outputs": [],
   "source": []
  },
  {
   "cell_type": "code",
   "execution_count": 35,
   "metadata": {},
   "outputs": [
    {
     "name": "stdout",
     "output_type": "stream",
     "text": [
      "Best trial:\n",
      "AUC Score: 0.5835015663069962\n",
      "Best Parameters:\n",
      "  embedding_dim: 37\n",
      "  hidden_dim: 84\n",
      "  lr: 0.0009874483053994246\n",
      "Stored Metrics:\n",
      "  Train AUCs: [0.5, 0.5, 0.5, 0.5, 0.5134975911185589]\n",
      "  Test AUCs: [0.5118691263487642, 0.5118691263487642, 0.5118691263487642, 0.5118691263487642, 0.5835015663069962]\n",
      "  Final Train AUC: 0.5134975911185589\n",
      "  Final Test AUC: 0.5835015663069962\n"
     ]
    }
   ],
   "source": [
    "# Print best trial and all stored metrics\n",
    "print(\"Best trial:\")\n",
    "trial = study.best_trial\n",
    "print(f\"AUC Score: {trial.value}\")\n",
    "print(\"Best Parameters:\")\n",
    "for key, value in trial.params.items():\n",
    "    print(f\"  {key}: {value}\")\n",
    "print(\"Stored Metrics:\")\n",
    "for metric, value in trial.user_attrs.items():\n",
    "    print(f\"  {metric}: {value}\")"
   ]
  },
  {
   "cell_type": "code",
   "execution_count": null,
   "metadata": {},
   "outputs": [],
   "source": []
  },
  {
   "cell_type": "code",
   "execution_count": 34,
   "metadata": {},
   "outputs": [
    {
     "data": {
      "image/png": "[encoded data removed]",
      "text/plain": [
       "<Figure size 640x480 with 1 Axes>"
      ]
     },
     "metadata": {},
     "output_type": "display_data"
    }
   ],
   "source": [
    "plot_aucs(study)"
   ]
  },
  {
   "cell_type": "code",
   "execution_count": null,
   "metadata": {},
   "outputs": [],
   "source": []
  },
  {
   "cell_type": "code",
   "execution_count": 39,
   "metadata": {},
   "outputs": [
    {
     "data": {
      "image/png": "[encoded data removed]",
      "text/plain": [
       "<Figure size 640x480 with 1 Axes>"
      ]
     },
     "metadata": {},
     "output_type": "display_data"
    }
   ],
   "source": [
    "# Model instantiation with suggested hyperparameters\n",
    "rnn_model = RNNModel(\n",
    "    vocab_size,\n",
    "    embedding_dim=trial.params[\"embedding_dim\"],\n",
    "    hidden_dim=trial.params[\"hidden_dim\"],\n",
    "    output_dim=1,\n",
    ").to(device)\n",
    "criterion = nn.BCEWithLogitsLoss()\n",
    "optimizer = optim.Adam(rnn_model.parameters(), lr=trial.params[\"lr\"])\n",
    "\n",
    "train_aucs = []\n",
    "test_aucs = []\n",
    "\n",
    "# Training loop\n",
    "for epoch in range(1000):  # Limit epochs for faster Optuna optimization\n",
    "    train(rnn_model, train_loader, criterion, optimizer)\n",
    "\n",
    "    # Evaluate on train and test sets\n",
    "    train_results = evaluate(rnn_model, train_loader)\n",
    "    test_results = evaluate(rnn_model, test_loader)\n",
    "\n",
    "    # Store AUCs for plotting later\n",
    "    train_aucs.append(train_results[\"AUC\"])\n",
    "    test_aucs.append(test_results[\"AUC\"])\n",
    "\n",
    "# Plot the AUCs\n",
    "import matplotlib.pyplot as plt\n",
    "\n",
    "plt.plot(train_aucs, label=\"Train AUC\")\n",
    "plt.plot(test_aucs, label=\"Test AUC\")\n",
    "plt.xlabel(\"Epochs\")\n",
    "plt.ylabel(\"AUC\")\n",
    "plt.title(\"Train and Test AUC Over Epochs\")\n",
    "plt.legend()\n",
    "plt.show()"
   ]
  },
  {
   "cell_type": "code",
   "execution_count": 53,
   "metadata": {},
   "outputs": [
    {
     "name": "stdout",
     "output_type": "stream",
     "text": [
      "Max Test AUC: 0.6054298642533937 at Epoch 449\n"
     ]
    }
   ],
   "source": [
    "# print max test AUC and the epoch it was achieved\n",
    "max_test_auc = max(test_aucs)\n",
    "max_test_auc_epoch = test_aucs.index(max_test_auc)\n",
    "print(f\"Max Test AUC: {max_test_auc} at Epoch {max_test_auc_epoch}\")"
   ]
  },
  {
   "cell_type": "code",
   "execution_count": null,
   "metadata": {},
   "outputs": [],
   "source": []
  },
  {
   "cell_type": "markdown",
   "metadata": {},
   "source": [
    "## Loop through all models"
   ]
  },
  {
   "cell_type": "code",
   "execution_count": 51,
   "metadata": {},
   "outputs": [],
   "source": [
    "# Define all models\n",
    "model_classes = [\n",
    "    RNNModel,\n",
    "    GRUModel,\n",
    "    LSTMModel,\n",
    "    BiRNNModel,\n",
    "    StackedLSTMModel,\n",
    "    AttentionRNNModel,\n",
    "    HierarchicalRNNModel,\n",
    "    TransformerRNNModel,\n",
    "    CNNRNNModel,\n",
    "]"
   ]
  },
  {
   "cell_type": "code",
   "execution_count": 65,
   "metadata": {},
   "outputs": [],
   "source": [
    "def objective(trial):\n",
    "    # Suggest hyperparameters\n",
    "    embedding_dim = trial.suggest_int(\"embedding_dim\", 8, 64)\n",
    "    hidden_dim = trial.suggest_int(\"hidden_dim\", 16, 128)\n",
    "    lr = trial.suggest_loguniform(\"lr\", 1e-5, 1e-1)\n",
    "\n",
    "    # Choose the model dynamically\n",
    "    model_class = trial.suggest_categorical(\"model_class\", model_classes)\n",
    "    rnn_model = model_class(vocab_size, embedding_dim, hidden_dim, output_dim=1).to(device)\n",
    "\n",
    "    # Define criterion and optimizer\n",
    "    criterion = nn.BCEWithLogitsLoss()\n",
    "    optimizer = optim.Adam(rnn_model.parameters(), lr=lr)\n",
    "\n",
    "    train_aucs = []\n",
    "    test_aucs = []\n",
    "\n",
    "    # Training loop\n",
    "    for epoch in range(200):  # Limit epochs for faster Optuna optimization\n",
    "        train(rnn_model, train_loader, criterion, optimizer)\n",
    "\n",
    "        # Evaluate on train and test sets\n",
    "        train_results = evaluate(rnn_model, train_loader)\n",
    "        test_results = evaluate(rnn_model, test_loader)\n",
    "\n",
    "        # Store AUCs for plotting later\n",
    "        train_aucs.append(train_results[\"AUC\"])\n",
    "        test_aucs.append(test_results[\"AUC\"])\n",
    "\n",
    "    # print max test AUC and the epoch it was achieved\n",
    "    max_test_auc = max(test_aucs)\n",
    "    max_test_auc_epoch = test_aucs.index(max_test_auc)\n",
    "\n",
    "    # Save metrics and model attributes to the trial\n",
    "    trial.set_user_attr(\"Model Class\", model_class.__name__)\n",
    "    trial.set_user_attr(\"Train AUCs\", train_aucs)\n",
    "    trial.set_user_attr(\"Test AUCs\", test_aucs)\n",
    "    trial.set_user_attr(\"Final Train AUC\", train_aucs[-1])\n",
    "    trial.set_user_attr(\"Final Test AUC\", test_aucs[-1])\n",
    "    trial.set_user_attr(\"Best Model\", rnn_model.state_dict())\n",
    "    trial.set_user_attr(\"Max Test AUC\", max_test_auc)\n",
    "    trial.set_user_attr(\"Max Test AUC Epoch\", max_test_auc_epoch)\n",
    "\n",
    "    # Use Test AUC as the objective for Optuna optimization\n",
    "    trial.report(test_aucs[-1], step=0)\n",
    "    if trial.should_prune():\n",
    "        raise optuna.exceptions.TrialPruned()\n",
    "\n",
    "    return max_test_auc"
   ]
  },
  {
   "cell_type": "code",
   "execution_count": 66,
   "metadata": {},
   "outputs": [],
   "source": [
    "# Save the best model and parameters after optimization\n",
    "def save_best_model_and_params(study):\n",
    "    best_trial = study.best_trial\n",
    "    best_model_class = best_trial.user_attrs[\"Model Class\"]\n",
    "    best_model_params = best_trial.params\n",
    "    best_model_state_dict = best_trial.user_attrs[\"Best Model\"]\n",
    "\n",
    "    print(f\"Best Model Class: {best_model_class}\")\n",
    "    print(f\"Best Model Parameters: {best_model_params}\")\n",
    "    print(f\"Best Test AUC: {best_trial.user_attrs['Max Test AUC']}\")\n",
    "    print(f\"Best Test AUC Epoch: {best_trial.user_attrs['Max Test AUC Epoch']}\")\n",
    "\n",
    "    # Save the model and parameters using joblib\n",
    "    output_data = {\n",
    "        \"best_model\": best_model_state_dict,\n",
    "        \"best_model_params\": best_model_params,\n",
    "        \"best_model_class\": best_model_class,\n",
    "    }\n",
    "    joblib.dump(output_data, f\"models/nlp_{best_model_class}_best_model.joblib\")\n",
    "\n",
    "    print(f\"Best model and parameters saved as '{best_model_class}_best_model.pth' and '{best_model_class}_best_params.json'\")\n"
   ]
  },
  {
   "cell_type": "code",
   "execution_count": null,
   "metadata": {},
   "outputs": [],
   "source": [
    "# Run the study\n",
    "study = optuna.create_study(direction=\"maximize\")\n",
    "study.optimize(objective, n_trials=500)"
   ]
  },
  {
   "cell_type": "code",
   "execution_count": null,
   "metadata": {},
   "outputs": [],
   "source": [
    "# Save the best model and parameters\n",
    "save_best_model_and_params(study)"
   ]
  },
  {
   "cell_type": "code",
   "execution_count": null,
   "metadata": {},
   "outputs": [],
   "source": []
  }
 ],
 "metadata": {
  "kernelspec": {
   "display_name": "dili-3.10",
   "language": "python",
   "name": "python3"
  },
  "language_info": {
   "codemirror_mode": {
    "name": "ipython",
    "version": 3
   },
   "file_extension": ".py",
   "mimetype": "text/x-python",
   "name": "python",
   "nbconvert_exporter": "python",
   "pygments_lexer": "ipython3",
   "version": "3.10.15"
  }
 },
 "nbformat": 4,
 "nbformat_minor": 2
}
