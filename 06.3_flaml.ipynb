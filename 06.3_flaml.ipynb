{
 "cells": [
  {
   "cell_type": "code",
   "execution_count": 1,
   "metadata": {},
   "outputs": [],
   "source": [
    "from flaml import AutoML\n",
    "\n",
    "from sklearn.model_selection import train_test_split\n",
    "from sklearn.metrics import accuracy_score, log_loss, roc_auc_score\n",
    "\n",
    "import pandas as pd\n",
    "import numpy as np"
   ]
  },
  {
   "cell_type": "code",
   "execution_count": 2,
   "metadata": {},
   "outputs": [
    {
     "name": "stdout",
     "output_type": "stream",
     "text": [
      "(1241, 16094)\n"
     ]
    }
   ],
   "source": [
    "# Load pd_train\n",
    "pd_train = pd.read_parquet(\"data/training_class.parquet\")\n",
    "pd_train[\"label\"] = pd_train[\"Class\"].apply(lambda x: 1 if x == \"Hepatotoxicity\" else 0)\n",
    "print(pd_train.shape)"
   ]
  },
  {
   "cell_type": "code",
   "execution_count": 3,
   "metadata": {},
   "outputs": [
    {
     "name": "stdout",
     "output_type": "stream",
     "text": [
      "(286, 16094)\n"
     ]
    }
   ],
   "source": [
    "# Load pd_test\n",
    "pd_test = pd.read_parquet(\"data/testing_class.parquet\")\n",
    "pd_test[\"label\"] = pd_test[\"Class\"].apply(lambda x: 1 if x == \"Hepatotoxicity\" else 0)\n",
    "print(pd_test.shape)"
   ]
  },
  {
   "cell_type": "code",
   "execution_count": 4,
   "metadata": {},
   "outputs": [],
   "source": [
    "X_train = pd_train.drop(columns=[\"Class\", \"label\"])\n",
    "y_train = pd_train[\"label\"]\n",
    "\n",
    "X_test = pd_test.drop(columns=[\"Class\", \"label\"])\n",
    "y_test = pd_test[\"label\"]"
   ]
  },
  {
   "cell_type": "code",
   "execution_count": null,
   "metadata": {},
   "outputs": [],
   "source": []
  },
  {
   "cell_type": "code",
   "execution_count": 2,
   "metadata": {},
   "outputs": [],
   "source": [
    "X = pd.DataFrame(np.random.randn(1000, 20), columns=[f\"feature_{i}\" for i in range(20)])\n",
    "y = np.random.randint(2, size=1000)\n",
    "\n",
    "# Split the dataset into training and testing sets\n",
    "X_train, X_test, y_train, y_test = train_test_split(\n",
    "    X, y, test_size=0.2, random_state=42\n",
    ")"
   ]
  },
  {
   "cell_type": "code",
   "execution_count": null,
   "metadata": {},
   "outputs": [],
   "source": []
  },
  {
   "cell_type": "markdown",
   "metadata": {},
   "source": [
    "# FLAML optimization"
   ]
  },
  {
   "cell_type": "code",
   "execution_count": null,
   "metadata": {},
   "outputs": [],
   "source": [
    "# Initialize FLAML AutoML\n",
    "automl = AutoML()\n",
    "\n",
    "# Define FLAML settings\n",
    "settings = {\n",
    "    \"time_budget\": 3600,  # in seconds\n",
    "    \"metric\": \"roc_auc\",  # Use 'roc_auc' for AUC\n",
    "    \"task\": \"classification\",\n",
    "    \"log_file_name\": \"flaml_log.log\",\n",
    "    \"n_jobs\": 4,  # Use 4 cores\n",
    "}\n",
    "\n",
    "# Run AutoML\n",
    "automl.fit(X_train=X_train, y_train=y_train, **settings)"
   ]
  },
  {
   "cell_type": "code",
   "execution_count": null,
   "metadata": {},
   "outputs": [],
   "source": [
    "# Evaluate on test data\n",
    "print(\"Best model:\", automl.model)\n",
    "print(\"Test Accuracy:\", automl.score(X_test, y_test))"
   ]
  },
  {
   "cell_type": "code",
   "execution_count": null,
   "metadata": {},
   "outputs": [],
   "source": []
  }
 ],
 "metadata": {
  "kernelspec": {
   "display_name": "dili",
   "language": "python",
   "name": "python3"
  },
  "language_info": {
   "codemirror_mode": {
    "name": "ipython",
    "version": 3
   },
   "file_extension": ".py",
   "mimetype": "text/x-python",
   "name": "python",
   "nbconvert_exporter": "python",
   "pygments_lexer": "ipython3",
   "version": "3.8.20"
  }
 },
 "nbformat": 4,
 "nbformat_minor": 2
}
