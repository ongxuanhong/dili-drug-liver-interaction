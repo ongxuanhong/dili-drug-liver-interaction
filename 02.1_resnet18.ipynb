{
 "cells": [
  {
   "cell_type": "code",
   "execution_count": 14,
   "metadata": {},
   "outputs": [
    {
     "data": {
      "text/plain": [
       "device(type='cuda', index=0)"
      ]
     },
     "execution_count": 14,
     "metadata": {},
     "output_type": "execute_result"
    }
   ],
   "source": [
    "import torch\n",
    "import torch.nn as nn\n",
    "import torch.optim as optim\n",
    "from torchvision import datasets, models, transforms\n",
    "from torch.utils.data import DataLoader\n",
    "import os\n",
    "from sklearn.metrics import roc_auc_score, roc_curve\n",
    "import torch.nn.functional as F\n",
    "import matplotlib.pyplot as plt\n",
    "\n",
    "\n",
    "# Check if CUDA is available\n",
    "device = torch.device(\"cuda:0\" if torch.cuda.is_available() else \"cpu\")\n",
    "device"
   ]
  },
  {
   "cell_type": "code",
   "execution_count": 2,
   "metadata": {},
   "outputs": [],
   "source": [
    "# Define image transformations for training and testing\n",
    "train_transforms = transforms.Compose(\n",
    "    [\n",
    "        transforms.ToTensor(),\n",
    "        transforms.Normalize([0.975, 0.971, 0.974], [0.140, 0.148, 0.142]),\n",
    "    ]\n",
    ")\n",
    "\n",
    "test_transforms = transforms.Compose(\n",
    "    [\n",
    "        transforms.ToTensor(),\n",
    "        transforms.Normalize([0.975, 0.971, 0.974], [0.140, 0.148, 0.142]),\n",
    "    ]\n",
    ")"
   ]
  },
  {
   "cell_type": "code",
   "execution_count": 25,
   "metadata": {},
   "outputs": [],
   "source": [
    "# Directories for datasets\n",
    "train_dir = \"data_smiles/Training_Group\"\n",
    "augmented_train_dir = \"data_smiles/Training_Group_Augmented\"\n",
    "test_dir = \"data_smiles/Testing_Group\"\n",
    "\n",
    "# Combine the two training folders\n",
    "train_dataset = datasets.ImageFolder(root=train_dir, transform=train_transforms)\n",
    "augmented_train_dataset = datasets.ImageFolder(\n",
    "    root=augmented_train_dir, transform=train_transforms\n",
    ")\n",
    "\n",
    "# Combine both datasets using torch.utils.data.ConcatDataset\n",
    "# combined_train_dataset = torch.utils.data.ConcatDataset(\n",
    "#     [train_dataset, augmented_train_dataset]\n",
    "# )\n",
    "\n",
    "combined_train_dataset = torch.utils.data.ConcatDataset([train_dataset])\n",
    "\n",
    "# Load the datasets into DataLoader\n",
    "train_loader = DataLoader(combined_train_dataset, batch_size=32, shuffle=True)\n",
    "test_loader = DataLoader(\n",
    "    datasets.ImageFolder(root=test_dir, transform=test_transforms),\n",
    "    batch_size=32,\n",
    "    shuffle=False,\n",
    ")"
   ]
  },
  {
   "cell_type": "markdown",
   "metadata": {},
   "source": [
    "# Training ResNet18"
   ]
  },
  {
   "cell_type": "code",
   "execution_count": 26,
   "metadata": {},
   "outputs": [
    {
     "name": "stderr",
     "output_type": "stream",
     "text": [
      "c:\\Users\\predator\\anaconda3\\envs\\dili\\lib\\site-packages\\torchvision\\models\\_utils.py:223: UserWarning: Arguments other than a weight enum or `None` for 'weights' are deprecated since 0.13 and may be removed in the future. The current behavior is equivalent to passing `weights=ResNet18_Weights.IMAGENET1K_V1`. You can also use `weights=ResNet18_Weights.DEFAULT` to get the most up-to-date weights.\n",
      "  warnings.warn(msg)\n"
     ]
    }
   ],
   "source": [
    "# Load a pretrained ResNet18 model\n",
    "model = models.resnet18(weights=True)\n",
    "\n",
    "# Modify the fully connected layer to output 2 classes (binary classification)\n",
    "num_ftrs = model.fc.in_features\n",
    "model.fc = nn.Linear(num_ftrs, 2)\n",
    "\n",
    "# Move the model to the appropriate device (GPU or CPU)\n",
    "model = model.to(device)\n",
    "\n",
    "# Define loss function and optimizer\n",
    "criterion = nn.CrossEntropyLoss()\n",
    "optimizer = optim.Adam(model.parameters(), lr=0.001)"
   ]
  },
  {
   "cell_type": "markdown",
   "metadata": {},
   "source": [
    "```bash\n",
    "c:\\Users\\predator\\anaconda3\\envs\\dili\\lib\\site-packages\\torchvision\\models\\_utils.py:223: UserWarning: Arguments other than a weight enum or `None` for 'weights' are deprecated since 0.13 and may be removed in the future. The current behavior is equivalent to passing `weights=ResNet18_Weights.IMAGENET1K_V1`. You can also use `weights=ResNet18_Weights.DEFAULT` to get the most up-to-date weights.\n",
    "  warnings.warn(msg)\n",
    "Downloading: \"https://download.pytorch.org/models/resnet18-f37072fd.pth\" to C:\\Users\\predator/.cache\\torch\\hub\\checkpoints\\resnet18-f37072fd.pth\n",
    "100%|██████████| 44.7M/44.7M [00:09<00:00, 5.12MB/s]\n",
    "```"
   ]
  },
  {
   "cell_type": "markdown",
   "metadata": {},
   "source": [
    "## Simple train"
   ]
  },
  {
   "cell_type": "code",
   "execution_count": 27,
   "metadata": {},
   "outputs": [],
   "source": [
    "# Function to train the model\n",
    "def train_model(model, criterion, optimizer, num_epochs=25):\n",
    "    for epoch in range(num_epochs):\n",
    "        print(f\"Epoch {epoch}/{num_epochs - 1}\")\n",
    "\n",
    "        model.train()\n",
    "        running_loss = 0.0\n",
    "        correct = 0\n",
    "        total = 0\n",
    "\n",
    "        for inputs, labels in train_loader:\n",
    "            inputs, labels = inputs.to(device), labels.to(device)\n",
    "\n",
    "            optimizer.zero_grad()\n",
    "\n",
    "            # Forward pass\n",
    "            outputs = model(inputs)\n",
    "            loss = criterion(outputs, labels)\n",
    "\n",
    "            # Backward pass and optimization\n",
    "            loss.backward()\n",
    "            optimizer.step()\n",
    "\n",
    "            # Statistics\n",
    "            _, predicted = torch.max(outputs, 1)\n",
    "            running_loss += loss.item()\n",
    "            correct += (predicted == labels).sum().item()\n",
    "            total += labels.size(0)\n",
    "\n",
    "        epoch_loss = running_loss / len(train_loader)\n",
    "        epoch_acc = correct / total\n",
    "\n",
    "        print(f\"Loss: {epoch_loss:.4f}, Accuracy: {epoch_acc:.4f}\")"
   ]
  },
  {
   "cell_type": "markdown",
   "metadata": {},
   "source": [
    "## Simple train with plot train loss"
   ]
  },
  {
   "cell_type": "code",
   "execution_count": null,
   "metadata": {},
   "outputs": [],
   "source": [
    "# Function to train the model and return results for plotting\n",
    "def train_model_with_loss_plot(\n",
    "    model, train_loader, criterion, optimizer, num_epochs=25\n",
    "):\n",
    "    # Lists to store loss and accuracy over time\n",
    "    loss_history = []\n",
    "    accuracy_history = []\n",
    "\n",
    "    for epoch in range(num_epochs):\n",
    "        print(f\"Epoch {epoch}/{num_epochs - 1}\")\n",
    "\n",
    "        model.train()\n",
    "        running_loss = 0.0\n",
    "        correct = 0\n",
    "        total = 0\n",
    "\n",
    "        for inputs, labels in train_loader:\n",
    "            inputs, labels = inputs.to(device), labels.to(device)\n",
    "\n",
    "            optimizer.zero_grad()\n",
    "\n",
    "            # Forward pass\n",
    "            outputs = model(inputs)\n",
    "            loss = criterion(outputs, labels)\n",
    "\n",
    "            # Backward pass and optimization\n",
    "            loss.backward()\n",
    "            optimizer.step()\n",
    "\n",
    "            # Statistics\n",
    "            _, predicted = torch.max(outputs, 1)\n",
    "            running_loss += loss.item()\n",
    "            correct += (predicted == labels).sum().item()\n",
    "            total += labels.size(0)\n",
    "\n",
    "        # Calculate loss and accuracy for the epoch\n",
    "        epoch_loss = running_loss / len(train_loader)\n",
    "        epoch_acc = correct / total\n",
    "\n",
    "        # Append to history\n",
    "        loss_history.append(epoch_loss)\n",
    "        accuracy_history.append(epoch_acc)\n",
    "\n",
    "        print(f\"Loss: {epoch_loss:.4f}, Accuracy: {epoch_acc:.4f}\")\n",
    "\n",
    "    # Return the loss and accuracy history\n",
    "    return loss_history, accuracy_history\n",
    "\n",
    "\n",
    "# Plot function to visualize loss over time\n",
    "def plot_loss(loss_history):\n",
    "    plt.figure()\n",
    "    plt.plot(range(len(loss_history)), loss_history, label=\"Training Loss\")\n",
    "    plt.xlabel(\"Epochs\")\n",
    "    plt.ylabel(\"Loss\")\n",
    "    plt.title(\"Training Loss Over Time\")\n",
    "    plt.legend()\n",
    "    plt.show()"
   ]
  },
  {
   "cell_type": "markdown",
   "metadata": {},
   "source": [
    "## Evaluate and plot performance"
   ]
  },
  {
   "cell_type": "code",
   "execution_count": 28,
   "metadata": {},
   "outputs": [],
   "source": [
    "# Function to evaluate the model\n",
    "def evaluate_model(model):\n",
    "    model.eval()\n",
    "    correct = 0\n",
    "    total = 0\n",
    "    with torch.no_grad():\n",
    "        for inputs, labels in test_loader:\n",
    "            inputs, labels = inputs.to(device), labels.to(device)\n",
    "\n",
    "            outputs = model(inputs)\n",
    "            _, predicted = torch.max(outputs, 1)\n",
    "\n",
    "            correct += (predicted == labels).sum().item()\n",
    "            total += labels.size(0)\n",
    "\n",
    "    print(f\"Test Accuracy: {correct / total:.4f}\")"
   ]
  },
  {
   "cell_type": "code",
   "execution_count": 29,
   "metadata": {},
   "outputs": [],
   "source": [
    "# Function to evaluate the model with AUC metric\n",
    "def evaluate_model_auc(model, test_loader, device):\n",
    "    model.eval()\n",
    "    true_labels = []\n",
    "    pred_probs = []\n",
    "\n",
    "    with torch.no_grad():\n",
    "        for inputs, labels in test_loader:\n",
    "            inputs, labels = inputs.to(device), labels.to(device)\n",
    "\n",
    "            # Get model outputs (logits or probabilities)\n",
    "            outputs = model(inputs)\n",
    "\n",
    "            # Apply softmax to get probabilities if your model returns logits\n",
    "            probabilities = (\n",
    "                F.softmax(outputs, dim=1)[:, 1].cpu().numpy()\n",
    "            )  # Assuming binary classification\n",
    "\n",
    "            # Collect true labels and predicted probabilities\n",
    "            true_labels.extend(labels.cpu().numpy())\n",
    "            pred_probs.extend(probabilities)\n",
    "\n",
    "    # Compute AUC\n",
    "    auc_score = roc_auc_score(true_labels, pred_probs)\n",
    "    print(f\"Test AUC: {auc_score:.4f}\")"
   ]
  },
  {
   "cell_type": "code",
   "execution_count": 30,
   "metadata": {},
   "outputs": [],
   "source": [
    "# Function to evaluate the model and plot ROC curve\n",
    "def evaluate_model_and_plot_auc(model, test_loader, device):\n",
    "    model.eval()\n",
    "    true_labels = []\n",
    "    pred_probs = []\n",
    "\n",
    "    with torch.no_grad():\n",
    "        for inputs, labels in test_loader:\n",
    "            inputs, labels = inputs.to(device), labels.to(device)\n",
    "\n",
    "            # Get model outputs (logits or probabilities)\n",
    "            outputs = model(inputs)\n",
    "\n",
    "            # Apply softmax to get probabilities if your model returns logits\n",
    "            probabilities = (\n",
    "                F.softmax(outputs, dim=1)[:, 1].cpu().numpy()\n",
    "            )  # Assuming binary classification\n",
    "\n",
    "            # Collect true labels and predicted probabilities\n",
    "            true_labels.extend(labels.cpu().numpy())\n",
    "            pred_probs.extend(probabilities)\n",
    "\n",
    "    # Compute AUC\n",
    "    auc_score = roc_auc_score(true_labels, pred_probs)\n",
    "    print(f\"Test AUC: {auc_score:.4f}\")\n",
    "\n",
    "    # Compute FPR and TPR for plotting ROC curve\n",
    "    fpr, tpr, _ = roc_curve(true_labels, pred_probs)\n",
    "\n",
    "    # Plot ROC curve\n",
    "    plt.figure()\n",
    "    plt.plot(fpr, tpr, color=\"blue\", label=f\"AUC = {auc_score:.4f}\")\n",
    "    plt.plot([0, 1], [0, 1], color=\"red\", linestyle=\"--\")  # Diagonal line\n",
    "    plt.xlim([0.0, 1.0])\n",
    "    plt.ylim([0.0, 1.05])\n",
    "    plt.xlabel(\"False Positive Rate\")\n",
    "    plt.ylabel(\"True Positive Rate\")\n",
    "    plt.title(\"Receiver Operating Characteristic (ROC)\")\n",
    "    plt.legend(loc=\"lower right\")\n",
    "    plt.show()"
   ]
  },
  {
   "cell_type": "code",
   "execution_count": null,
   "metadata": {},
   "outputs": [],
   "source": []
  },
  {
   "cell_type": "markdown",
   "metadata": {},
   "source": [
    "## Start training"
   ]
  },
  {
   "cell_type": "code",
   "execution_count": null,
   "metadata": {},
   "outputs": [],
   "source": [
    "%%time\n",
    "# Train the model\n",
    "train_model(model, criterion, optimizer, num_epochs=1)"
   ]
  },
  {
   "cell_type": "code",
   "execution_count": null,
   "metadata": {},
   "outputs": [],
   "source": [
    "%%time\n",
    "# train models\n",
    "loss_history, accuracy_history = train_model_with_loss_plot(\n",
    "    model, train_loader, criterion, optimizer, num_epochs=100\n",
    ")\n",
    "\n",
    "# Plot the loss over time\n",
    "plot_loss(loss_history)"
   ]
  },
  {
   "cell_type": "code",
   "execution_count": 34,
   "metadata": {},
   "outputs": [
    {
     "name": "stdout",
     "output_type": "stream",
     "text": [
      "Test Accuracy: 0.6888\n"
     ]
    }
   ],
   "source": [
    "# Evaluate the model on the testing data\n",
    "evaluate_model(model)"
   ]
  },
  {
   "cell_type": "code",
   "execution_count": 35,
   "metadata": {},
   "outputs": [
    {
     "name": "stdout",
     "output_type": "stream",
     "text": [
      "Test AUC: 0.7622\n"
     ]
    }
   ],
   "source": [
    "evaluate_model_auc(model, test_loader, device)"
   ]
  },
  {
   "cell_type": "code",
   "execution_count": 36,
   "metadata": {},
   "outputs": [
    {
     "name": "stdout",
     "output_type": "stream",
     "text": [
      "Test AUC: 0.7622\n"
     ]
    },
    {
     "data": {
      "image/png": "[encoded data removed]",
      "text/plain": [
       "<Figure size 640x480 with 1 Axes>"
      ]
     },
     "metadata": {},
     "output_type": "display_data"
    }
   ],
   "source": [
    "evaluate_model_and_plot_auc(model, test_loader, device)"
   ]
  },
  {
   "cell_type": "code",
   "execution_count": 37,
   "metadata": {},
   "outputs": [
    {
     "name": "stdout",
     "output_type": "stream",
     "text": [
      "Test AUC: 1.0000\n"
     ]
    },
    {
     "data": {
      "image/png": "[encoded data removed]",
      "text/plain": [
       "<Figure size 640x480 with 1 Axes>"
      ]
     },
     "metadata": {},
     "output_type": "display_data"
    }
   ],
   "source": [
    "evaluate_model_and_plot_auc(model, train_loader, device)"
   ]
  },
  {
   "cell_type": "code",
   "execution_count": null,
   "metadata": {},
   "outputs": [],
   "source": []
  }
 ],
 "metadata": {
  "kernelspec": {
   "display_name": "dili",
   "language": "python",
   "name": "python3"
  },
  "language_info": {
   "codemirror_mode": {
    "name": "ipython",
    "version": 3
   },
   "file_extension": ".py",
   "mimetype": "text/x-python",
   "name": "python",
   "nbconvert_exporter": "python",
   "pygments_lexer": "ipython3",
   "version": "3.8.19"
  }
 },
 "nbformat": 4,
 "nbformat_minor": 2
}
