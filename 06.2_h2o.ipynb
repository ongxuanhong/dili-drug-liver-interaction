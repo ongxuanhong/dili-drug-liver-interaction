{
 "cells": [
  {
   "cell_type": "code",
   "execution_count": 1,
   "metadata": {},
   "outputs": [],
   "source": [
    "import h2o\n",
    "from h2o.automl import H2OAutoML\n",
    "\n",
    "from sklearn.model_selection import train_test_split\n",
    "from sklearn.metrics import accuracy_score, log_loss, roc_auc_score\n",
    "\n",
    "import pandas as pd\n",
    "import numpy as np"
   ]
  },
  {
   "cell_type": "code",
   "execution_count": 2,
   "metadata": {},
   "outputs": [
    {
     "name": "stdout",
     "output_type": "stream",
     "text": [
      "(1241, 16094)\n"
     ]
    }
   ],
   "source": [
    "# Load pd_train\n",
    "pd_train = pd.read_parquet(\"data/training_class.parquet\")\n",
    "pd_train[\"label\"] = pd_train[\"Class\"].apply(lambda x: 1 if x == \"Hepatotoxicity\" else 0)\n",
    "print(pd_train.shape)"
   ]
  },
  {
   "cell_type": "code",
   "execution_count": 3,
   "metadata": {},
   "outputs": [
    {
     "name": "stdout",
     "output_type": "stream",
     "text": [
      "(286, 16094)\n"
     ]
    }
   ],
   "source": [
    "# Load pd_test\n",
    "pd_test = pd.read_parquet(\"data/testing_class.parquet\")\n",
    "pd_test[\"label\"] = pd_test[\"Class\"].apply(lambda x: 1 if x == \"Hepatotoxicity\" else 0)\n",
    "print(pd_test.shape)"
   ]
  },
  {
   "cell_type": "code",
   "execution_count": 4,
   "metadata": {},
   "outputs": [],
   "source": [
    "X_train = pd_train.drop(columns=[\"Class\", \"label\"])\n",
    "y_train = pd_train[\"label\"]\n",
    "\n",
    "X_test = pd_test.drop(columns=[\"Class\", \"label\"])\n",
    "y_test = pd_test[\"label\"]"
   ]
  },
  {
   "cell_type": "code",
   "execution_count": null,
   "metadata": {},
   "outputs": [],
   "source": []
  },
  {
   "cell_type": "code",
   "execution_count": 2,
   "metadata": {},
   "outputs": [],
   "source": [
    "X = pd.DataFrame(np.random.randn(1000, 20), columns=[f\"feature_{i}\" for i in range(20)])\n",
    "y = np.random.randint(2, size=1000)\n",
    "\n",
    "# Split the dataset into training and testing sets\n",
    "X_train, X_test, y_train, y_test = train_test_split(\n",
    "    X, y, test_size=0.2, random_state=42\n",
    ")"
   ]
  },
  {
   "cell_type": "code",
   "execution_count": null,
   "metadata": {},
   "outputs": [],
   "source": []
  },
  {
   "cell_type": "markdown",
   "metadata": {},
   "source": [
    "# H2O optimization"
   ]
  },
  {
   "cell_type": "code",
   "execution_count": null,
   "metadata": {},
   "outputs": [],
   "source": [
    "# Initialize H2O cluster\n",
    "h2o.init()\n",
    "\n",
    "# Convert y_train and y_test to Pandas Series if they are not already\n",
    "y_train = pd.Series(y_train, name=\"label\")\n",
    "y_test = pd.Series(y_test, name=\"label\")\n",
    "\n",
    "# Convert data to H2O frame\n",
    "train = h2o.H2OFrame(pd.concat([X_train, y_train], axis=1))\n",
    "test = h2o.H2OFrame(pd.concat([X_test, y_test], axis=1))\n",
    "\n",
    "# Define the AutoML settings\n",
    "aml = H2OAutoML(\n",
    "    max_runtime_secs=3600, stopping_metric=\"AUC\", seed=42  # Optimize for AUC\n",
    ")\n",
    "\n",
    "# Train the model\n",
    "aml.train(y=\"label\", training_frame=train)"
   ]
  },
  {
   "cell_type": "code",
   "execution_count": 5,
   "metadata": {},
   "outputs": [
    {
     "name": "stdout",
     "output_type": "stream",
     "text": [
      "model_id                                                    rmse       mse       mae     rmsle    mean_residual_deviance\n",
      "StackedEnsemble_BestOfFamily_7_AutoML_1_20241101_70557  0.499982  0.249982  0.499733  0.35145                   0.249982\n",
      "StackedEnsemble_BestOfFamily_1_AutoML_1_20241101_70557  0.500009  0.250009  0.499754  0.351473                  0.250009\n",
      "StackedEnsemble_BestOfFamily_3_AutoML_1_20241101_70557  0.500318  0.250319  0.500042  0.351662                  0.250319\n",
      "StackedEnsemble_AllModels_6_AutoML_1_20241101_70557     0.50044   0.25044   0.500141  0.351745                  0.25044\n",
      "StackedEnsemble_BestOfFamily_8_AutoML_1_20241101_70557  0.500544  0.250544  0.500232  0.351862                  0.250544\n",
      "StackedEnsemble_AllModels_2_AutoML_1_20241101_70557     0.500612  0.250612  0.499885  0.351815                  0.250612\n",
      "StackedEnsemble_BestOfFamily_2_AutoML_1_20241101_70557  0.500642  0.250642  0.500321  0.351891                  0.250642\n",
      "GLM_1_AutoML_1_20241101_70557                           0.500813  0.250814  0.500317  0.351985                  0.250814\n",
      "StackedEnsemble_BestOfFamily_5_AutoML_1_20241101_70557  0.500836  0.250836  0.500479  0.352078                  0.250836\n",
      "StackedEnsemble_AllModels_1_AutoML_1_20241101_70557     0.500932  0.250933  0.500558  0.352058                  0.250933\n",
      "[1149 rows x 6 columns]\n",
      "\n",
      "Best model performance: ModelMetricsRegressionGLM: stackedensemble\n",
      "** Reported on test data. **\n",
      "\n",
      "MSE: 0.2521750000000002\n",
      "RMSE: 0.502170289842002\n",
      "MAE: 0.5019500000000001\n",
      "RMSLE: 0.3620162053565556\n",
      "Mean Residual Deviance: 0.2521750000000002\n",
      "R^2: -0.02604007730648039\n",
      "Null degrees of freedom: 199\n",
      "Residual degrees of freedom: 199\n",
      "Null deviance: 50.435000000000045\n",
      "Residual deviance: 50.435000000000045\n",
      "AIC: 296.0490156736216\n"
     ]
    }
   ],
   "source": [
    "# Get the best model and evaluate\n",
    "lb = aml.leaderboard\n",
    "print(lb)\n",
    "best_model = aml.leader\n",
    "print(\"Best model performance:\", best_model.model_performance(test))"
   ]
  },
  {
   "cell_type": "code",
   "execution_count": null,
   "metadata": {},
   "outputs": [],
   "source": []
  }
 ],
 "metadata": {
  "kernelspec": {
   "display_name": "dili",
   "language": "python",
   "name": "python3"
  },
  "language_info": {
   "codemirror_mode": {
    "name": "ipython",
    "version": 3
   },
   "file_extension": ".py",
   "mimetype": "text/x-python",
   "name": "python",
   "nbconvert_exporter": "python",
   "pygments_lexer": "ipython3",
   "version": "3.8.19"
  }
 },
 "nbformat": 4,
 "nbformat_minor": 2
}
