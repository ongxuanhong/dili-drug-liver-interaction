{
 "cells": [
  {
   "cell_type": "code",
   "execution_count": 2,
   "metadata": {},
   "outputs": [],
   "source": [
    "# from rdkit import Chem\n",
    "# from deepchem.feat.smiles_tokenizer import BasicSmilesTokenizer\n",
    "\n",
    "# smiles = \"CC(C)CC1=CC=C(C=C1)C(C)C(=O)O\"\n",
    "# tokenizer = BasicSmilesTokenizer()\n",
    "# tokens = tokenizer.tokenize(smiles)\n",
    "# print(\"Tokenized SMILES:\", tokens)"
   ]
  },
  {
   "cell_type": "code",
   "execution_count": null,
   "metadata": {},
   "outputs": [],
   "source": []
  },
  {
   "cell_type": "code",
   "execution_count": 2,
   "metadata": {},
   "outputs": [
    {
     "data": {
      "application/vnd.jupyter.widget-view+json": {
       "model_id": "41faa512e77d4cc6a9a6666505388000",
       "version_major": 2,
       "version_minor": 0
      },
      "text/plain": [
       "tokenizer_config.json:   0%|          | 0.00/327 [00:00<?, ?B/s]"
      ]
     },
     "metadata": {},
     "output_type": "display_data"
    },
    {
     "data": {
      "application/vnd.jupyter.widget-view+json": {
       "model_id": "9bc9d915305a414b909ddff9f323f3f1",
       "version_major": 2,
       "version_minor": 0
      },
      "text/plain": [
       "vocab.txt:   0%|          | 0.00/3.52k [00:00<?, ?B/s]"
      ]
     },
     "metadata": {},
     "output_type": "display_data"
    },
    {
     "data": {
      "application/vnd.jupyter.widget-view+json": {
       "model_id": "0f57b4b43cb14dc1906987992f7be6e4",
       "version_major": 2,
       "version_minor": 0
      },
      "text/plain": [
       "special_tokens_map.json:   0%|          | 0.00/112 [00:00<?, ?B/s]"
      ]
     },
     "metadata": {},
     "output_type": "display_data"
    },
    {
     "data": {
      "application/vnd.jupyter.widget-view+json": {
       "model_id": "8fdb83a3c57f4efa90a2c978a5f50dbe",
       "version_major": 2,
       "version_minor": 0
      },
      "text/plain": [
       "config.json:   0%|          | 0.00/515 [00:00<?, ?B/s]"
      ]
     },
     "metadata": {},
     "output_type": "display_data"
    },
    {
     "name": "stderr",
     "output_type": "stream",
     "text": [
      "The tokenizer class you load from this checkpoint is not the same type as the class this function is called from. It may result in unexpected tokenization. \n",
      "The tokenizer class you load from this checkpoint is 'RobertaTokenizer'. \n",
      "The class this function is called from is 'BertTokenizer'.\n",
      "You are using a model of type roberta to instantiate a model of type bert. This is not supported for all configurations of models and can yield errors.\n"
     ]
    },
    {
     "data": {
      "application/vnd.jupyter.widget-view+json": {
       "model_id": "3ad2c68ae6a1432f8b06738effd40964",
       "version_major": 2,
       "version_minor": 0
      },
      "text/plain": [
       "pytorch_model.bin:   0%|          | 0.00/336M [00:00<?, ?B/s]"
      ]
     },
     "metadata": {},
     "output_type": "display_data"
    },
    {
     "name": "stderr",
     "output_type": "stream",
     "text": [
      "Some weights of BertModel were not initialized from the model checkpoint at seyonec/SMILES_tokenized_PubChem_shard00_160k and are newly initialized: ['embeddings.LayerNorm.bias', 'embeddings.LayerNorm.weight', 'embeddings.position_embeddings.weight', 'embeddings.token_type_embeddings.weight', 'embeddings.word_embeddings.weight', 'encoder.layer.0.attention.output.LayerNorm.bias', 'encoder.layer.0.attention.output.LayerNorm.weight', 'encoder.layer.0.attention.output.dense.bias', 'encoder.layer.0.attention.output.dense.weight', 'encoder.layer.0.attention.self.key.bias', 'encoder.layer.0.attention.self.key.weight', 'encoder.layer.0.attention.self.query.bias', 'encoder.layer.0.attention.self.query.weight', 'encoder.layer.0.attention.self.value.bias', 'encoder.layer.0.attention.self.value.weight', 'encoder.layer.0.intermediate.dense.bias', 'encoder.layer.0.intermediate.dense.weight', 'encoder.layer.0.output.LayerNorm.bias', 'encoder.layer.0.output.LayerNorm.weight', 'encoder.layer.0.output.dense.bias', 'encoder.layer.0.output.dense.weight', 'encoder.layer.1.attention.output.LayerNorm.bias', 'encoder.layer.1.attention.output.LayerNorm.weight', 'encoder.layer.1.attention.output.dense.bias', 'encoder.layer.1.attention.output.dense.weight', 'encoder.layer.1.attention.self.key.bias', 'encoder.layer.1.attention.self.key.weight', 'encoder.layer.1.attention.self.query.bias', 'encoder.layer.1.attention.self.query.weight', 'encoder.layer.1.attention.self.value.bias', 'encoder.layer.1.attention.self.value.weight', 'encoder.layer.1.intermediate.dense.bias', 'encoder.layer.1.intermediate.dense.weight', 'encoder.layer.1.output.LayerNorm.bias', 'encoder.layer.1.output.LayerNorm.weight', 'encoder.layer.1.output.dense.bias', 'encoder.layer.1.output.dense.weight', 'encoder.layer.2.attention.output.LayerNorm.bias', 'encoder.layer.2.attention.output.LayerNorm.weight', 'encoder.layer.2.attention.output.dense.bias', 'encoder.layer.2.attention.output.dense.weight', 'encoder.layer.2.attention.self.key.bias', 'encoder.layer.2.attention.self.key.weight', 'encoder.layer.2.attention.self.query.bias', 'encoder.layer.2.attention.self.query.weight', 'encoder.layer.2.attention.self.value.bias', 'encoder.layer.2.attention.self.value.weight', 'encoder.layer.2.intermediate.dense.bias', 'encoder.layer.2.intermediate.dense.weight', 'encoder.layer.2.output.LayerNorm.bias', 'encoder.layer.2.output.LayerNorm.weight', 'encoder.layer.2.output.dense.bias', 'encoder.layer.2.output.dense.weight', 'encoder.layer.3.attention.output.LayerNorm.bias', 'encoder.layer.3.attention.output.LayerNorm.weight', 'encoder.layer.3.attention.output.dense.bias', 'encoder.layer.3.attention.output.dense.weight', 'encoder.layer.3.attention.self.key.bias', 'encoder.layer.3.attention.self.key.weight', 'encoder.layer.3.attention.self.query.bias', 'encoder.layer.3.attention.self.query.weight', 'encoder.layer.3.attention.self.value.bias', 'encoder.layer.3.attention.self.value.weight', 'encoder.layer.3.intermediate.dense.bias', 'encoder.layer.3.intermediate.dense.weight', 'encoder.layer.3.output.LayerNorm.bias', 'encoder.layer.3.output.LayerNorm.weight', 'encoder.layer.3.output.dense.bias', 'encoder.layer.3.output.dense.weight', 'encoder.layer.4.attention.output.LayerNorm.bias', 'encoder.layer.4.attention.output.LayerNorm.weight', 'encoder.layer.4.attention.output.dense.bias', 'encoder.layer.4.attention.output.dense.weight', 'encoder.layer.4.attention.self.key.bias', 'encoder.layer.4.attention.self.key.weight', 'encoder.layer.4.attention.self.query.bias', 'encoder.layer.4.attention.self.query.weight', 'encoder.layer.4.attention.self.value.bias', 'encoder.layer.4.attention.self.value.weight', 'encoder.layer.4.intermediate.dense.bias', 'encoder.layer.4.intermediate.dense.weight', 'encoder.layer.4.output.LayerNorm.bias', 'encoder.layer.4.output.LayerNorm.weight', 'encoder.layer.4.output.dense.bias', 'encoder.layer.4.output.dense.weight', 'encoder.layer.5.attention.output.LayerNorm.bias', 'encoder.layer.5.attention.output.LayerNorm.weight', 'encoder.layer.5.attention.output.dense.bias', 'encoder.layer.5.attention.output.dense.weight', 'encoder.layer.5.attention.self.key.bias', 'encoder.layer.5.attention.self.key.weight', 'encoder.layer.5.attention.self.query.bias', 'encoder.layer.5.attention.self.query.weight', 'encoder.layer.5.attention.self.value.bias', 'encoder.layer.5.attention.self.value.weight', 'encoder.layer.5.intermediate.dense.bias', 'encoder.layer.5.intermediate.dense.weight', 'encoder.layer.5.output.LayerNorm.bias', 'encoder.layer.5.output.LayerNorm.weight', 'encoder.layer.5.output.dense.bias', 'encoder.layer.5.output.dense.weight', 'pooler.dense.bias', 'pooler.dense.weight']\n",
      "You should probably TRAIN this model on a down-stream task to be able to use it for predictions and inference.\n"
     ]
    },
    {
     "name": "stdout",
     "output_type": "stream",
     "text": [
      "SMILES Embedding Shape: torch.Size([1, 26, 768])\n"
     ]
    },
    {
     "data": {
      "application/vnd.jupyter.widget-view+json": {
       "model_id": "6bed8b118536486e96144b8fb0284e98",
       "version_major": 2,
       "version_minor": 0
      },
      "text/plain": [
       "model.safetensors:   0%|          | 0.00/336M [00:00<?, ?B/s]"
      ]
     },
     "metadata": {},
     "output_type": "display_data"
    }
   ],
   "source": [
    "from transformers import BertTokenizer, BertModel\n",
    "\n",
    "# Use a pre-trained tokenizer and model (e.g., ChemBERTa)\n",
    "tokenizer = BertTokenizer.from_pretrained(\n",
    "    \"seyonec/SMILES_tokenized_PubChem_shard00_160k\"\n",
    ")\n",
    "model = BertModel.from_pretrained(\"seyonec/SMILES_tokenized_PubChem_shard00_160k\")\n",
    "\n",
    "# Tokenize SMILES string\n",
    "inputs = tokenizer(\"CC(C)CC1=CC=C(C=C1)C(C)C(=O)O\", return_tensors=\"pt\")\n",
    "outputs = model(**inputs)\n",
    "\n",
    "# Get the embeddings\n",
    "smiles_embedding = outputs.last_hidden_state\n",
    "print(\"SMILES Embedding Shape:\", smiles_embedding.shape)\n",
    "# SMILES Embedding Shape: torch.Size([1, 26, 768])"
   ]
  },
  {
   "cell_type": "code",
   "execution_count": 3,
   "metadata": {},
   "outputs": [
    {
     "data": {
      "text/plain": [
       "array([[[-8.7590200e-01,  3.0506086e-01,  6.9207108e-01, ...,\n",
       "          5.4176462e-01,  5.5791640e-01, -5.0844544e-01],\n",
       "        [-1.2149686e+00,  4.3680158e-01, -4.5811260e-01, ...,\n",
       "          6.9964379e-01,  1.6057323e+00,  1.6602541e+00],\n",
       "        [-1.0540334e+00,  7.6476914e-01, -1.2318478e+00, ...,\n",
       "          2.3868134e+00,  2.2018609e+00,  1.3283165e-03],\n",
       "        ...,\n",
       "        [-1.0319257e+00, -2.1826245e-01, -8.8171393e-02, ...,\n",
       "          1.7335273e+00,  1.4440529e+00, -5.0599241e-01],\n",
       "        [-2.7555614e+00,  1.7899810e-01, -5.9625320e-02, ...,\n",
       "         -2.3788512e-01, -4.2273989e-01,  1.8023103e-01],\n",
       "        [-1.8629063e+00, -2.4388081e-01, -4.4336745e-01, ...,\n",
       "         -5.4076403e-02,  1.4175699e+00, -9.9230146e-01]]], dtype=float32)"
      ]
     },
     "execution_count": 3,
     "metadata": {},
     "output_type": "execute_result"
    }
   ],
   "source": [
    "smiles_embedding_np = smiles_embedding.detach().cpu().numpy()  # Convert to NumPy array\n",
    "smiles_embedding_np"
   ]
  },
  {
   "cell_type": "code",
   "execution_count": 4,
   "metadata": {},
   "outputs": [
    {
     "data": {
      "text/plain": [
       "(1, 26, 768)"
      ]
     },
     "execution_count": 4,
     "metadata": {},
     "output_type": "execute_result"
    }
   ],
   "source": [
    "smiles_embedding_np.shape"
   ]
  },
  {
   "cell_type": "code",
   "execution_count": null,
   "metadata": {},
   "outputs": [],
   "source": []
  },
  {
   "cell_type": "markdown",
   "metadata": {},
   "source": [
    "# Data preparation"
   ]
  },
  {
   "cell_type": "code",
   "execution_count": 4,
   "metadata": {},
   "outputs": [],
   "source": [
    "import pandas as pd\n",
    "import numpy as np\n",
    "import joblib"
   ]
  },
  {
   "cell_type": "code",
   "execution_count": 7,
   "metadata": {},
   "outputs": [
    {
     "name": "stdout",
     "output_type": "stream",
     "text": [
      "(1241, 3)\n"
     ]
    }
   ],
   "source": [
    "# Load pd_train\n",
    "pd_train = pd.read_csv(\"data_smiles/Training_Group.csv\")\n",
    "pd_train[\"label\"] = pd_train[\"Liver\"].apply(lambda x: 1 if x == \"Hepatotoxicity\" else 0)\n",
    "print(pd_train.shape)"
   ]
  },
  {
   "cell_type": "code",
   "execution_count": 8,
   "metadata": {},
   "outputs": [
    {
     "data": {
      "text/plain": [
       "label\n",
       "1    683\n",
       "0    558\n",
       "Name: count, dtype: int64"
      ]
     },
     "execution_count": 8,
     "metadata": {},
     "output_type": "execute_result"
    }
   ],
   "source": [
    "pd_train[\"label\"].value_counts()"
   ]
  },
  {
   "cell_type": "code",
   "execution_count": null,
   "metadata": {},
   "outputs": [],
   "source": []
  },
  {
   "cell_type": "code",
   "execution_count": 9,
   "metadata": {},
   "outputs": [
    {
     "name": "stdout",
     "output_type": "stream",
     "text": [
      "(286, 3)\n"
     ]
    }
   ],
   "source": [
    "# Load pd_test\n",
    "pd_test = pd.read_csv(\"data_smiles/Testing_Group.csv\")\n",
    "pd_test[\"label\"] = pd_test[\"Liver\"].apply(lambda x: 1 if x == \"Hepatotoxicity\" else 0)\n",
    "print(pd_test.shape)"
   ]
  },
  {
   "cell_type": "code",
   "execution_count": 10,
   "metadata": {},
   "outputs": [
    {
     "data": {
      "text/plain": [
       "label\n",
       "1    221\n",
       "0     65\n",
       "Name: count, dtype: int64"
      ]
     },
     "execution_count": 10,
     "metadata": {},
     "output_type": "execute_result"
    }
   ],
   "source": [
    "pd_test[\"label\"].value_counts()"
   ]
  },
  {
   "cell_type": "code",
   "execution_count": null,
   "metadata": {},
   "outputs": [],
   "source": []
  },
  {
   "cell_type": "code",
   "execution_count": 11,
   "metadata": {},
   "outputs": [
    {
     "data": {
      "text/plain": [
       "['data_smiles/Training_Group_embeddings.pkl']"
      ]
     },
     "execution_count": 11,
     "metadata": {},
     "output_type": "execute_result"
    }
   ],
   "source": [
    "# Tokenize and embed each SMILES string\n",
    "def embed_smiles(smiles):\n",
    "    inputs = tokenizer(smiles, return_tensors=\"pt\", max_length=514, truncation=True)\n",
    "    outputs = model(**inputs)\n",
    "    # Use mean pooling to create a fixed-size embedding\n",
    "    embedding = outputs.last_hidden_state.mean(dim=1)\n",
    "    return embedding.detach().cpu().numpy()\n",
    "\n",
    "\n",
    "# Apply embedding to each SMILES string\n",
    "pd_train[\"Embeddings\"] = pd_train[\"Smiles\"].apply(embed_smiles)\n",
    "\n",
    "# Save the embeddings\n",
    "joblib.dump(pd_train, \"data_smiles/Training_Group_embeddings.pkl\")"
   ]
  },
  {
   "cell_type": "code",
   "execution_count": 12,
   "metadata": {},
   "outputs": [
    {
     "data": {
      "text/plain": [
       "['data_smiles/Testing_Group_embeddings.pkl']"
      ]
     },
     "execution_count": 12,
     "metadata": {},
     "output_type": "execute_result"
    }
   ],
   "source": [
    "pd_test[\"Embeddings\"] = pd_test[\"Smiles\"].apply(embed_smiles)\n",
    "joblib.dump(pd_test, \"data_smiles/Testing_Group_embeddings.pkl\")"
   ]
  },
  {
   "cell_type": "code",
   "execution_count": null,
   "metadata": {},
   "outputs": [],
   "source": []
  },
  {
   "cell_type": "code",
   "execution_count": 13,
   "metadata": {},
   "outputs": [],
   "source": [
    "# load the embeddings\n",
    "pd_train = joblib.load(\"data_smiles/Training_Group_embeddings.pkl\")\n",
    "pd_test = joblib.load(\"data_smiles/Testing_Group_embeddings.pkl\")"
   ]
  },
  {
   "cell_type": "code",
   "execution_count": 14,
   "metadata": {},
   "outputs": [
    {
     "name": "stdout",
     "output_type": "stream",
     "text": [
      "X_train Shape: (1241, 768)\n",
      "y_train Shape: (1241,)\n"
     ]
    }
   ],
   "source": [
    "# Prepare features and labels for the split\n",
    "X_train = np.vstack(pd_train[\"Embeddings\"].values)  # Stack embeddings into a 2D array\n",
    "y_train = pd_train[\"label\"].values\n",
    "\n",
    "print(\"X_train Shape:\", X_train.shape)\n",
    "print(\"y_train Shape:\", y_train.shape)"
   ]
  },
  {
   "cell_type": "code",
   "execution_count": null,
   "metadata": {},
   "outputs": [],
   "source": []
  },
  {
   "cell_type": "code",
   "execution_count": 15,
   "metadata": {},
   "outputs": [
    {
     "name": "stdout",
     "output_type": "stream",
     "text": [
      "X_test Shape: (286, 768)\n",
      "y_test Shape: (286,)\n"
     ]
    }
   ],
   "source": [
    "X_test = np.vstack(pd_test[\"Embeddings\"].values)  # Stack embeddings into a 2D array\n",
    "y_test = pd_test[\"label\"].values\n",
    "\n",
    "print(\"X_test Shape:\", X_test.shape)\n",
    "print(\"y_test Shape:\", y_test.shape)"
   ]
  },
  {
   "cell_type": "code",
   "execution_count": null,
   "metadata": {},
   "outputs": [],
   "source": []
  },
  {
   "cell_type": "markdown",
   "metadata": {},
   "source": [
    "# Model training"
   ]
  },
  {
   "cell_type": "code",
   "execution_count": 16,
   "metadata": {},
   "outputs": [],
   "source": [
    "def sigmoid(z):\n",
    "    return 1 / (1 + np.exp(-z))\n",
    "\n",
    "\n",
    "def compute_loss(y_hat, y):\n",
    "    y_hat = np.clip(y_hat, 1e-7, 1 - 1e-7)\n",
    "\n",
    "    return (-y * np.log(y_hat) - (1 - y) * np.log(1 - y_hat)).mean()\n",
    "\n",
    "\n",
    "def predict(X, theta):\n",
    "    dot_product = np.dot(X, theta)\n",
    "    y_hat = sigmoid(dot_product)\n",
    "\n",
    "    return y_hat\n",
    "\n",
    "\n",
    "def compute_gradient(X, y, y_hat):\n",
    "    return np.dot(X.T, (y_hat - y)) / y.size\n",
    "\n",
    "\n",
    "def update_theta(theta, gradient, lr):\n",
    "    return theta - lr * gradient\n",
    "\n",
    "\n",
    "def compute_accuracy(X, y, theta):\n",
    "    y_hat = predict(X, theta).round()\n",
    "    acc = (y_hat == y).mean()\n",
    "\n",
    "    return acc"
   ]
  },
  {
   "cell_type": "code",
   "execution_count": 37,
   "metadata": {},
   "outputs": [],
   "source": [
    "# lr = 0.01\n",
    "# epochs = 200\n",
    "# batch_size = 128\n",
    "\n",
    "random_state = 2\n",
    "\n",
    "lr=0.07157358459955648\n",
    "epochs=101\n",
    "batch_size=256\n",
    "\n",
    "np.random.seed(random_state)\n",
    "theta = np.random.uniform(size=X_train.shape[1])"
   ]
  },
  {
   "cell_type": "code",
   "execution_count": 38,
   "metadata": {},
   "outputs": [
    {
     "name": "stdout",
     "output_type": "stream",
     "text": [
      "\n",
      "EPOCH 1:\tTraining loss: 3.957\ttestidation loss: 2.571\n",
      "\n",
      "EPOCH 2:\tTraining loss: 3.610\ttestidation loss: 2.393\n",
      "\n",
      "EPOCH 3:\tTraining loss: 3.307\ttestidation loss: 2.390\n",
      "\n",
      "EPOCH 4:\tTraining loss: 3.634\ttestidation loss: 2.261\n",
      "\n",
      "EPOCH 5:\tTraining loss: 3.239\ttestidation loss: 2.717\n",
      "\n",
      "EPOCH 6:\tTraining loss: 3.349\ttestidation loss: 2.978\n",
      "\n",
      "EPOCH 7:\tTraining loss: 3.680\ttestidation loss: 2.318\n",
      "\n",
      "EPOCH 8:\tTraining loss: 3.635\ttestidation loss: 2.162\n",
      "\n",
      "EPOCH 9:\tTraining loss: 3.201\ttestidation loss: 2.732\n",
      "\n",
      "EPOCH 10:\tTraining loss: 3.283\ttestidation loss: 3.019\n",
      "\n",
      "EPOCH 11:\tTraining loss: 3.727\ttestidation loss: 2.255\n",
      "\n",
      "EPOCH 12:\tTraining loss: 3.627\ttestidation loss: 2.262\n",
      "\n",
      "EPOCH 13:\tTraining loss: 3.184\ttestidation loss: 2.634\n",
      "\n",
      "EPOCH 14:\tTraining loss: 3.465\ttestidation loss: 2.547\n",
      "\n",
      "EPOCH 15:\tTraining loss: 3.456\ttestidation loss: 2.499\n",
      "\n",
      "EPOCH 16:\tTraining loss: 3.003\ttestidation loss: 1.828\n",
      "\n",
      "EPOCH 17:\tTraining loss: 3.248\ttestidation loss: 2.285\n",
      "\n",
      "EPOCH 18:\tTraining loss: 3.605\ttestidation loss: 2.128\n",
      "\n",
      "EPOCH 19:\tTraining loss: 3.186\ttestidation loss: 2.406\n",
      "\n",
      "EPOCH 20:\tTraining loss: 3.608\ttestidation loss: 2.106\n",
      "\n",
      "EPOCH 21:\tTraining loss: 3.166\ttestidation loss: 2.613\n",
      "\n",
      "EPOCH 22:\tTraining loss: 3.483\ttestidation loss: 2.426\n",
      "\n",
      "EPOCH 23:\tTraining loss: 3.388\ttestidation loss: 2.466\n",
      "\n",
      "EPOCH 24:\tTraining loss: 3.107\ttestidation loss: 2.383\n",
      "\n",
      "EPOCH 25:\tTraining loss: 3.486\ttestidation loss: 2.403\n",
      "\n",
      "EPOCH 26:\tTraining loss: 3.187\ttestidation loss: 2.747\n",
      "\n",
      "EPOCH 27:\tTraining loss: 3.626\ttestidation loss: 2.249\n",
      "\n",
      "EPOCH 28:\tTraining loss: 3.597\ttestidation loss: 2.086\n",
      "\n",
      "EPOCH 29:\tTraining loss: 3.161\ttestidation loss: 2.558\n",
      "\n",
      "EPOCH 30:\tTraining loss: 3.534\ttestidation loss: 2.238\n",
      "\n",
      "EPOCH 31:\tTraining loss: 3.257\ttestidation loss: 2.305\n",
      "\n",
      "EPOCH 32:\tTraining loss: 3.503\ttestidation loss: 2.311\n",
      "\n",
      "EPOCH 33:\tTraining loss: 3.313\ttestidation loss: 2.382\n",
      "\n",
      "EPOCH 34:\tTraining loss: 3.262\ttestidation loss: 2.808\n",
      "\n",
      "EPOCH 35:\tTraining loss: 3.633\ttestidation loss: 2.249\n",
      "\n",
      "EPOCH 36:\tTraining loss: 3.584\ttestidation loss: 2.086\n",
      "\n",
      "EPOCH 37:\tTraining loss: 3.162\ttestidation loss: 2.499\n",
      "\n",
      "EPOCH 38:\tTraining loss: 3.560\ttestidation loss: 2.134\n",
      "\n",
      "EPOCH 39:\tTraining loss: 3.201\ttestidation loss: 2.269\n",
      "\n",
      "EPOCH 40:\tTraining loss: 3.576\ttestidation loss: 2.135\n",
      "\n",
      "EPOCH 41:\tTraining loss: 3.165\ttestidation loss: 2.462\n",
      "\n",
      "EPOCH 42:\tTraining loss: 3.568\ttestidation loss: 2.103\n",
      "\n",
      "EPOCH 43:\tTraining loss: 3.181\ttestidation loss: 2.349\n",
      "\n",
      "EPOCH 44:\tTraining loss: 3.573\ttestidation loss: 2.102\n",
      "\n",
      "EPOCH 45:\tTraining loss: 3.164\ttestidation loss: 2.464\n",
      "\n",
      "EPOCH 46:\tTraining loss: 3.561\ttestidation loss: 2.109\n",
      "\n",
      "EPOCH 47:\tTraining loss: 3.186\ttestidation loss: 2.326\n",
      "\n",
      "EPOCH 48:\tTraining loss: 3.568\ttestidation loss: 2.109\n",
      "\n",
      "EPOCH 49:\tTraining loss: 3.165\ttestidation loss: 2.452\n",
      "\n",
      "EPOCH 50:\tTraining loss: 3.559\ttestidation loss: 2.105\n",
      "\n",
      "EPOCH 51:\tTraining loss: 3.183\ttestidation loss: 2.340\n",
      "\n",
      "EPOCH 52:\tTraining loss: 3.564\ttestidation loss: 2.103\n",
      "\n",
      "EPOCH 53:\tTraining loss: 3.166\ttestidation loss: 2.443\n",
      "\n",
      "EPOCH 54:\tTraining loss: 3.556\ttestidation loss: 2.103\n",
      "\n",
      "EPOCH 55:\tTraining loss: 3.182\ttestidation loss: 2.345\n",
      "\n",
      "EPOCH 56:\tTraining loss: 3.561\ttestidation loss: 2.100\n",
      "\n",
      "EPOCH 57:\tTraining loss: 3.167\ttestidation loss: 2.433\n",
      "\n",
      "EPOCH 58:\tTraining loss: 3.553\ttestidation loss: 2.102\n",
      "\n",
      "EPOCH 59:\tTraining loss: 3.181\ttestidation loss: 2.350\n",
      "\n",
      "EPOCH 60:\tTraining loss: 3.557\ttestidation loss: 2.099\n",
      "\n",
      "EPOCH 61:\tTraining loss: 3.168\ttestidation loss: 2.423\n",
      "\n",
      "EPOCH 62:\tTraining loss: 3.550\ttestidation loss: 2.100\n",
      "\n",
      "EPOCH 63:\tTraining loss: 3.180\ttestidation loss: 2.355\n",
      "\n",
      "EPOCH 64:\tTraining loss: 3.554\ttestidation loss: 2.098\n",
      "\n",
      "EPOCH 65:\tTraining loss: 3.169\ttestidation loss: 2.414\n",
      "\n",
      "EPOCH 66:\tTraining loss: 3.548\ttestidation loss: 2.099\n",
      "\n",
      "EPOCH 67:\tTraining loss: 3.179\ttestidation loss: 2.360\n",
      "\n",
      "EPOCH 68:\tTraining loss: 3.550\ttestidation loss: 2.097\n",
      "\n",
      "EPOCH 69:\tTraining loss: 3.171\ttestidation loss: 2.404\n",
      "\n",
      "EPOCH 70:\tTraining loss: 3.545\ttestidation loss: 2.099\n",
      "\n",
      "EPOCH 71:\tTraining loss: 3.178\ttestidation loss: 2.364\n",
      "\n",
      "EPOCH 72:\tTraining loss: 3.547\ttestidation loss: 2.097\n",
      "\n",
      "EPOCH 73:\tTraining loss: 3.172\ttestidation loss: 2.395\n",
      "\n",
      "EPOCH 74:\tTraining loss: 3.543\ttestidation loss: 2.098\n",
      "\n",
      "EPOCH 75:\tTraining loss: 3.177\ttestidation loss: 2.367\n",
      "\n",
      "EPOCH 76:\tTraining loss: 3.543\ttestidation loss: 2.098\n",
      "\n",
      "EPOCH 77:\tTraining loss: 3.173\ttestidation loss: 2.388\n",
      "\n",
      "EPOCH 78:\tTraining loss: 3.540\ttestidation loss: 2.099\n",
      "\n",
      "EPOCH 79:\tTraining loss: 3.177\ttestidation loss: 2.368\n",
      "\n",
      "EPOCH 80:\tTraining loss: 3.540\ttestidation loss: 2.098\n",
      "\n",
      "EPOCH 81:\tTraining loss: 3.174\ttestidation loss: 2.381\n",
      "\n",
      "EPOCH 82:\tTraining loss: 3.538\ttestidation loss: 2.099\n",
      "\n",
      "EPOCH 83:\tTraining loss: 3.176\ttestidation loss: 2.369\n",
      "\n",
      "EPOCH 84:\tTraining loss: 3.537\ttestidation loss: 2.099\n",
      "\n",
      "EPOCH 85:\tTraining loss: 3.175\ttestidation loss: 2.376\n",
      "\n",
      "EPOCH 86:\tTraining loss: 3.535\ttestidation loss: 2.099\n",
      "\n",
      "EPOCH 87:\tTraining loss: 3.176\ttestidation loss: 2.369\n",
      "\n",
      "EPOCH 88:\tTraining loss: 3.535\ttestidation loss: 2.100\n",
      "\n",
      "EPOCH 89:\tTraining loss: 3.175\ttestidation loss: 2.372\n",
      "\n",
      "EPOCH 90:\tTraining loss: 3.533\ttestidation loss: 2.100\n",
      "\n",
      "EPOCH 91:\tTraining loss: 3.176\ttestidation loss: 2.368\n",
      "\n",
      "EPOCH 92:\tTraining loss: 3.532\ttestidation loss: 2.100\n",
      "\n",
      "EPOCH 93:\tTraining loss: 3.176\ttestidation loss: 2.369\n",
      "\n",
      "EPOCH 94:\tTraining loss: 3.531\ttestidation loss: 2.101\n",
      "\n",
      "EPOCH 95:\tTraining loss: 3.177\ttestidation loss: 2.366\n",
      "\n",
      "EPOCH 96:\tTraining loss: 3.530\ttestidation loss: 2.101\n",
      "\n",
      "EPOCH 97:\tTraining loss: 3.176\ttestidation loss: 2.367\n",
      "\n",
      "EPOCH 98:\tTraining loss: 3.528\ttestidation loss: 2.102\n",
      "\n",
      "EPOCH 99:\tTraining loss: 3.177\ttestidation loss: 2.365\n",
      "\n",
      "EPOCH 100:\tTraining loss: 3.527\ttestidation loss: 2.102\n",
      "\n",
      "EPOCH 101:\tTraining loss: 3.177\ttestidation loss: 2.365\n"
     ]
    }
   ],
   "source": [
    "train_accs = []\n",
    "train_losses = []\n",
    "test_accs = []\n",
    "test_losses = []\n",
    "\n",
    "for epoch in range(epochs):\n",
    "    train_batch_losses = []\n",
    "    train_batch_accs = []\n",
    "    test_batch_losses = []\n",
    "    test_batch_accs = []\n",
    "\n",
    "    for i in range(0, X_train.shape[0], batch_size):\n",
    "        X_i = X_train[i : i + batch_size]\n",
    "        y_i = y_train[i : i + batch_size]\n",
    "\n",
    "        y_hat = predict(X_i, theta)\n",
    "\n",
    "        train_loss = compute_loss(y_hat, y_i)\n",
    "\n",
    "        gradient = compute_gradient(X_i, y_i, y_hat)\n",
    "\n",
    "        theta = update_theta(theta, gradient, lr)\n",
    "\n",
    "        train_batch_losses.append(train_loss)\n",
    "\n",
    "        train_acc = compute_accuracy(X_train, y_train, theta)\n",
    "        train_batch_accs.append(train_acc)\n",
    "\n",
    "        y_test_hat = predict(X_test, theta)\n",
    "        test_loss = compute_loss(y_test_hat, y_test)\n",
    "        test_batch_losses.append(test_loss)\n",
    "\n",
    "        test_acc = compute_accuracy(X_test, y_test, theta)\n",
    "        test_batch_accs.append(test_acc)\n",
    "\n",
    "    train_batch_loss = sum(train_batch_losses) / len(train_batch_losses)\n",
    "    test_batch_loss = sum(test_batch_losses) / len(test_batch_losses)\n",
    "    train_batch_acc = sum(train_batch_accs) / len(train_batch_accs)\n",
    "    test_batch_acc = sum(test_batch_accs) / len(test_batch_accs)\n",
    "\n",
    "    train_losses.append(train_batch_loss)\n",
    "    test_losses.append(test_batch_loss)\n",
    "    train_accs.append(train_batch_acc)\n",
    "    test_accs.append(test_batch_acc)\n",
    "\n",
    "    print(\n",
    "        f\"\\nEPOCH {epoch + 1}:\\tTraining loss: {train_batch_loss:.3f}\\ttestidation loss: {test_batch_loss:.3f}\"\n",
    "    )"
   ]
  },
  {
   "cell_type": "code",
   "execution_count": 39,
   "metadata": {},
   "outputs": [
    {
     "data": {
      "image/png": "[encoded data removed]",
      "text/plain": [
       "<Figure size 1200x1000 with 4 Axes>"
      ]
     },
     "metadata": {},
     "output_type": "display_data"
    }
   ],
   "source": [
    "import matplotlib.pyplot as plt\n",
    "\n",
    "fig, ax = plt.subplots(2, 2, figsize=(12, 10))\n",
    "ax[0, 0].plot(train_losses)\n",
    "ax[0, 0].set(xlabel=\"Epoch\", ylabel=\"Loss\")\n",
    "ax[0, 0].set_title(\"Training Loss\")\n",
    "\n",
    "ax[0, 1].plot(test_losses, \"orange\")\n",
    "ax[0, 1].set(xlabel=\"Epoch\", ylabel=\"Loss\")\n",
    "ax[0, 1].set_title(\"Testing Loss\")\n",
    "\n",
    "ax[1, 0].plot(train_accs)\n",
    "ax[1, 0].set(xlabel=\"Epoch\", ylabel=\"Accuracy\")\n",
    "ax[1, 0].set_title(\"Training Accuracy\")\n",
    "\n",
    "ax[1, 1].plot(test_accs, \"orange\")\n",
    "ax[1, 1].set(xlabel=\"Epoch\", ylabel=\"Accuracy\")\n",
    "ax[1, 1].set_title(\"Testing Accuracy\")\n",
    "\n",
    "plt.show()"
   ]
  },
  {
   "cell_type": "code",
   "execution_count": 40,
   "metadata": {},
   "outputs": [
    {
     "name": "stdout",
     "output_type": "stream",
     "text": [
      "Evaluation on validation and test set:\n",
      "Accuracy: 0.7727272727272727\n"
     ]
    }
   ],
   "source": [
    "test_set_acc = compute_accuracy(X_test, y_test, theta)\n",
    "print(\"Evaluation on validation and test set:\")\n",
    "print(f\"Accuracy: {test_set_acc}\")"
   ]
  },
  {
   "cell_type": "code",
   "execution_count": 41,
   "metadata": {},
   "outputs": [
    {
     "name": "stdout",
     "output_type": "stream",
     "text": [
      "AUC: 0.666\n",
      "Precision: 0.773\n",
      "Recall: 1.000\n"
     ]
    }
   ],
   "source": [
    "# compute auc, precision, recall\n",
    "from sklearn.metrics import roc_auc_score, precision_score, recall_score\n",
    "\n",
    "y_test_hat = predict(X_test, theta)\n",
    "auc = roc_auc_score(y_test, y_test_hat)\n",
    "precision = precision_score(y_test, y_test_hat.round())\n",
    "recall = recall_score(y_test, y_test_hat.round())\n",
    "\n",
    "print(f\"AUC: {auc:.3f}\")\n",
    "print(f\"Precision: {precision:.3f}\")\n",
    "print(f\"Recall: {recall:.3f}\")"
   ]
  },
  {
   "cell_type": "code",
   "execution_count": null,
   "metadata": {},
   "outputs": [],
   "source": []
  },
  {
   "cell_type": "code",
   "execution_count": null,
   "metadata": {},
   "outputs": [],
   "source": []
  },
  {
   "cell_type": "markdown",
   "metadata": {},
   "source": [
    "# Model optuna"
   ]
  },
  {
   "cell_type": "code",
   "execution_count": 24,
   "metadata": {},
   "outputs": [],
   "source": [
    "import optuna\n"
   ]
  },
  {
   "cell_type": "code",
   "execution_count": 25,
   "metadata": {},
   "outputs": [],
   "source": [
    "# Optuna Objective function to optimize AUC\n",
    "def objective(trial):\n",
    "    # Define hyperparameters to tune\n",
    "    lr = trial.suggest_loguniform(\"lr\", 1e-5, 1e-1)\n",
    "    epochs = trial.suggest_int(\"epochs\", 50, 500)\n",
    "    batch_size = trial.suggest_categorical(\"batch_size\", [32, 64, 128, 256])\n",
    "\n",
    "    # Initialize parameters\n",
    "    theta = np.random.uniform(size=X_train.shape[1])\n",
    "    train_losses = []\n",
    "    test_losses = []\n",
    "    test_aucs = []\n",
    "\n",
    "    # Training loop\n",
    "    for epoch in range(epochs):\n",
    "        for i in range(0, X_train.shape[0], batch_size):\n",
    "            X_batch = X_train[i : i + batch_size]\n",
    "            y_batch = y_train[i : i + batch_size]\n",
    "\n",
    "            # Forward pass and loss\n",
    "            y_hat = predict(X_batch, theta)\n",
    "            train_loss = compute_loss(y_hat, y_batch)\n",
    "            gradient = compute_gradient(X_batch, y_batch, y_hat)\n",
    "            theta = update_theta(theta, gradient, lr)\n",
    "\n",
    "        # Calculate AUC on test data\n",
    "        y_test_hat = predict(X_test, theta)\n",
    "        test_auc = roc_auc_score(y_test, y_test_hat)\n",
    "        test_aucs.append(test_auc)\n",
    "\n",
    "        # Stop early if AUC is satisfactory\n",
    "        trial.report(test_auc, epoch)\n",
    "        if trial.should_prune():\n",
    "            raise optuna.exceptions.TrialPruned()\n",
    "\n",
    "    return max(test_aucs)"
   ]
  },
  {
   "cell_type": "code",
   "execution_count": 26,
   "metadata": {},
   "outputs": [
    {
     "name": "stderr",
     "output_type": "stream",
     "text": [
      "[I 2024-11-11 21:53:13,117] A new study created in memory with name: no-name-4acbacfa-9310-4cc0-a42d-719f04f57f93\n",
      "/var/folders/y2/hzjfncr92llg100m08nwxmhc0000gn/T/ipykernel_1193/2620807037.py:4: FutureWarning: suggest_loguniform has been deprecated in v3.0.0. This feature will be removed in v6.0.0. See https://github.com/optuna/optuna/releases/tag/v3.0.0. Use suggest_float(..., log=True) instead.\n",
      "  lr = trial.suggest_loguniform(\"lr\", 1e-5, 1e-1)\n",
      "[I 2024-11-11 21:53:13,692] Trial 0 finished with value: 0.5785241907413853 and parameters: {'lr': 0.0010673211866699369, 'epochs': 123, 'batch_size': 128}. Best is trial 0 with value: 0.5785241907413853.\n",
      "/var/folders/y2/hzjfncr92llg100m08nwxmhc0000gn/T/ipykernel_1193/2620807037.py:4: FutureWarning: suggest_loguniform has been deprecated in v3.0.0. This feature will be removed in v6.0.0. See https://github.com/optuna/optuna/releases/tag/v3.0.0. Use suggest_float(..., log=True) instead.\n",
      "  lr = trial.suggest_loguniform(\"lr\", 1e-5, 1e-1)\n",
      "[I 2024-11-11 21:53:15,353] Trial 1 finished with value: 0.6518273581621998 and parameters: {'lr': 7.473690013278043e-05, 'epochs': 302, 'batch_size': 128}. Best is trial 1 with value: 0.6518273581621998.\n",
      "/var/folders/y2/hzjfncr92llg100m08nwxmhc0000gn/T/ipykernel_1193/2620807037.py:4: FutureWarning: suggest_loguniform has been deprecated in v3.0.0. This feature will be removed in v6.0.0. See https://github.com/optuna/optuna/releases/tag/v3.0.0. Use suggest_float(..., log=True) instead.\n",
      "  lr = trial.suggest_loguniform(\"lr\", 1e-5, 1e-1)\n",
      "[I 2024-11-11 21:53:16,075] Trial 2 finished with value: 0.4977027497389488 and parameters: {'lr': 0.005773325422275258, 'epochs': 55, 'batch_size': 32}. Best is trial 1 with value: 0.6518273581621998.\n",
      "/var/folders/y2/hzjfncr92llg100m08nwxmhc0000gn/T/ipykernel_1193/2620807037.py:4: FutureWarning: suggest_loguniform has been deprecated in v3.0.0. This feature will be removed in v6.0.0. See https://github.com/optuna/optuna/releases/tag/v3.0.0. Use suggest_float(..., log=True) instead.\n",
      "  lr = trial.suggest_loguniform(\"lr\", 1e-5, 1e-1)\n",
      "[I 2024-11-11 21:53:17,528] Trial 3 finished with value: 0.6216150365471632 and parameters: {'lr': 0.005676287635581461, 'epochs': 268, 'batch_size': 128}. Best is trial 1 with value: 0.6518273581621998.\n",
      "/var/folders/y2/hzjfncr92llg100m08nwxmhc0000gn/T/ipykernel_1193/2620807037.py:4: FutureWarning: suggest_loguniform has been deprecated in v3.0.0. This feature will be removed in v6.0.0. See https://github.com/optuna/optuna/releases/tag/v3.0.0. Use suggest_float(..., log=True) instead.\n",
      "  lr = trial.suggest_loguniform(\"lr\", 1e-5, 1e-1)\n",
      "[I 2024-11-11 21:53:18,165] Trial 4 finished with value: 0.6709711103376262 and parameters: {'lr': 0.004511769360687027, 'epochs': 120, 'batch_size': 128}. Best is trial 4 with value: 0.6709711103376262.\n",
      "/var/folders/y2/hzjfncr92llg100m08nwxmhc0000gn/T/ipykernel_1193/2620807037.py:4: FutureWarning: suggest_loguniform has been deprecated in v3.0.0. This feature will be removed in v6.0.0. See https://github.com/optuna/optuna/releases/tag/v3.0.0. Use suggest_float(..., log=True) instead.\n",
      "  lr = trial.suggest_loguniform(\"lr\", 1e-5, 1e-1)\n",
      "[I 2024-11-11 21:53:18,193] Trial 5 pruned. \n",
      "/var/folders/y2/hzjfncr92llg100m08nwxmhc0000gn/T/ipykernel_1193/2620807037.py:4: FutureWarning: suggest_loguniform has been deprecated in v3.0.0. This feature will be removed in v6.0.0. See https://github.com/optuna/optuna/releases/tag/v3.0.0. Use suggest_float(..., log=True) instead.\n",
      "  lr = trial.suggest_loguniform(\"lr\", 1e-5, 1e-1)\n",
      "[I 2024-11-11 21:53:18,724] Trial 6 finished with value: 0.6954054994778978 and parameters: {'lr': 0.07157358459955648, 'epochs': 101, 'batch_size': 256}. Best is trial 6 with value: 0.6954054994778978.\n",
      "/var/folders/y2/hzjfncr92llg100m08nwxmhc0000gn/T/ipykernel_1193/2620807037.py:4: FutureWarning: suggest_loguniform has been deprecated in v3.0.0. This feature will be removed in v6.0.0. See https://github.com/optuna/optuna/releases/tag/v3.0.0. Use suggest_float(..., log=True) instead.\n",
      "  lr = trial.suggest_loguniform(\"lr\", 1e-5, 1e-1)\n",
      "[I 2024-11-11 21:53:18,737] Trial 7 pruned. \n",
      "/var/folders/y2/hzjfncr92llg100m08nwxmhc0000gn/T/ipykernel_1193/2620807037.py:4: FutureWarning: suggest_loguniform has been deprecated in v3.0.0. This feature will be removed in v6.0.0. See https://github.com/optuna/optuna/releases/tag/v3.0.0. Use suggest_float(..., log=True) instead.\n",
      "  lr = trial.suggest_loguniform(\"lr\", 1e-5, 1e-1)\n",
      "[I 2024-11-11 21:53:18,790] Trial 8 pruned. \n",
      "/var/folders/y2/hzjfncr92llg100m08nwxmhc0000gn/T/ipykernel_1193/2620807037.py:4: FutureWarning: suggest_loguniform has been deprecated in v3.0.0. This feature will be removed in v6.0.0. See https://github.com/optuna/optuna/releases/tag/v3.0.0. Use suggest_float(..., log=True) instead.\n",
      "  lr = trial.suggest_loguniform(\"lr\", 1e-5, 1e-1)\n",
      "[I 2024-11-11 21:53:18,799] Trial 9 pruned. \n",
      "/var/folders/y2/hzjfncr92llg100m08nwxmhc0000gn/T/ipykernel_1193/2620807037.py:4: FutureWarning: suggest_loguniform has been deprecated in v3.0.0. This feature will be removed in v6.0.0. See https://github.com/optuna/optuna/releases/tag/v3.0.0. Use suggest_float(..., log=True) instead.\n",
      "  lr = trial.suggest_loguniform(\"lr\", 1e-5, 1e-1)\n",
      "[I 2024-11-11 21:53:18,839] Trial 10 pruned. \n",
      "/var/folders/y2/hzjfncr92llg100m08nwxmhc0000gn/T/ipykernel_1193/2620807037.py:4: FutureWarning: suggest_loguniform has been deprecated in v3.0.0. This feature will be removed in v6.0.0. See https://github.com/optuna/optuna/releases/tag/v3.0.0. Use suggest_float(..., log=True) instead.\n",
      "  lr = trial.suggest_loguniform(\"lr\", 1e-5, 1e-1)\n",
      "[I 2024-11-11 21:53:18,862] Trial 11 pruned. \n",
      "/var/folders/y2/hzjfncr92llg100m08nwxmhc0000gn/T/ipykernel_1193/2620807037.py:4: FutureWarning: suggest_loguniform has been deprecated in v3.0.0. This feature will be removed in v6.0.0. See https://github.com/optuna/optuna/releases/tag/v3.0.0. Use suggest_float(..., log=True) instead.\n",
      "  lr = trial.suggest_loguniform(\"lr\", 1e-5, 1e-1)\n",
      "[I 2024-11-11 21:53:18,883] Trial 12 pruned. \n",
      "/var/folders/y2/hzjfncr92llg100m08nwxmhc0000gn/T/ipykernel_1193/2620807037.py:4: FutureWarning: suggest_loguniform has been deprecated in v3.0.0. This feature will be removed in v6.0.0. See https://github.com/optuna/optuna/releases/tag/v3.0.0. Use suggest_float(..., log=True) instead.\n",
      "  lr = trial.suggest_loguniform(\"lr\", 1e-5, 1e-1)\n",
      "[I 2024-11-11 21:53:18,912] Trial 13 pruned. \n",
      "/var/folders/y2/hzjfncr92llg100m08nwxmhc0000gn/T/ipykernel_1193/2620807037.py:4: FutureWarning: suggest_loguniform has been deprecated in v3.0.0. This feature will be removed in v6.0.0. See https://github.com/optuna/optuna/releases/tag/v3.0.0. Use suggest_float(..., log=True) instead.\n",
      "  lr = trial.suggest_loguniform(\"lr\", 1e-5, 1e-1)\n",
      "[I 2024-11-11 21:53:18,923] Trial 14 pruned. \n",
      "/var/folders/y2/hzjfncr92llg100m08nwxmhc0000gn/T/ipykernel_1193/2620807037.py:4: FutureWarning: suggest_loguniform has been deprecated in v3.0.0. This feature will be removed in v6.0.0. See https://github.com/optuna/optuna/releases/tag/v3.0.0. Use suggest_float(..., log=True) instead.\n",
      "  lr = trial.suggest_loguniform(\"lr\", 1e-5, 1e-1)\n",
      "[I 2024-11-11 21:53:18,937] Trial 15 pruned. \n",
      "/var/folders/y2/hzjfncr92llg100m08nwxmhc0000gn/T/ipykernel_1193/2620807037.py:4: FutureWarning: suggest_loguniform has been deprecated in v3.0.0. This feature will be removed in v6.0.0. See https://github.com/optuna/optuna/releases/tag/v3.0.0. Use suggest_float(..., log=True) instead.\n",
      "  lr = trial.suggest_loguniform(\"lr\", 1e-5, 1e-1)\n",
      "[I 2024-11-11 21:53:18,949] Trial 16 pruned. \n",
      "/var/folders/y2/hzjfncr92llg100m08nwxmhc0000gn/T/ipykernel_1193/2620807037.py:4: FutureWarning: suggest_loguniform has been deprecated in v3.0.0. This feature will be removed in v6.0.0. See https://github.com/optuna/optuna/releases/tag/v3.0.0. Use suggest_float(..., log=True) instead.\n",
      "  lr = trial.suggest_loguniform(\"lr\", 1e-5, 1e-1)\n",
      "[I 2024-11-11 21:53:18,972] Trial 17 pruned. \n",
      "/var/folders/y2/hzjfncr92llg100m08nwxmhc0000gn/T/ipykernel_1193/2620807037.py:4: FutureWarning: suggest_loguniform has been deprecated in v3.0.0. This feature will be removed in v6.0.0. See https://github.com/optuna/optuna/releases/tag/v3.0.0. Use suggest_float(..., log=True) instead.\n",
      "  lr = trial.suggest_loguniform(\"lr\", 1e-5, 1e-1)\n",
      "[I 2024-11-11 21:53:18,986] Trial 18 pruned. \n",
      "/var/folders/y2/hzjfncr92llg100m08nwxmhc0000gn/T/ipykernel_1193/2620807037.py:4: FutureWarning: suggest_loguniform has been deprecated in v3.0.0. This feature will be removed in v6.0.0. See https://github.com/optuna/optuna/releases/tag/v3.0.0. Use suggest_float(..., log=True) instead.\n",
      "  lr = trial.suggest_loguniform(\"lr\", 1e-5, 1e-1)\n",
      "[I 2024-11-11 21:53:18,999] Trial 19 pruned. \n",
      "/var/folders/y2/hzjfncr92llg100m08nwxmhc0000gn/T/ipykernel_1193/2620807037.py:4: FutureWarning: suggest_loguniform has been deprecated in v3.0.0. This feature will be removed in v6.0.0. See https://github.com/optuna/optuna/releases/tag/v3.0.0. Use suggest_float(..., log=True) instead.\n",
      "  lr = trial.suggest_loguniform(\"lr\", 1e-5, 1e-1)\n",
      "[I 2024-11-11 21:53:19,011] Trial 20 pruned. \n",
      "/var/folders/y2/hzjfncr92llg100m08nwxmhc0000gn/T/ipykernel_1193/2620807037.py:4: FutureWarning: suggest_loguniform has been deprecated in v3.0.0. This feature will be removed in v6.0.0. See https://github.com/optuna/optuna/releases/tag/v3.0.0. Use suggest_float(..., log=True) instead.\n",
      "  lr = trial.suggest_loguniform(\"lr\", 1e-5, 1e-1)\n",
      "[I 2024-11-11 21:53:19,028] Trial 21 pruned. \n",
      "/var/folders/y2/hzjfncr92llg100m08nwxmhc0000gn/T/ipykernel_1193/2620807037.py:4: FutureWarning: suggest_loguniform has been deprecated in v3.0.0. This feature will be removed in v6.0.0. See https://github.com/optuna/optuna/releases/tag/v3.0.0. Use suggest_float(..., log=True) instead.\n",
      "  lr = trial.suggest_loguniform(\"lr\", 1e-5, 1e-1)\n",
      "[I 2024-11-11 21:53:19,040] Trial 22 pruned. \n",
      "/var/folders/y2/hzjfncr92llg100m08nwxmhc0000gn/T/ipykernel_1193/2620807037.py:4: FutureWarning: suggest_loguniform has been deprecated in v3.0.0. This feature will be removed in v6.0.0. See https://github.com/optuna/optuna/releases/tag/v3.0.0. Use suggest_float(..., log=True) instead.\n",
      "  lr = trial.suggest_loguniform(\"lr\", 1e-5, 1e-1)\n",
      "[I 2024-11-11 21:53:19,071] Trial 23 pruned. \n",
      "/var/folders/y2/hzjfncr92llg100m08nwxmhc0000gn/T/ipykernel_1193/2620807037.py:4: FutureWarning: suggest_loguniform has been deprecated in v3.0.0. This feature will be removed in v6.0.0. See https://github.com/optuna/optuna/releases/tag/v3.0.0. Use suggest_float(..., log=True) instead.\n",
      "  lr = trial.suggest_loguniform(\"lr\", 1e-5, 1e-1)\n",
      "[I 2024-11-11 21:53:19,115] Trial 24 pruned. \n",
      "/var/folders/y2/hzjfncr92llg100m08nwxmhc0000gn/T/ipykernel_1193/2620807037.py:4: FutureWarning: suggest_loguniform has been deprecated in v3.0.0. This feature will be removed in v6.0.0. See https://github.com/optuna/optuna/releases/tag/v3.0.0. Use suggest_float(..., log=True) instead.\n",
      "  lr = trial.suggest_loguniform(\"lr\", 1e-5, 1e-1)\n",
      "[I 2024-11-11 21:53:19,138] Trial 25 pruned. \n",
      "/var/folders/y2/hzjfncr92llg100m08nwxmhc0000gn/T/ipykernel_1193/2620807037.py:4: FutureWarning: suggest_loguniform has been deprecated in v3.0.0. This feature will be removed in v6.0.0. See https://github.com/optuna/optuna/releases/tag/v3.0.0. Use suggest_float(..., log=True) instead.\n",
      "  lr = trial.suggest_loguniform(\"lr\", 1e-5, 1e-1)\n",
      "[I 2024-11-11 21:53:19,169] Trial 26 pruned. \n",
      "/var/folders/y2/hzjfncr92llg100m08nwxmhc0000gn/T/ipykernel_1193/2620807037.py:4: FutureWarning: suggest_loguniform has been deprecated in v3.0.0. This feature will be removed in v6.0.0. See https://github.com/optuna/optuna/releases/tag/v3.0.0. Use suggest_float(..., log=True) instead.\n",
      "  lr = trial.suggest_loguniform(\"lr\", 1e-5, 1e-1)\n",
      "[I 2024-11-11 21:53:19,207] Trial 27 pruned. \n",
      "/var/folders/y2/hzjfncr92llg100m08nwxmhc0000gn/T/ipykernel_1193/2620807037.py:4: FutureWarning: suggest_loguniform has been deprecated in v3.0.0. This feature will be removed in v6.0.0. See https://github.com/optuna/optuna/releases/tag/v3.0.0. Use suggest_float(..., log=True) instead.\n",
      "  lr = trial.suggest_loguniform(\"lr\", 1e-5, 1e-1)\n",
      "[I 2024-11-11 21:53:19,245] Trial 28 pruned. \n",
      "/var/folders/y2/hzjfncr92llg100m08nwxmhc0000gn/T/ipykernel_1193/2620807037.py:4: FutureWarning: suggest_loguniform has been deprecated in v3.0.0. This feature will be removed in v6.0.0. See https://github.com/optuna/optuna/releases/tag/v3.0.0. Use suggest_float(..., log=True) instead.\n",
      "  lr = trial.suggest_loguniform(\"lr\", 1e-5, 1e-1)\n",
      "[I 2024-11-11 21:53:19,286] Trial 29 pruned. \n",
      "/var/folders/y2/hzjfncr92llg100m08nwxmhc0000gn/T/ipykernel_1193/2620807037.py:4: FutureWarning: suggest_loguniform has been deprecated in v3.0.0. This feature will be removed in v6.0.0. See https://github.com/optuna/optuna/releases/tag/v3.0.0. Use suggest_float(..., log=True) instead.\n",
      "  lr = trial.suggest_loguniform(\"lr\", 1e-5, 1e-1)\n",
      "[I 2024-11-11 21:53:19,334] Trial 30 pruned. \n",
      "/var/folders/y2/hzjfncr92llg100m08nwxmhc0000gn/T/ipykernel_1193/2620807037.py:4: FutureWarning: suggest_loguniform has been deprecated in v3.0.0. This feature will be removed in v6.0.0. See https://github.com/optuna/optuna/releases/tag/v3.0.0. Use suggest_float(..., log=True) instead.\n",
      "  lr = trial.suggest_loguniform(\"lr\", 1e-5, 1e-1)\n",
      "[I 2024-11-11 21:53:19,364] Trial 31 pruned. \n",
      "/var/folders/y2/hzjfncr92llg100m08nwxmhc0000gn/T/ipykernel_1193/2620807037.py:4: FutureWarning: suggest_loguniform has been deprecated in v3.0.0. This feature will be removed in v6.0.0. See https://github.com/optuna/optuna/releases/tag/v3.0.0. Use suggest_float(..., log=True) instead.\n",
      "  lr = trial.suggest_loguniform(\"lr\", 1e-5, 1e-1)\n",
      "[I 2024-11-11 21:53:19,381] Trial 32 pruned. \n",
      "/var/folders/y2/hzjfncr92llg100m08nwxmhc0000gn/T/ipykernel_1193/2620807037.py:4: FutureWarning: suggest_loguniform has been deprecated in v3.0.0. This feature will be removed in v6.0.0. See https://github.com/optuna/optuna/releases/tag/v3.0.0. Use suggest_float(..., log=True) instead.\n",
      "  lr = trial.suggest_loguniform(\"lr\", 1e-5, 1e-1)\n",
      "[I 2024-11-11 21:53:19,423] Trial 33 pruned. \n",
      "/var/folders/y2/hzjfncr92llg100m08nwxmhc0000gn/T/ipykernel_1193/2620807037.py:4: FutureWarning: suggest_loguniform has been deprecated in v3.0.0. This feature will be removed in v6.0.0. See https://github.com/optuna/optuna/releases/tag/v3.0.0. Use suggest_float(..., log=True) instead.\n",
      "  lr = trial.suggest_loguniform(\"lr\", 1e-5, 1e-1)\n",
      "[I 2024-11-11 21:53:19,454] Trial 34 pruned. \n",
      "/var/folders/y2/hzjfncr92llg100m08nwxmhc0000gn/T/ipykernel_1193/2620807037.py:4: FutureWarning: suggest_loguniform has been deprecated in v3.0.0. This feature will be removed in v6.0.0. See https://github.com/optuna/optuna/releases/tag/v3.0.0. Use suggest_float(..., log=True) instead.\n",
      "  lr = trial.suggest_loguniform(\"lr\", 1e-5, 1e-1)\n",
      "[I 2024-11-11 21:53:19,496] Trial 35 pruned. \n",
      "/var/folders/y2/hzjfncr92llg100m08nwxmhc0000gn/T/ipykernel_1193/2620807037.py:4: FutureWarning: suggest_loguniform has been deprecated in v3.0.0. This feature will be removed in v6.0.0. See https://github.com/optuna/optuna/releases/tag/v3.0.0. Use suggest_float(..., log=True) instead.\n",
      "  lr = trial.suggest_loguniform(\"lr\", 1e-5, 1e-1)\n",
      "[I 2024-11-11 21:53:19,524] Trial 36 pruned. \n",
      "/var/folders/y2/hzjfncr92llg100m08nwxmhc0000gn/T/ipykernel_1193/2620807037.py:4: FutureWarning: suggest_loguniform has been deprecated in v3.0.0. This feature will be removed in v6.0.0. See https://github.com/optuna/optuna/releases/tag/v3.0.0. Use suggest_float(..., log=True) instead.\n",
      "  lr = trial.suggest_loguniform(\"lr\", 1e-5, 1e-1)\n",
      "[I 2024-11-11 21:53:19,554] Trial 37 pruned. \n",
      "/var/folders/y2/hzjfncr92llg100m08nwxmhc0000gn/T/ipykernel_1193/2620807037.py:4: FutureWarning: suggest_loguniform has been deprecated in v3.0.0. This feature will be removed in v6.0.0. See https://github.com/optuna/optuna/releases/tag/v3.0.0. Use suggest_float(..., log=True) instead.\n",
      "  lr = trial.suggest_loguniform(\"lr\", 1e-5, 1e-1)\n",
      "[I 2024-11-11 21:53:19,571] Trial 38 pruned. \n",
      "/var/folders/y2/hzjfncr92llg100m08nwxmhc0000gn/T/ipykernel_1193/2620807037.py:4: FutureWarning: suggest_loguniform has been deprecated in v3.0.0. This feature will be removed in v6.0.0. See https://github.com/optuna/optuna/releases/tag/v3.0.0. Use suggest_float(..., log=True) instead.\n",
      "  lr = trial.suggest_loguniform(\"lr\", 1e-5, 1e-1)\n",
      "[I 2024-11-11 21:53:19,584] Trial 39 pruned. \n",
      "/var/folders/y2/hzjfncr92llg100m08nwxmhc0000gn/T/ipykernel_1193/2620807037.py:4: FutureWarning: suggest_loguniform has been deprecated in v3.0.0. This feature will be removed in v6.0.0. See https://github.com/optuna/optuna/releases/tag/v3.0.0. Use suggest_float(..., log=True) instead.\n",
      "  lr = trial.suggest_loguniform(\"lr\", 1e-5, 1e-1)\n",
      "[I 2024-11-11 21:53:19,623] Trial 40 pruned. \n",
      "/var/folders/y2/hzjfncr92llg100m08nwxmhc0000gn/T/ipykernel_1193/2620807037.py:4: FutureWarning: suggest_loguniform has been deprecated in v3.0.0. This feature will be removed in v6.0.0. See https://github.com/optuna/optuna/releases/tag/v3.0.0. Use suggest_float(..., log=True) instead.\n",
      "  lr = trial.suggest_loguniform(\"lr\", 1e-5, 1e-1)\n",
      "[I 2024-11-11 21:53:19,656] Trial 41 pruned. \n",
      "/var/folders/y2/hzjfncr92llg100m08nwxmhc0000gn/T/ipykernel_1193/2620807037.py:4: FutureWarning: suggest_loguniform has been deprecated in v3.0.0. This feature will be removed in v6.0.0. See https://github.com/optuna/optuna/releases/tag/v3.0.0. Use suggest_float(..., log=True) instead.\n",
      "  lr = trial.suggest_loguniform(\"lr\", 1e-5, 1e-1)\n",
      "[I 2024-11-11 21:53:19,721] Trial 42 pruned. \n",
      "/var/folders/y2/hzjfncr92llg100m08nwxmhc0000gn/T/ipykernel_1193/2620807037.py:4: FutureWarning: suggest_loguniform has been deprecated in v3.0.0. This feature will be removed in v6.0.0. See https://github.com/optuna/optuna/releases/tag/v3.0.0. Use suggest_float(..., log=True) instead.\n",
      "  lr = trial.suggest_loguniform(\"lr\", 1e-5, 1e-1)\n",
      "[I 2024-11-11 21:53:19,749] Trial 43 pruned. \n",
      "/var/folders/y2/hzjfncr92llg100m08nwxmhc0000gn/T/ipykernel_1193/2620807037.py:4: FutureWarning: suggest_loguniform has been deprecated in v3.0.0. This feature will be removed in v6.0.0. See https://github.com/optuna/optuna/releases/tag/v3.0.0. Use suggest_float(..., log=True) instead.\n",
      "  lr = trial.suggest_loguniform(\"lr\", 1e-5, 1e-1)\n",
      "[I 2024-11-11 21:53:19,772] Trial 44 pruned. \n",
      "/var/folders/y2/hzjfncr92llg100m08nwxmhc0000gn/T/ipykernel_1193/2620807037.py:4: FutureWarning: suggest_loguniform has been deprecated in v3.0.0. This feature will be removed in v6.0.0. See https://github.com/optuna/optuna/releases/tag/v3.0.0. Use suggest_float(..., log=True) instead.\n",
      "  lr = trial.suggest_loguniform(\"lr\", 1e-5, 1e-1)\n",
      "[I 2024-11-11 21:53:19,793] Trial 45 pruned. \n",
      "/var/folders/y2/hzjfncr92llg100m08nwxmhc0000gn/T/ipykernel_1193/2620807037.py:4: FutureWarning: suggest_loguniform has been deprecated in v3.0.0. This feature will be removed in v6.0.0. See https://github.com/optuna/optuna/releases/tag/v3.0.0. Use suggest_float(..., log=True) instead.\n",
      "  lr = trial.suggest_loguniform(\"lr\", 1e-5, 1e-1)\n",
      "[I 2024-11-11 21:53:20,144] Trial 46 finished with value: 0.6931778628611207 and parameters: {'lr': 0.06902566901506851, 'epochs': 60, 'batch_size': 256}. Best is trial 6 with value: 0.6954054994778978.\n",
      "/var/folders/y2/hzjfncr92llg100m08nwxmhc0000gn/T/ipykernel_1193/2620807037.py:4: FutureWarning: suggest_loguniform has been deprecated in v3.0.0. This feature will be removed in v6.0.0. See https://github.com/optuna/optuna/releases/tag/v3.0.0. Use suggest_float(..., log=True) instead.\n",
      "  lr = trial.suggest_loguniform(\"lr\", 1e-5, 1e-1)\n",
      "[I 2024-11-11 21:53:20,173] Trial 47 pruned. \n",
      "/var/folders/y2/hzjfncr92llg100m08nwxmhc0000gn/T/ipykernel_1193/2620807037.py:4: FutureWarning: suggest_loguniform has been deprecated in v3.0.0. This feature will be removed in v6.0.0. See https://github.com/optuna/optuna/releases/tag/v3.0.0. Use suggest_float(..., log=True) instead.\n",
      "  lr = trial.suggest_loguniform(\"lr\", 1e-5, 1e-1)\n",
      "[I 2024-11-11 21:53:20,215] Trial 48 pruned. \n",
      "/var/folders/y2/hzjfncr92llg100m08nwxmhc0000gn/T/ipykernel_1193/2620807037.py:4: FutureWarning: suggest_loguniform has been deprecated in v3.0.0. This feature will be removed in v6.0.0. See https://github.com/optuna/optuna/releases/tag/v3.0.0. Use suggest_float(..., log=True) instead.\n",
      "  lr = trial.suggest_loguniform(\"lr\", 1e-5, 1e-1)\n",
      "[I 2024-11-11 21:53:20,250] Trial 49 pruned. \n"
     ]
    }
   ],
   "source": [
    "# Run Optuna study\n",
    "study = optuna.create_study(direction=\"maximize\")\n",
    "study.optimize(objective, n_trials=50)\n"
   ]
  },
  {
   "cell_type": "code",
   "execution_count": 27,
   "metadata": {},
   "outputs": [
    {
     "name": "stdout",
     "output_type": "stream",
     "text": [
      "Best trial:\n",
      "  AUC Score: 0.6954054994778978\n",
      "  Params:\n",
      "    lr: 0.07157358459955648\n",
      "    epochs: 101\n",
      "    batch_size: 256\n"
     ]
    }
   ],
   "source": [
    "# Display best trial\n",
    "print(\"Best trial:\")\n",
    "trial = study.best_trial\n",
    "print(f\"  AUC Score: {trial.value}\")\n",
    "print(\"  Params:\")\n",
    "for key, value in trial.params.items():\n",
    "    print(f\"    {key}: {value}\")"
   ]
  },
  {
   "cell_type": "code",
   "execution_count": null,
   "metadata": {},
   "outputs": [],
   "source": []
  },
  {
   "cell_type": "code",
   "execution_count": null,
   "metadata": {},
   "outputs": [],
   "source": []
  },
  {
   "cell_type": "markdown",
   "metadata": {},
   "source": [
    "# Model tuning"
   ]
  },
  {
   "cell_type": "code",
   "execution_count": 5,
   "metadata": {},
   "outputs": [
    {
     "name": "stdout",
     "output_type": "stream",
     "text": [
      "                                                                              \n",
      "Generation 1 - Current best internal CV score: 0.631005816769892\n",
      "                                                                             \n",
      "Generation 2 - Current best internal CV score: 0.6410992739100967\n",
      "                                                                             \n",
      "Generation 3 - Current best internal CV score: 0.6411517098701781\n",
      "                                                                             \n",
      "Generation 4 - Current best internal CV score: 0.6411517098701781\n",
      "                                                                              \n",
      "Generation 5 - Current best internal CV score: 0.6411517098701781\n",
      "                                                                              \n",
      "Best pipeline: KNeighborsClassifier(ZeroCount(input_matrix), n_neighbors=27, p=2, weights=distance)\n"
     ]
    },
    {
     "data": {
      "text/html": [
       "<style>#sk-container-id-1 {\n",
       "  /* Definition of color scheme common for light and dark mode */\n",
       "  --sklearn-color-text: black;\n",
       "  --sklearn-color-line: gray;\n",
       "  /* Definition of color scheme for unfitted estimators */\n",
       "  --sklearn-color-unfitted-level-0: #fff5e6;\n",
       "  --sklearn-color-unfitted-level-1: #f6e4d2;\n",
       "  --sklearn-color-unfitted-level-2: #ffe0b3;\n",
       "  --sklearn-color-unfitted-level-3: chocolate;\n",
       "  /* Definition of color scheme for fitted estimators */\n",
       "  --sklearn-color-fitted-level-0: #f0f8ff;\n",
       "  --sklearn-color-fitted-level-1: #d4ebff;\n",
       "  --sklearn-color-fitted-level-2: #b3dbfd;\n",
       "  --sklearn-color-fitted-level-3: cornflowerblue;\n",
       "\n",
       "  /* Specific color for light theme */\n",
       "  --sklearn-color-text-on-default-background: var(--sg-text-color, var(--theme-code-foreground, var(--jp-content-font-color1, black)));\n",
       "  --sklearn-color-background: var(--sg-background-color, var(--theme-background, var(--jp-layout-color0, white)));\n",
       "  --sklearn-color-border-box: var(--sg-text-color, var(--theme-code-foreground, var(--jp-content-font-color1, black)));\n",
       "  --sklearn-color-icon: #696969;\n",
       "\n",
       "  @media (prefers-color-scheme: dark) {\n",
       "    /* Redefinition of color scheme for dark theme */\n",
       "    --sklearn-color-text-on-default-background: var(--sg-text-color, var(--theme-code-foreground, var(--jp-content-font-color1, white)));\n",
       "    --sklearn-color-background: var(--sg-background-color, var(--theme-background, var(--jp-layout-color0, #111)));\n",
       "    --sklearn-color-border-box: var(--sg-text-color, var(--theme-code-foreground, var(--jp-content-font-color1, white)));\n",
       "    --sklearn-color-icon: #878787;\n",
       "  }\n",
       "}\n",
       "\n",
       "#sk-container-id-1 {\n",
       "  color: var(--sklearn-color-text);\n",
       "}\n",
       "\n",
       "#sk-container-id-1 pre {\n",
       "  padding: 0;\n",
       "}\n",
       "\n",
       "#sk-container-id-1 input.sk-hidden--visually {\n",
       "  border: 0;\n",
       "  clip: rect(1px 1px 1px 1px);\n",
       "  clip: rect(1px, 1px, 1px, 1px);\n",
       "  height: 1px;\n",
       "  margin: -1px;\n",
       "  overflow: hidden;\n",
       "  padding: 0;\n",
       "  position: absolute;\n",
       "  width: 1px;\n",
       "}\n",
       "\n",
       "#sk-container-id-1 div.sk-dashed-wrapped {\n",
       "  border: 1px dashed var(--sklearn-color-line);\n",
       "  margin: 0 0.4em 0.5em 0.4em;\n",
       "  box-sizing: border-box;\n",
       "  padding-bottom: 0.4em;\n",
       "  background-color: var(--sklearn-color-background);\n",
       "}\n",
       "\n",
       "#sk-container-id-1 div.sk-container {\n",
       "  /* jupyter's `normalize.less` sets `[hidden] { display: none; }`\n",
       "     but bootstrap.min.css set `[hidden] { display: none !important; }`\n",
       "     so we also need the `!important` here to be able to override the\n",
       "     default hidden behavior on the sphinx rendered scikit-learn.org.\n",
       "     See: https://github.com/scikit-learn/scikit-learn/issues/21755 */\n",
       "  display: inline-block !important;\n",
       "  position: relative;\n",
       "}\n",
       "\n",
       "#sk-container-id-1 div.sk-text-repr-fallback {\n",
       "  display: none;\n",
       "}\n",
       "\n",
       "div.sk-parallel-item,\n",
       "div.sk-serial,\n",
       "div.sk-item {\n",
       "  /* draw centered vertical line to link estimators */\n",
       "  background-image: linear-gradient(var(--sklearn-color-text-on-default-background), var(--sklearn-color-text-on-default-background));\n",
       "  background-size: 2px 100%;\n",
       "  background-repeat: no-repeat;\n",
       "  background-position: center center;\n",
       "}\n",
       "\n",
       "/* Parallel-specific style estimator block */\n",
       "\n",
       "#sk-container-id-1 div.sk-parallel-item::after {\n",
       "  content: \"\";\n",
       "  width: 100%;\n",
       "  border-bottom: 2px solid var(--sklearn-color-text-on-default-background);\n",
       "  flex-grow: 1;\n",
       "}\n",
       "\n",
       "#sk-container-id-1 div.sk-parallel {\n",
       "  display: flex;\n",
       "  align-items: stretch;\n",
       "  justify-content: center;\n",
       "  background-color: var(--sklearn-color-background);\n",
       "  position: relative;\n",
       "}\n",
       "\n",
       "#sk-container-id-1 div.sk-parallel-item {\n",
       "  display: flex;\n",
       "  flex-direction: column;\n",
       "}\n",
       "\n",
       "#sk-container-id-1 div.sk-parallel-item:first-child::after {\n",
       "  align-self: flex-end;\n",
       "  width: 50%;\n",
       "}\n",
       "\n",
       "#sk-container-id-1 div.sk-parallel-item:last-child::after {\n",
       "  align-self: flex-start;\n",
       "  width: 50%;\n",
       "}\n",
       "\n",
       "#sk-container-id-1 div.sk-parallel-item:only-child::after {\n",
       "  width: 0;\n",
       "}\n",
       "\n",
       "/* Serial-specific style estimator block */\n",
       "\n",
       "#sk-container-id-1 div.sk-serial {\n",
       "  display: flex;\n",
       "  flex-direction: column;\n",
       "  align-items: center;\n",
       "  background-color: var(--sklearn-color-background);\n",
       "  padding-right: 1em;\n",
       "  padding-left: 1em;\n",
       "}\n",
       "\n",
       "\n",
       "/* Toggleable style: style used for estimator/Pipeline/ColumnTransformer box that is\n",
       "clickable and can be expanded/collapsed.\n",
       "- Pipeline and ColumnTransformer use this feature and define the default style\n",
       "- Estimators will overwrite some part of the style using the `sk-estimator` class\n",
       "*/\n",
       "\n",
       "/* Pipeline and ColumnTransformer style (default) */\n",
       "\n",
       "#sk-container-id-1 div.sk-toggleable {\n",
       "  /* Default theme specific background. It is overwritten whether we have a\n",
       "  specific estimator or a Pipeline/ColumnTransformer */\n",
       "  background-color: var(--sklearn-color-background);\n",
       "}\n",
       "\n",
       "/* Toggleable label */\n",
       "#sk-container-id-1 label.sk-toggleable__label {\n",
       "  cursor: pointer;\n",
       "  display: block;\n",
       "  width: 100%;\n",
       "  margin-bottom: 0;\n",
       "  padding: 0.5em;\n",
       "  box-sizing: border-box;\n",
       "  text-align: center;\n",
       "}\n",
       "\n",
       "#sk-container-id-1 label.sk-toggleable__label-arrow:before {\n",
       "  /* Arrow on the left of the label */\n",
       "  content: \"▸\";\n",
       "  float: left;\n",
       "  margin-right: 0.25em;\n",
       "  color: var(--sklearn-color-icon);\n",
       "}\n",
       "\n",
       "#sk-container-id-1 label.sk-toggleable__label-arrow:hover:before {\n",
       "  color: var(--sklearn-color-text);\n",
       "}\n",
       "\n",
       "/* Toggleable content - dropdown */\n",
       "\n",
       "#sk-container-id-1 div.sk-toggleable__content {\n",
       "  max-height: 0;\n",
       "  max-width: 0;\n",
       "  overflow: hidden;\n",
       "  text-align: left;\n",
       "  /* unfitted */\n",
       "  background-color: var(--sklearn-color-unfitted-level-0);\n",
       "}\n",
       "\n",
       "#sk-container-id-1 div.sk-toggleable__content.fitted {\n",
       "  /* fitted */\n",
       "  background-color: var(--sklearn-color-fitted-level-0);\n",
       "}\n",
       "\n",
       "#sk-container-id-1 div.sk-toggleable__content pre {\n",
       "  margin: 0.2em;\n",
       "  border-radius: 0.25em;\n",
       "  color: var(--sklearn-color-text);\n",
       "  /* unfitted */\n",
       "  background-color: var(--sklearn-color-unfitted-level-0);\n",
       "}\n",
       "\n",
       "#sk-container-id-1 div.sk-toggleable__content.fitted pre {\n",
       "  /* unfitted */\n",
       "  background-color: var(--sklearn-color-fitted-level-0);\n",
       "}\n",
       "\n",
       "#sk-container-id-1 input.sk-toggleable__control:checked~div.sk-toggleable__content {\n",
       "  /* Expand drop-down */\n",
       "  max-height: 200px;\n",
       "  max-width: 100%;\n",
       "  overflow: auto;\n",
       "}\n",
       "\n",
       "#sk-container-id-1 input.sk-toggleable__control:checked~label.sk-toggleable__label-arrow:before {\n",
       "  content: \"▾\";\n",
       "}\n",
       "\n",
       "/* Pipeline/ColumnTransformer-specific style */\n",
       "\n",
       "#sk-container-id-1 div.sk-label input.sk-toggleable__control:checked~label.sk-toggleable__label {\n",
       "  color: var(--sklearn-color-text);\n",
       "  background-color: var(--sklearn-color-unfitted-level-2);\n",
       "}\n",
       "\n",
       "#sk-container-id-1 div.sk-label.fitted input.sk-toggleable__control:checked~label.sk-toggleable__label {\n",
       "  background-color: var(--sklearn-color-fitted-level-2);\n",
       "}\n",
       "\n",
       "/* Estimator-specific style */\n",
       "\n",
       "/* Colorize estimator box */\n",
       "#sk-container-id-1 div.sk-estimator input.sk-toggleable__control:checked~label.sk-toggleable__label {\n",
       "  /* unfitted */\n",
       "  background-color: var(--sklearn-color-unfitted-level-2);\n",
       "}\n",
       "\n",
       "#sk-container-id-1 div.sk-estimator.fitted input.sk-toggleable__control:checked~label.sk-toggleable__label {\n",
       "  /* fitted */\n",
       "  background-color: var(--sklearn-color-fitted-level-2);\n",
       "}\n",
       "\n",
       "#sk-container-id-1 div.sk-label label.sk-toggleable__label,\n",
       "#sk-container-id-1 div.sk-label label {\n",
       "  /* The background is the default theme color */\n",
       "  color: var(--sklearn-color-text-on-default-background);\n",
       "}\n",
       "\n",
       "/* On hover, darken the color of the background */\n",
       "#sk-container-id-1 div.sk-label:hover label.sk-toggleable__label {\n",
       "  color: var(--sklearn-color-text);\n",
       "  background-color: var(--sklearn-color-unfitted-level-2);\n",
       "}\n",
       "\n",
       "/* Label box, darken color on hover, fitted */\n",
       "#sk-container-id-1 div.sk-label.fitted:hover label.sk-toggleable__label.fitted {\n",
       "  color: var(--sklearn-color-text);\n",
       "  background-color: var(--sklearn-color-fitted-level-2);\n",
       "}\n",
       "\n",
       "/* Estimator label */\n",
       "\n",
       "#sk-container-id-1 div.sk-label label {\n",
       "  font-family: monospace;\n",
       "  font-weight: bold;\n",
       "  display: inline-block;\n",
       "  line-height: 1.2em;\n",
       "}\n",
       "\n",
       "#sk-container-id-1 div.sk-label-container {\n",
       "  text-align: center;\n",
       "}\n",
       "\n",
       "/* Estimator-specific */\n",
       "#sk-container-id-1 div.sk-estimator {\n",
       "  font-family: monospace;\n",
       "  border: 1px dotted var(--sklearn-color-border-box);\n",
       "  border-radius: 0.25em;\n",
       "  box-sizing: border-box;\n",
       "  margin-bottom: 0.5em;\n",
       "  /* unfitted */\n",
       "  background-color: var(--sklearn-color-unfitted-level-0);\n",
       "}\n",
       "\n",
       "#sk-container-id-1 div.sk-estimator.fitted {\n",
       "  /* fitted */\n",
       "  background-color: var(--sklearn-color-fitted-level-0);\n",
       "}\n",
       "\n",
       "/* on hover */\n",
       "#sk-container-id-1 div.sk-estimator:hover {\n",
       "  /* unfitted */\n",
       "  background-color: var(--sklearn-color-unfitted-level-2);\n",
       "}\n",
       "\n",
       "#sk-container-id-1 div.sk-estimator.fitted:hover {\n",
       "  /* fitted */\n",
       "  background-color: var(--sklearn-color-fitted-level-2);\n",
       "}\n",
       "\n",
       "/* Specification for estimator info (e.g. \"i\" and \"?\") */\n",
       "\n",
       "/* Common style for \"i\" and \"?\" */\n",
       "\n",
       ".sk-estimator-doc-link,\n",
       "a:link.sk-estimator-doc-link,\n",
       "a:visited.sk-estimator-doc-link {\n",
       "  float: right;\n",
       "  font-size: smaller;\n",
       "  line-height: 1em;\n",
       "  font-family: monospace;\n",
       "  background-color: var(--sklearn-color-background);\n",
       "  border-radius: 1em;\n",
       "  height: 1em;\n",
       "  width: 1em;\n",
       "  text-decoration: none !important;\n",
       "  margin-left: 1ex;\n",
       "  /* unfitted */\n",
       "  border: var(--sklearn-color-unfitted-level-1) 1pt solid;\n",
       "  color: var(--sklearn-color-unfitted-level-1);\n",
       "}\n",
       "\n",
       ".sk-estimator-doc-link.fitted,\n",
       "a:link.sk-estimator-doc-link.fitted,\n",
       "a:visited.sk-estimator-doc-link.fitted {\n",
       "  /* fitted */\n",
       "  border: var(--sklearn-color-fitted-level-1) 1pt solid;\n",
       "  color: var(--sklearn-color-fitted-level-1);\n",
       "}\n",
       "\n",
       "/* On hover */\n",
       "div.sk-estimator:hover .sk-estimator-doc-link:hover,\n",
       ".sk-estimator-doc-link:hover,\n",
       "div.sk-label-container:hover .sk-estimator-doc-link:hover,\n",
       ".sk-estimator-doc-link:hover {\n",
       "  /* unfitted */\n",
       "  background-color: var(--sklearn-color-unfitted-level-3);\n",
       "  color: var(--sklearn-color-background);\n",
       "  text-decoration: none;\n",
       "}\n",
       "\n",
       "div.sk-estimator.fitted:hover .sk-estimator-doc-link.fitted:hover,\n",
       ".sk-estimator-doc-link.fitted:hover,\n",
       "div.sk-label-container:hover .sk-estimator-doc-link.fitted:hover,\n",
       ".sk-estimator-doc-link.fitted:hover {\n",
       "  /* fitted */\n",
       "  background-color: var(--sklearn-color-fitted-level-3);\n",
       "  color: var(--sklearn-color-background);\n",
       "  text-decoration: none;\n",
       "}\n",
       "\n",
       "/* Span, style for the box shown on hovering the info icon */\n",
       ".sk-estimator-doc-link span {\n",
       "  display: none;\n",
       "  z-index: 9999;\n",
       "  position: relative;\n",
       "  font-weight: normal;\n",
       "  right: .2ex;\n",
       "  padding: .5ex;\n",
       "  margin: .5ex;\n",
       "  width: min-content;\n",
       "  min-width: 20ex;\n",
       "  max-width: 50ex;\n",
       "  color: var(--sklearn-color-text);\n",
       "  box-shadow: 2pt 2pt 4pt #999;\n",
       "  /* unfitted */\n",
       "  background: var(--sklearn-color-unfitted-level-0);\n",
       "  border: .5pt solid var(--sklearn-color-unfitted-level-3);\n",
       "}\n",
       "\n",
       ".sk-estimator-doc-link.fitted span {\n",
       "  /* fitted */\n",
       "  background: var(--sklearn-color-fitted-level-0);\n",
       "  border: var(--sklearn-color-fitted-level-3);\n",
       "}\n",
       "\n",
       ".sk-estimator-doc-link:hover span {\n",
       "  display: block;\n",
       "}\n",
       "\n",
       "/* \"?\"-specific style due to the `<a>` HTML tag */\n",
       "\n",
       "#sk-container-id-1 a.estimator_doc_link {\n",
       "  float: right;\n",
       "  font-size: 1rem;\n",
       "  line-height: 1em;\n",
       "  font-family: monospace;\n",
       "  background-color: var(--sklearn-color-background);\n",
       "  border-radius: 1rem;\n",
       "  height: 1rem;\n",
       "  width: 1rem;\n",
       "  text-decoration: none;\n",
       "  /* unfitted */\n",
       "  color: var(--sklearn-color-unfitted-level-1);\n",
       "  border: var(--sklearn-color-unfitted-level-1) 1pt solid;\n",
       "}\n",
       "\n",
       "#sk-container-id-1 a.estimator_doc_link.fitted {\n",
       "  /* fitted */\n",
       "  border: var(--sklearn-color-fitted-level-1) 1pt solid;\n",
       "  color: var(--sklearn-color-fitted-level-1);\n",
       "}\n",
       "\n",
       "/* On hover */\n",
       "#sk-container-id-1 a.estimator_doc_link:hover {\n",
       "  /* unfitted */\n",
       "  background-color: var(--sklearn-color-unfitted-level-3);\n",
       "  color: var(--sklearn-color-background);\n",
       "  text-decoration: none;\n",
       "}\n",
       "\n",
       "#sk-container-id-1 a.estimator_doc_link.fitted:hover {\n",
       "  /* fitted */\n",
       "  background-color: var(--sklearn-color-fitted-level-3);\n",
       "}\n",
       "</style><div id=\"sk-container-id-1\" class=\"sk-top-container\"><div class=\"sk-text-repr-fallback\"><pre>TPOTClassifier(generations=5, n_jobs=6, population_size=20, random_state=42,\n",
       "               scoring=&#x27;roc_auc&#x27;, verbosity=2)</pre><b>In a Jupyter environment, please rerun this cell to show the HTML representation or trust the notebook. <br />On GitHub, the HTML representation is unable to render, please try loading this page with nbviewer.org.</b></div><div class=\"sk-container\" hidden><div class=\"sk-item\"><div class=\"sk-estimator fitted sk-toggleable\"><input class=\"sk-toggleable__control sk-hidden--visually\" id=\"sk-estimator-id-1\" type=\"checkbox\" checked><label for=\"sk-estimator-id-1\" class=\"sk-toggleable__label fitted sk-toggleable__label-arrow fitted\">&nbsp;TPOTClassifier<span class=\"sk-estimator-doc-link fitted\">i<span>Fitted</span></span></label><div class=\"sk-toggleable__content fitted\"><pre>TPOTClassifier(generations=5, n_jobs=6, population_size=20, random_state=42,\n",
       "               scoring=&#x27;roc_auc&#x27;, verbosity=2)</pre></div> </div></div></div></div>"
      ],
      "text/plain": [
       "TPOTClassifier(generations=5, n_jobs=6, population_size=20, random_state=42,\n",
       "               scoring='roc_auc', verbosity=2)"
      ]
     },
     "execution_count": 5,
     "metadata": {},
     "output_type": "execute_result"
    }
   ],
   "source": [
    "from tpot import TPOTClassifier\n",
    "\n",
    "# Set up TPOT with basic configuration\n",
    "tpot = TPOTClassifier(\n",
    "    generations=5,\n",
    "    population_size=20,\n",
    "    verbosity=2,\n",
    "    scoring=\"roc_auc\",  # AUC\n",
    "    random_state=42,\n",
    "    n_jobs=6,  # Use 4 cores\n",
    ")\n",
    "\n",
    "# Fit the model\n",
    "tpot.fit(X_train, y_train)"
   ]
  },
  {
   "cell_type": "code",
   "execution_count": null,
   "metadata": {},
   "outputs": [],
   "source": []
  },
  {
   "cell_type": "code",
   "execution_count": 7,
   "metadata": {},
   "outputs": [
    {
     "name": "stdout",
     "output_type": "stream",
     "text": [
      "{'AUC': np.float64(0.5876435781413156),\n",
      " 'Best model': Pipeline(steps=[('zerocount', ZeroCount()),\n",
      "                ('kneighborsclassifier',\n",
      "                 KNeighborsClassifier(n_neighbors=27, weights='distance'))]),\n",
      " 'Model Name': 'KNeighborsClassifier',\n",
      " 'Parameters': {'algorithm': 'auto',\n",
      "                'leaf_size': 30,\n",
      "                'metric': 'minkowski',\n",
      "                'metric_params': None,\n",
      "                'n_jobs': None,\n",
      "                'n_neighbors': 27,\n",
      "                'p': 2,\n",
      "                'weights': 'distance'},\n",
      " 'Precision': np.float64(0.7955555555555556),\n",
      " 'Recall': np.float64(0.8099547511312217),\n",
      " 'Sensitivity': np.float64(0.8099547511312217),\n",
      " 'Specificity': np.float64(0.2923076923076923)}\n"
     ]
    }
   ],
   "source": [
    "# Access the best pipeline directly after fitting\n",
    "from pprint import pprint\n",
    "from sklearn.metrics import (\n",
    "    confusion_matrix,\n",
    "    precision_score,\n",
    "    recall_score,\n",
    "    roc_auc_score,\n",
    ")\n",
    "\n",
    "\n",
    "best_pipeline = tpot.fitted_pipeline_\n",
    "\n",
    "#\n",
    "y_pred = best_pipeline.predict_proba(X_test)[:, 1]\n",
    "auc = roc_auc_score(y_test, y_pred)\n",
    "\n",
    "y_pred = (y_pred > 0.5).astype(int)  # Binarize predictions for threshold of 0.5\n",
    "precision = precision_score(y_test, y_pred)\n",
    "recall = recall_score(y_test, y_pred)  # Same as sensitivity for positive class\n",
    "\n",
    "# Calculate sensitivity and specificity\n",
    "tn, fp, fn, tp = confusion_matrix(y_test, y_pred).ravel()\n",
    "sensitivity = tp / (tp + fn) if (tp + fn) > 0 else 0\n",
    "specificity = tn / (tn + fp) if (tn + fp) > 0 else 0\n",
    "\n",
    "# Extract model name and parameters\n",
    "model_name = type(best_pipeline.steps[-1][1]).__name__  # Name of the final estimator\n",
    "model_params = best_pipeline.steps[-1][1].get_params()  # Params of the final estimator\n",
    "\n",
    "# Append results to list\n",
    "result = {\n",
    "    \"Best model\": best_pipeline,\n",
    "    \"Model Name\": model_name,\n",
    "    \"Parameters\": model_params,\n",
    "    \"AUC\": auc,\n",
    "    \"Precision\": precision,\n",
    "    \"Recall\": recall,\n",
    "    \"Sensitivity\": sensitivity,\n",
    "    \"Specificity\": specificity,\n",
    "}\n",
    "\n",
    "pprint(result)"
   ]
  },
  {
   "cell_type": "code",
   "execution_count": null,
   "metadata": {},
   "outputs": [],
   "source": []
  }
 ],
 "metadata": {
  "kernelspec": {
   "display_name": "dili",
   "language": "python",
   "name": "python3"
  },
  "language_info": {
   "codemirror_mode": {
    "name": "ipython",
    "version": 3
   },
   "file_extension": ".py",
   "mimetype": "text/x-python",
   "name": "python",
   "nbconvert_exporter": "python",
   "pygments_lexer": "ipython3",
   "version": "3.8.19"
  }
 },
 "nbformat": 4,
 "nbformat_minor": 2
}
