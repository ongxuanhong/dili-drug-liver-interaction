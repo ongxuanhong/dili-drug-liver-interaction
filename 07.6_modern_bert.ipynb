{
 "cells": [
  {
   "cell_type": "code",
   "execution_count": null,
   "metadata": {},
   "outputs": [],
   "source": [
    "!pip install -q git+https://github.com/huggingface/transformers.git"
   ]
  },
  {
   "cell_type": "markdown",
   "metadata": {},
   "source": [
    "# ModernBERT example"
   ]
  },
  {
   "cell_type": "code",
   "execution_count": null,
   "metadata": {},
   "outputs": [],
   "source": [
    "from transformers import AutoTokenizer, AutoModelForMaskedLM\n",
    "\n",
    "model_id = \"answerdotai/ModernBERT-base\"\n",
    "tokenizer = AutoTokenizer.from_pretrained(model_id)\n",
    "model = AutoModelForMaskedLM.from_pretrained(model_id)"
   ]
  },
  {
   "cell_type": "code",
   "execution_count": null,
   "metadata": {},
   "outputs": [],
   "source": [
    "text = \"The capital of France is [MASK].\"\n",
    "inputs = tokenizer(text, return_tensors=\"pt\")\n",
    "outputs = model(**inputs)\n",
    "\n",
    "# To get predictions for the mask:\n",
    "masked_index = inputs[\"input_ids\"][0].tolist().index(tokenizer.mask_token_id)\n",
    "predicted_token_id = outputs.logits[0, masked_index].argmax(axis=-1)\n",
    "predicted_token = tokenizer.decode(predicted_token_id)\n",
    "print(\"Predicted token:\", predicted_token)"
   ]
  },
  {
   "cell_type": "code",
   "execution_count": null,
   "metadata": {},
   "outputs": [],
   "source": []
  },
  {
   "cell_type": "markdown",
   "metadata": {},
   "source": [
    "# Data preparation"
   ]
  },
  {
   "cell_type": "code",
   "execution_count": 4,
   "metadata": {},
   "outputs": [],
   "source": [
    "import pandas as pd\n",
    "import numpy as np\n",
    "import torch"
   ]
  },
  {
   "cell_type": "code",
   "execution_count": null,
   "metadata": {},
   "outputs": [],
   "source": [
    "# Load pd_train\n",
    "pd_train = pd.read_csv(\"data_smiles/Training_Group.csv\")\n",
    "pd_train[\"label\"] = pd_train[\"Liver\"].apply(lambda x: 1 if x == \"Hepatotoxicity\" else 0)\n",
    "print(pd_train.shape)\n",
    "pd_train.head()"
   ]
  },
  {
   "cell_type": "code",
   "execution_count": null,
   "metadata": {},
   "outputs": [],
   "source": [
    "# Load pd_test\n",
    "pd_test = pd.read_csv(\"data_smiles/Testing_Group.csv\")\n",
    "pd_test[\"label\"] = pd_test[\"Liver\"].apply(lambda x: 1 if x == \"Hepatotoxicity\" else 0)\n",
    "print(pd_test.shape)\n",
    "pd_test.head()"
   ]
  },
  {
   "cell_type": "code",
   "execution_count": null,
   "metadata": {},
   "outputs": [],
   "source": []
  },
  {
   "cell_type": "code",
   "execution_count": null,
   "metadata": {},
   "outputs": [],
   "source": [
    "def encode_smiles(smiles_list):\n",
    "    \"\"\"\n",
    "    Tokenize and encode a list of SMILES strings using ModernBERT.\n",
    "\n",
    "    Args:\n",
    "        smiles_list (list): List of SMILES strings.\n",
    "\n",
    "    Returns:\n",
    "        np.ndarray: Embeddings for the input SMILES strings.\n",
    "    \"\"\"\n",
    "    embeddings_list = []\n",
    "\n",
    "    for smiles in smiles_list:\n",
    "        # Tokenize SMILES string\n",
    "        inputs = tokenizer(smiles, return_tensors=\"pt\", padding=True, truncation=True)\n",
    "\n",
    "        # Generate logits (embeddings)\n",
    "        with torch.no_grad():\n",
    "            outputs = model(**inputs)\n",
    "            embeddings = outputs.logits.mean(dim=1)  # Average pooling over logits\n",
    "            embeddings_list.append(embeddings.squeeze(0).detach().numpy())\n",
    "\n",
    "    # Convert list of embeddings to a NumPy array\n",
    "    return np.array(embeddings_list)"
   ]
  },
  {
   "cell_type": "code",
   "execution_count": null,
   "metadata": {},
   "outputs": [],
   "source": [
    "# Encode SMILES train and test\n",
    "X_train = encode_smiles(pd_train[\"Smiles\"].to_list())\n",
    "X_test = encode_smiles(pd_test[\"Smiles\"].to_list())\n",
    "y_train = pd_train[\"label\"].values\n",
    "y_test = pd_test[\"label\"].values\n",
    "\n",
    "print(\"X_train shape:\", X_train.shape)\n",
    "print(\"X_test shape:\", X_test.shape)\n",
    "print(\"y_train shape:\", y_train.shape)\n",
    "print(\"y_test shape:\", y_test.shape)"
   ]
  },
  {
   "cell_type": "code",
   "execution_count": null,
   "metadata": {},
   "outputs": [],
   "source": [
    "# Save data to .npy files\n",
    "np.save(\"modern_bert_data/X_train.npy\", X_train)\n",
    "np.save(\"modern_bert_data/X_test.npy\", X_test)\n",
    "np.save(\"modern_bert_data/y_train.npy\", y_train)\n",
    "np.save(\"modern_bert_data/y_test.npy\", y_test)\n",
    "\n",
    "print(\"Data saved successfully!\")"
   ]
  },
  {
   "cell_type": "code",
   "execution_count": null,
   "metadata": {},
   "outputs": [],
   "source": []
  },
  {
   "cell_type": "markdown",
   "metadata": {},
   "source": [
    "# Model training"
   ]
  },
  {
   "cell_type": "code",
   "execution_count": 16,
   "metadata": {},
   "outputs": [],
   "source": [
    "from pprint import pprint\n",
    "from sklearn.metrics import (\n",
    "    accuracy_score,\n",
    "    precision_score,\n",
    "    recall_score,\n",
    "    confusion_matrix,\n",
    "    f1_score,\n",
    "    roc_auc_score,\n",
    ")"
   ]
  },
  {
   "cell_type": "code",
   "execution_count": 6,
   "metadata": {},
   "outputs": [
    {
     "name": "stdout",
     "output_type": "stream",
     "text": [
      "X_train shape: (1241, 50368)\n",
      "X_test shape: (286, 50368)\n",
      "y_train shape: (1241,)\n",
      "y_test shape: (286,)\n"
     ]
    }
   ],
   "source": [
    "# load data\n",
    "X_train = np.load(\"modern_bert_data/X_train.npy\")\n",
    "X_test = np.load(\"modern_bert_data/X_test.npy\")\n",
    "y_train = np.load(\"modern_bert_data/y_train.npy\")\n",
    "y_test = np.load(\"modern_bert_data/y_test.npy\")\n",
    "\n",
    "print(\"X_train shape:\", X_train.shape)\n",
    "print(\"X_test shape:\", X_test.shape)\n",
    "print(\"y_train shape:\", y_train.shape)\n",
    "print(\"y_test shape:\", y_test.shape)"
   ]
  },
  {
   "cell_type": "code",
   "execution_count": null,
   "metadata": {},
   "outputs": [],
   "source": []
  },
  {
   "cell_type": "code",
   "execution_count": 12,
   "metadata": {},
   "outputs": [],
   "source": [
    "def find_optimal_threshold(y_true, y_pred_proba):\n",
    "    \"\"\"\n",
    "    Find optimal threshold based on sensitivity >= 0.7 or best F1 score.\n",
    "    \"\"\"\n",
    "    best_threshold = 0.5\n",
    "    best_metrics = {\n",
    "        \"accuracy\": 0,\n",
    "        \"precision\": 0,\n",
    "        \"recall\": 0,\n",
    "        \"sensitivity\": 0,\n",
    "        \"specificity\": 0,\n",
    "        \"f1\": 0,\n",
    "    }\n",
    "\n",
    "    for threshold in np.arange(0.0, 1.0, 0.01):\n",
    "        y_pred = (y_pred_proba >= threshold).astype(int)\n",
    "\n",
    "        # Calculate metrics\n",
    "        auc = roc_auc_score(y_true, y_pred_proba)\n",
    "        precision = precision_score(y_true, y_pred)\n",
    "        recall = recall_score(y_true, y_pred)\n",
    "        accuracy = accuracy_score(y_true, y_pred)\n",
    "        tn, fp, fn, tp = confusion_matrix(y_true, y_pred).ravel()\n",
    "        sensitivity = tp / (tp + fn) if (tp + fn) > 0 else 0\n",
    "        specificity = tn / (tn + fp) if (tn + fp) > 0 else 0\n",
    "        f1 = f1_score(y_true, y_pred)\n",
    "\n",
    "        if sensitivity >= 0.7 or f1 > best_metrics[\"f1\"]:\n",
    "            best_threshold = threshold\n",
    "            best_metrics = {\n",
    "                \"auc\": auc,\n",
    "                \"accuracy\": accuracy,\n",
    "                \"precision\": precision,\n",
    "                \"recall\": recall,\n",
    "                \"sensitivity\": sensitivity,\n",
    "                \"specificity\": specificity,\n",
    "                \"f1\": f1,\n",
    "            }\n",
    "\n",
    "    return best_threshold, best_metrics"
   ]
  },
  {
   "cell_type": "code",
   "execution_count": null,
   "metadata": {},
   "outputs": [],
   "source": [
    "from sklearn.ensemble import RandomForestClassifier\n",
    "from sklearn.metrics import roc_auc_score, accuracy_score\n",
    "\n",
    "# Initialize and train the classifier\n",
    "clf = RandomForestClassifier(n_estimators=100, random_state=42)\n",
    "clf.fit(X_train, y_train)\n",
    "\n",
    "# Evaluate the model\n",
    "best_threshold, best_metrics = find_optimal_threshold(\n",
    "    y_test, clf.predict_proba(X_test)[:, 1]\n",
    ")"
   ]
  },
  {
   "cell_type": "code",
   "execution_count": 19,
   "metadata": {},
   "outputs": [
    {
     "name": "stdout",
     "output_type": "stream",
     "text": [
      "Best threshold: 0.46\n",
      "{'accuracy': 0.7097902097902098,\n",
      " 'auc': 0.6446223459798119,\n",
      " 'f1': 0.8065268065268065,\n",
      " 'precision': 0.8317307692307693,\n",
      " 'recall': 0.7828054298642534,\n",
      " 'sensitivity': 0.7828054298642534,\n",
      " 'specificity': 0.46153846153846156}\n"
     ]
    }
   ],
   "source": [
    "print(\"Best threshold:\", best_threshold)\n",
    "pprint(best_metrics)"
   ]
  },
  {
   "cell_type": "code",
   "execution_count": 18,
   "metadata": {},
   "outputs": [
    {
     "data": {
      "image/png": "[encoded data removed]",
      "text/plain": [
       "<Figure size 800x600 with 1 Axes>"
      ]
     },
     "metadata": {},
     "output_type": "display_data"
    }
   ],
   "source": [
    "# plot auc train, test\n",
    "import matplotlib.pyplot as plt\n",
    "from sklearn.metrics import roc_curve\n",
    "\n",
    "# Calculate ROC curve\n",
    "fpr_train, tpr_train, _ = roc_curve(y_train, clf.predict_proba(X_train)[:, 1])\n",
    "fpr_test, tpr_test, _ = roc_curve(y_test, clf.predict_proba(X_test)[:, 1])\n",
    "\n",
    "# Plot ROC curve\n",
    "plt.figure(figsize=(8, 6))\n",
    "plt.plot(fpr_train, tpr_train, label=\"Train\")\n",
    "plt.plot(fpr_test, tpr_test, label=\"Test\")\n",
    "plt.plot([0, 1], [0, 1], color=\"gray\", linestyle=\"--\")\n",
    "plt.xlabel(\"False Positive Rate\")\n",
    "plt.ylabel(\"True Positive Rate\")\n",
    "plt.title(\"ROC Curve\")\n",
    "plt.legend()\n",
    "plt.grid()\n",
    "plt.show()"
   ]
  },
  {
   "cell_type": "code",
   "execution_count": null,
   "metadata": {},
   "outputs": [],
   "source": []
  }
 ],
 "metadata": {
  "kernelspec": {
   "display_name": "dili",
   "language": "python",
   "name": "python3"
  },
  "language_info": {
   "codemirror_mode": {
    "name": "ipython",
    "version": 3
   },
   "file_extension": ".py",
   "mimetype": "text/x-python",
   "name": "python",
   "nbconvert_exporter": "python",
   "pygments_lexer": "ipython3",
   "version": "3.8.19"
  }
 },
 "nbformat": 4,
 "nbformat_minor": 2
}
