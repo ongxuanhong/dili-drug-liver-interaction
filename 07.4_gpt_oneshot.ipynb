{
 "cells": [
  {
   "cell_type": "code",
   "execution_count": 50,
   "metadata": {},
   "outputs": [],
   "source": [
    "import openai\n",
    "import pandas as pd\n",
    "import lmql\n",
    "import numpy as np\n",
    "import pandas as pd\n",
    "import json"
   ]
  },
  {
   "cell_type": "code",
   "execution_count": 12,
   "metadata": {},
   "outputs": [],
   "source": [
    "toxic_smiles = \"CC1=C(C(=O)C2=C(C1=O)N3C[C@H]4[C@@H]([C@@]3([C@@H]2COC(=O)N)OC)N4)N\"\n",
    "prompt = f\"Analyze the SMILES sequence below and classify it as either 'Hepatotoxicity' or 'NonHepatotoxicity': '{toxic_smiles}'\"\n",
    "\n",
    "response = openai.ChatCompletion.create(\n",
    "    model=\"gpt-4o\", messages=[{\"role\": \"user\", \"content\": prompt}]\n",
    ")"
   ]
  },
  {
   "cell_type": "code",
   "execution_count": 13,
   "metadata": {},
   "outputs": [
    {
     "data": {
      "text/plain": [
       "[\"To classify the given SMILES sequence as 'Hepatotoxicity' or 'NonHepatotoxicity', we need to analyze the chemical structure it represents and assess its potential for liver toxicity. The SMILES you've provided represents a chemical structure that can be quite complex to interpret directly without a specific chemical database or computational tools to predict toxicity.\",\n",
       " '',\n",
       " 'Here are some key steps to evaluate the hepatotoxicity of the molecule:',\n",
       " '',\n",
       " '1. **Structural Features**: Evaluate if the SMILES string corresponds to a structure with known hepatotoxic functional groups or substructures, such as nitro groups, certain aromatic amines, or specific halogenated compounds.',\n",
       " '',\n",
       " '2. **Literature and Databases**: Utilize cheminformatics tools or databases to match the SMILES against known hepatotoxic compounds. Resources like PubChem, ChemSpider, or specific toxicology databases could be helpful.',\n",
       " '',\n",
       " '3. **Toxicity Prediction Software**: Use in silico methods like QSAR (Quantitative Structure-Activity Relationship) models, which can predict the toxicity of new compounds based on the properties of similar molecules.',\n",
       " '',\n",
       " '4. **Experimental Data and Reports**: Check scientific literature or toxicology reports for any experimental data or case studies related to substances with similar structures.',\n",
       " '',\n",
       " \"Without access to computational tools or databases in this context, it's difficult to categorically classify the substance based solely on the SMILES string provided. For a definitive classification, one would typically need to rely on cheminformatics analysis or consult with a medicinal chemist.\",\n",
       " '',\n",
       " \"In the absence of these resources, this SMILES sequence cannot be conclusively classified as 'Hepatotoxicity' or 'NonHepatotoxicity' without additional context or data sources. If you have access to tools like Derek Nexus or other predictive algorithms, they could offer more specific insights.\"]"
      ]
     },
     "execution_count": 13,
     "metadata": {},
     "output_type": "execute_result"
    }
   ],
   "source": [
    "classifications = response[\"choices\"][0][\"message\"][\"content\"].splitlines()\n",
    "classifications"
   ]
  },
  {
   "cell_type": "code",
   "execution_count": null,
   "metadata": {},
   "outputs": [],
   "source": []
  },
  {
   "cell_type": "markdown",
   "metadata": {},
   "source": [
    "# Few shot learning"
   ]
  },
  {
   "cell_type": "code",
   "execution_count": 2,
   "metadata": {},
   "outputs": [
    {
     "data": {
      "text/html": [
       "<div>\n",
       "<style scoped>\n",
       "    .dataframe tbody tr th:only-of-type {\n",
       "        vertical-align: middle;\n",
       "    }\n",
       "\n",
       "    .dataframe tbody tr th {\n",
       "        vertical-align: top;\n",
       "    }\n",
       "\n",
       "    .dataframe thead th {\n",
       "        text-align: right;\n",
       "    }\n",
       "</style>\n",
       "<table border=\"1\" class=\"dataframe\">\n",
       "  <thead>\n",
       "    <tr style=\"text-align: right;\">\n",
       "      <th></th>\n",
       "      <th>Smiles</th>\n",
       "      <th>Class</th>\n",
       "    </tr>\n",
       "  </thead>\n",
       "  <tbody>\n",
       "    <tr>\n",
       "      <th>0</th>\n",
       "      <td>C[C@@H](C(=O)N[C@@H](C)C(=O)NC1[C@H]2[C@@H]1CN...</td>\n",
       "      <td>Hepatotoxicity</td>\n",
       "    </tr>\n",
       "    <tr>\n",
       "      <th>1</th>\n",
       "      <td>C=CCOC1=C(C=C(C=C1)CC(=O)O)Cl</td>\n",
       "      <td>Hepatotoxicity</td>\n",
       "    </tr>\n",
       "    <tr>\n",
       "      <th>2</th>\n",
       "      <td>C1=CC(=CC=C1N/C(=N/C(=NCCCCCCN=C(/N=C(/NC2=CC=...</td>\n",
       "      <td>NonHepatotoxicity</td>\n",
       "    </tr>\n",
       "  </tbody>\n",
       "</table>\n",
       "</div>"
      ],
      "text/plain": [
       "                                              Smiles              Class\n",
       "0  C[C@@H](C(=O)N[C@@H](C)C(=O)NC1[C@H]2[C@@H]1CN...     Hepatotoxicity\n",
       "1                      C=CCOC1=C(C=C(C=C1)CC(=O)O)Cl     Hepatotoxicity\n",
       "2  C1=CC(=CC=C1N/C(=N/C(=NCCCCCCN=C(/N=C(/NC2=CC=...  NonHepatotoxicity"
      ]
     },
     "execution_count": 2,
     "metadata": {},
     "output_type": "execute_result"
    }
   ],
   "source": [
    "# Sample DataFrame with SMILES strings\n",
    "data = pd.DataFrame(\n",
    "    {\n",
    "        \"Smiles\": [\n",
    "            \"C[C@@H](C(=O)N[C@@H](C)C(=O)NC1[C@H]2[C@@H]1CN(C2)C3=C(C=C4C(=O)C(=CN(C4=N3)C5=C(C=C(C=C5)F)F)C(=O)O)F)N\",\n",
    "            \"C=CCOC1=C(C=C(C=C1)CC(=O)O)Cl\",\n",
    "            \"C1=CC(=CC=C1N/C(=N/C(=NCCCCCCN=C(/N=C(/NC2=CC=C(C=C2)Cl)\\\\N)N)N)/N)Cl\",\n",
    "        ],\n",
    "        \"Class\": [\"Hepatotoxicity\", \"Hepatotoxicity\", \"NonHepatotoxicity\"],\n",
    "    }\n",
    ")\n",
    "\n",
    "data"
   ]
  },
  {
   "cell_type": "code",
   "execution_count": 79,
   "metadata": {},
   "outputs": [],
   "source": [
    "# Define few-shot examples to guide the model\n",
    "few_shot_examples = \"\"\"\n",
    "1. SMILES: S=C=Nc1c2c(ccc1)cccc2\n",
    "Classification: Hepatotoxicity\n",
    "\n",
    "2. SMILES: Clc1ccc(C[C@@H](NC(=O)[C@H](NC(=O)C)Cc2cc3c(cc2)cccc3)C(=O)N[C@@H](C(=O)N[C@H](C(=O)N([C@H](C(=O)N[C@@H](C(=O)N[C@H](C(=O)N[C@H](C(=O)N2[C@@H](CCC2)C(=O)N[C@H](C)C(=O)N)CCCCNC(C)C)CC(C)C)CC(=O)N)Cc2ccc(O)cc2)C)CO)Cc2cccnc2)cc1\n",
    "Classification: Hepatotoxicity\n",
    "\n",
    "3. SMILES: O(c1c([C@]23C[C@@H]4C[C@H](C2)C[C@H](C3)C4)cc(cc1)c1cc2c(cc1)cc(cc2)C(=O)O)C\n",
    "Classification: NonHepatotoxicity\n",
    "\"\"\"\n",
    "\n",
    "# Define the LMQL query with few-shot examples\n",
    "@lmql.query(model=\"gpt-4\", temperature=0)\n",
    "async def classify_smiles(few_shot_examples, smiles):\n",
    "    '''lmql\n",
    "    \"**Context**: Below are a few examples of SMILES strings with their toxicity classification.\\n\"\n",
    "    \"** Task**: Please use these examples to classify the new SMILES strings as either 'Hepatotoxicity' or 'NonHepatotoxicity'.\\n\"\n",
    "\n",
    "    \"**Instructions**: analyze the chemical structure it represents and assess its potential for liver toxicity\\n\"\n",
    "    \"1. Structural Features: Evaluate if the SMILES string corresponds to a structure with known hepatotoxic functional groups or substructures, such as nitro groups, certain aromatic amines, or specific halogenated compounds.\\n\"\n",
    "    \"2. Literature and Databases: Utilize cheminformatics tools or databases to match the SMILES against known hepatotoxic compounds. Resources like PubChem, ChemSpider, or specific toxicology databases could be helpful.\\n\"\n",
    "    \"3. Experimental Data and Reports: Check scientific literature or toxicology reports for any experimental data or case studies related to substances with similar structures.\\n\"\n",
    "    \"4. Output the answer is its predicted classification in list format.\\n\"\n",
    "    \n",
    "    # Few-shot examples\n",
    "    {few_shot_examples}\n",
    "\n",
    "    # Q&A prompt template\n",
    "    \"Q: Analyze the SMILES sequence below and classify it as either 'Hepatotoxicity' or 'NonHepatotoxicity': {smiles}\\n\"\n",
    "    \"A: Let's think step by step.\\n\"\n",
    "    \"[REASONING]\"\n",
    "    \"Provide the classification for each SMILES string in a Python list format: [ANSWER].\"\n",
    "    \n",
    "    # return just the ANSWER to the caller\n",
    "    return ANSWER    \n",
    "\n",
    "    '''"
   ]
  },
  {
   "cell_type": "code",
   "execution_count": 80,
   "metadata": {},
   "outputs": [
    {
     "data": {
      "text/plain": [
       "\" ['Hepatotoxicity', 'Hepatotoxicity']\""
      ]
     },
     "execution_count": 80,
     "metadata": {},
     "output_type": "execute_result"
    }
   ],
   "source": [
    "classifications = await classify_smiles(few_shot_examples, [\"C=CCOC1=C(C=C(C=C1)CC(=O)O)Cl\", \"C1=CC(=CC=C1N/C(=N/C(=NCCCCCCN=C(/N=C(/NC2=CC=C(C=C2)Cl)\\\\N)N)N)/N)Cl\"])\n",
    "classifications"
   ]
  },
  {
   "cell_type": "code",
   "execution_count": 81,
   "metadata": {},
   "outputs": [
    {
     "data": {
      "text/plain": [
       "'Hepatotoxicity'"
      ]
     },
     "execution_count": 81,
     "metadata": {},
     "output_type": "execute_result"
    }
   ],
   "source": [
    "eval(classifications)[0]"
   ]
  },
  {
   "cell_type": "code",
   "execution_count": null,
   "metadata": {},
   "outputs": [],
   "source": []
  },
  {
   "cell_type": "code",
   "execution_count": 82,
   "metadata": {},
   "outputs": [
    {
     "name": "stdout",
     "output_type": "stream",
     "text": [
      "                                              Smiles              Class  \\\n",
      "0  C[C@@H](C(=O)N[C@@H](C)C(=O)NC1[C@H]2[C@@H]1CN...     Hepatotoxicity   \n",
      "1                      C=CCOC1=C(C=C(C=C1)CC(=O)O)Cl     Hepatotoxicity   \n",
      "2  C1=CC(=CC=C1N/C(=N/C(=NCCCCCCN=C(/N=C(/NC2=CC=...  NonHepatotoxicity   \n",
      "\n",
      "      Classification  \n",
      "0     Hepatotoxicity  \n",
      "1  NonHepatotoxicity  \n",
      "2     Hepatotoxicity  \n"
     ]
    }
   ],
   "source": [
    "# Function to classify a batch of SMILES strings\n",
    "async def classify_smiles_batch(smiles_batch):\n",
    "    # Run the LMQL query with batch input\n",
    "    response = await classify_smiles(few_shot_examples, smiles_batch)\n",
    "    \n",
    "    # Evaluate response to convert string list format into an actual Python list\n",
    "    try:\n",
    "        classifications = eval(response)  # Assumes response is in Python list format\n",
    "        return classifications\n",
    "    except Exception as e:\n",
    "        print(f\"Error parsing response: {e}\")\n",
    "        return [None] * len(smiles_batch)  # Return None for failed parsing\n",
    "\n",
    "# Process the data in batches\n",
    "batch_size = 2\n",
    "smiles_batches = [data['Smiles'][i:i + batch_size].tolist() for i in range(0, len(data), batch_size)]\n",
    "results = []\n",
    "\n",
    "# Classify each batch and store results\n",
    "for batch in smiles_batches:\n",
    "    batch_results = await classify_smiles_batch(batch)\n",
    "    results.extend(batch_results)\n",
    "\n",
    "# Add results to DataFrame\n",
    "data['Classification'] = results\n",
    "print(data)"
   ]
  },
  {
   "cell_type": "code",
   "execution_count": null,
   "metadata": {},
   "outputs": [],
   "source": []
  },
  {
   "cell_type": "code",
   "execution_count": null,
   "metadata": {},
   "outputs": [],
   "source": []
  },
  {
   "cell_type": "markdown",
   "metadata": {},
   "source": [
    "# Batch prediction"
   ]
  },
  {
   "cell_type": "code",
   "execution_count": 93,
   "metadata": {},
   "outputs": [],
   "source": [
    "# Define the LMQL query with few-shot examples\n",
    "@lmql.query(model=\"gpt-4\", temperature=0, max_len=8192)\n",
    "async def classify_smiles(few_shot_examples, smiles):\n",
    "    '''lmql\n",
    "    \"**Context**: Below are a few examples of SMILES strings with their toxicity classification.\\n\"\n",
    "    \"** Task**: Please use these examples to classify the new SMILES strings as either 'Hepatotoxicity' or 'NonHepatotoxicity'.\\n\"\n",
    "\n",
    "    \"**Instructions**: analyze the chemical structure it represents and assess its potential for liver toxicity\\n\"\n",
    "    \"1. Structural Features: Evaluate if the SMILES string corresponds to a structure with known hepatotoxic functional groups or substructures, such as nitro groups, certain aromatic amines, or specific halogenated compounds.\\n\"\n",
    "    \"2. Literature and Databases: Utilize cheminformatics tools or databases to match the SMILES against known hepatotoxic compounds. Resources like PubChem, ChemSpider, or specific toxicology databases could be helpful.\\n\"\n",
    "    \"3. Experimental Data and Reports: Check scientific literature or toxicology reports for any experimental data or case studies related to substances with similar structures.\\n\"\n",
    "    \"4. Output the answer is its predicted classification in list format.\\n\"\n",
    "    \n",
    "    # Few-shot examples\n",
    "    {few_shot_examples}\n",
    "\n",
    "    # Q&A prompt template\n",
    "    \"Q: Analyze the SMILES sequence below and classify it as either 'Hepatotoxicity' or 'NonHepatotoxicity': {smiles}\\n\"\n",
    "    \"A: Let's think step by step.\\n\"\n",
    "    \"[REASONING]\"\n",
    "    \"Provide the classification for each SMILES string in a Python list format: [ANSWER].\"\n",
    "    \n",
    "    # return just the ANSWER to the caller\n",
    "    return ANSWER    \n",
    "\n",
    "    '''"
   ]
  },
  {
   "cell_type": "code",
   "execution_count": 89,
   "metadata": {},
   "outputs": [
    {
     "name": "stdout",
     "output_type": "stream",
     "text": [
      "(1241, 3)\n"
     ]
    },
    {
     "data": {
      "text/plain": [
       "label\n",
       "1    683\n",
       "0    558\n",
       "Name: count, dtype: int64"
      ]
     },
     "execution_count": 89,
     "metadata": {},
     "output_type": "execute_result"
    }
   ],
   "source": [
    "# Load pd_train\n",
    "pd_train = pd.read_csv(\"data_smiles/Training_Group.csv\")\n",
    "pd_train[\"label\"] = pd_train[\"Liver\"].apply(lambda x: 1 if x == \"Hepatotoxicity\" else 0)\n",
    "print(pd_train.shape)\n",
    "pd_train[\"label\"].value_counts()"
   ]
  },
  {
   "cell_type": "code",
   "execution_count": null,
   "metadata": {},
   "outputs": [],
   "source": []
  },
  {
   "cell_type": "code",
   "execution_count": 90,
   "metadata": {},
   "outputs": [
    {
     "name": "stdout",
     "output_type": "stream",
     "text": [
      "(286, 3)\n"
     ]
    },
    {
     "data": {
      "text/plain": [
       "label\n",
       "1    221\n",
       "0     65\n",
       "Name: count, dtype: int64"
      ]
     },
     "execution_count": 90,
     "metadata": {},
     "output_type": "execute_result"
    }
   ],
   "source": [
    "# Load pd_test\n",
    "pd_test = pd.read_csv(\"data_smiles/Testing_Group.csv\")\n",
    "pd_test[\"label\"] = pd_test[\"Liver\"].apply(lambda x: 1 if x == \"Hepatotoxicity\" else 0)\n",
    "print(pd_test.shape)\n",
    "pd_test[\"label\"].value_counts()"
   ]
  },
  {
   "cell_type": "code",
   "execution_count": null,
   "metadata": {},
   "outputs": [],
   "source": []
  },
  {
   "cell_type": "code",
   "execution_count": 94,
   "metadata": {},
   "outputs": [
    {
     "name": "stdout",
     "output_type": "stream",
     "text": [
      "                                              Smiles              Liver\n",
      "0  O=C1[C@@]2([C@H]([C@H]3[C@H](CC2)[C@@]2(C(=CC(...  NonHepatotoxicity\n",
      "1  O([C@@H](COC(=O)[C@@H](N)C(C)C)CO)Cn1c2[nH]c(n...  NonHepatotoxicity\n",
      "2    Clc1c(S[C@@H](CCc2ccc(Cl)cc2)Cn2ccnc2)c(Cl)ccc1  NonHepatotoxicity\n",
      "3  FC(F)([C@@]1(O[C@H]2[C@@H]([C@H](C(=O)C2)CCCCC...  NonHepatotoxicity\n",
      "4             Clc1cc2nccc(N[C@@H](CCCN(CC)CC)C)c2cc1  NonHepatotoxicity\n",
      "5  ClC1=C(N2[C@@H]([C@H](NC(=O)[C@H](N)c3ccccc3)C...     Hepatotoxicity\n",
      "6  O1[C@@H]([C@H](NC(=O)[C@H](NC(=O)[C@H](NC(=O)[...     Hepatotoxicity\n",
      "7          Clc1c2c([C@@H](CNCC2)c2ccc(O)cc2)cc(O)c1O     Hepatotoxicity\n",
      "8              Clc1ccc([C@H]2S(=O)(=O)CCC(=O)N2C)cc1     Hepatotoxicity\n",
      "9  S1(=O)(=O)N(/C(=C(/O)\\Nc2sc(cn2)C)/C(=O)c2c1cc...     Hepatotoxicity\n",
      "Few-shot Examples:\n",
      " 1. SMILES: O=C1[C@@]2([C@H]([C@H]3[C@H](CC2)[C@@]2(C(=CC(=O)C=C2)C(=C)C3)C)CC1)C\n",
      "Classification: NonHepatotoxicity\n",
      "\n",
      "2. SMILES: O([C@@H](COC(=O)[C@@H](N)C(C)C)CO)Cn1c2[nH]c(nc(=O)c2nc1)N\n",
      "Classification: NonHepatotoxicity\n",
      "\n",
      "3. SMILES: Clc1c(S[C@@H](CCc2ccc(Cl)cc2)Cn2ccnc2)c(Cl)ccc1\n",
      "Classification: NonHepatotoxicity\n",
      "\n",
      "4. SMILES: FC(F)([C@@]1(O[C@H]2[C@@H]([C@H](C(=O)C2)CCCCCCC(=O)O)CC1)O)CCCC\n",
      "Classification: NonHepatotoxicity\n",
      "\n",
      "5. SMILES: Clc1cc2nccc(N[C@@H](CCCN(CC)CC)C)c2cc1\n",
      "Classification: NonHepatotoxicity\n",
      "\n",
      "6. SMILES: ClC1=C(N2[C@@H]([C@H](NC(=O)[C@H](N)c3ccccc3)C2=O)CC1)C(=O)O\n",
      "Classification: Hepatotoxicity\n",
      "\n",
      "7. SMILES: O1[C@@H]([C@H](NC(=O)[C@H](NC(=O)[C@H](NC(=O)[C@@H](NC(=O)CCCCCCCCC)Cc2c3c([nH]c2)cccc3)CC(=O)N)CC(=O)O)C(=O)NCC(=O)N[C@@H](CCCN)C(=O)N[C@@H](CC(=O)O)C(=O)N[C@@H](C(=O)N[C@@H](C(=O)NCC(=O)N[C@@H](C(=O)N[C@@H]([C@@H](CC(=O)O)C)C(=O)N[C@@H](CC(=O)c2c(N)cccc2)C1=O)CO)CC(=O)O)C)C\n",
      "Classification: Hepatotoxicity\n",
      "\n",
      "8. SMILES: Clc1c2c([C@@H](CNCC2)c2ccc(O)cc2)cc(O)c1O\n",
      "Classification: Hepatotoxicity\n",
      "\n",
      "9. SMILES: Clc1ccc([C@H]2S(=O)(=O)CCC(=O)N2C)cc1\n",
      "Classification: Hepatotoxicity\n",
      "\n",
      "10. SMILES: S1(=O)(=O)N(/C(=C(/O)\\Nc2sc(cn2)C)/C(=O)c2c1cccc2)C\n",
      "Classification: Hepatotoxicity\n",
      "\n",
      "\n"
     ]
    },
    {
     "name": "stderr",
     "output_type": "stream",
     "text": [
      "C:\\Users\\predator\\AppData\\Local\\Temp\\ipykernel_9576\\2624759299.py:2: DeprecationWarning: DataFrameGroupBy.apply operated on the grouping columns. This behavior is deprecated, and in a future version of pandas the grouping columns will be excluded from the operation. Either pass `include_groups=False` to exclude the groupings or explicitly select the grouping columns after groupby to silence this warning.\n",
      "  sampled_data = pd_train.groupby(\"label\").apply(lambda x: x.sample(n=5, random_state=42)).reset_index(drop=True)\n"
     ]
    }
   ],
   "source": [
    "# Sample 10 examples, aiming for a balanced selection if possible\n",
    "sampled_data = pd_train.groupby(\"label\").apply(lambda x: x.sample(n=5, random_state=42)).reset_index(drop=True)\n",
    "print(sampled_data[[\"Smiles\", \"Liver\"]])\n",
    "\n",
    "# Generate the few-shot examples\n",
    "few_shot_examples = \"\"\n",
    "for i, row in enumerate(sampled_data.itertuples(), 1):\n",
    "    few_shot_examples += f\"{i}. SMILES: {row.Smiles}\\nClassification: {row.Liver}\\n\\n\"\n",
    "\n",
    "print(\"Few-shot Examples:\\n\", few_shot_examples)"
   ]
  },
  {
   "cell_type": "code",
   "execution_count": null,
   "metadata": {},
   "outputs": [],
   "source": []
  },
  {
   "cell_type": "code",
   "execution_count": 95,
   "metadata": {},
   "outputs": [
    {
     "name": "stderr",
     "output_type": "stream",
     "text": [
      "c:\\Users\\predator\\anaconda3\\envs\\dili-3.10\\lib\\site-packages\\lmql\\runtime\\bopenai\\batched_openai.py:507: OpenAIAPIWarning: OpenAI API: Underlying stream of OpenAI complete() call failed with error\n",
      "\n",
      " (<class 'TimeoutError'>)\n",
      "\n",
      "Retrying... (attempt: 0)\n",
      "  warnings.warn(f\"OpenAI API: Underlying stream of OpenAI complete() call failed with error\\n\\n{attempt.error} ({type(attempt.error)})\\n\\nRetrying... (attempt: {self.retries})\",\n",
      "OpenAIAPIWarning: Enable tracemalloc to get the object allocation traceback\n",
      "c:\\Users\\predator\\anaconda3\\envs\\dili-3.10\\lib\\site-packages\\lmql\\runtime\\bopenai\\batched_openai.py:739: OpenAIAPIWarning: OpenAI request with ID 162 failed (timeout or other error) and will be retried\n",
      "  warnings.warn(\"OpenAI request with ID {} failed (timeout or other error) and will be retried\".format(request_id), category=OpenAIAPIWarning)\n"
     ]
    },
    {
     "data": {
      "text/plain": [
       "\" ['Hepatotoxicity', 'Hepatotoxicity']\""
      ]
     },
     "execution_count": 95,
     "metadata": {},
     "output_type": "execute_result"
    }
   ],
   "source": [
    "classifications = await classify_smiles(few_shot_examples, [\"C=CCOC1=C(C=C(C=C1)CC(=O)O)Cl\", \"C1=CC(=CC=C1N/C(=N/C(=NCCCCCCN=C(/N=C(/NC2=CC=C(C=C2)Cl)\\\\N)N)N)/N)Cl\"])\n",
    "classifications"
   ]
  },
  {
   "cell_type": "code",
   "execution_count": null,
   "metadata": {},
   "outputs": [],
   "source": []
  },
  {
   "cell_type": "code",
   "execution_count": 99,
   "metadata": {},
   "outputs": [
    {
     "name": "stdout",
     "output_type": "stream",
     "text": [
      "Number of batches: 29\n",
      "Processing batch 1/29...\n",
      "Processing batch 2/29...\n",
      "Processing batch 3/29...\n",
      "Processing batch 4/29...\n",
      "Processing batch 5/29...\n",
      "Processing batch 6/29...\n",
      "Processing batch 7/29...\n",
      "Processing batch 8/29...\n",
      "Processing batch 9/29...\n",
      "Processing batch 10/29...\n",
      "Processing batch 11/29...\n",
      "Processing batch 12/29...\n",
      "Processing batch 13/29...\n",
      "Processing batch 14/29...\n",
      "Processing batch 15/29...\n",
      "Processing batch 16/29...\n",
      "Processing batch 17/29...\n",
      "Processing batch 18/29...\n",
      "Processing batch 19/29...\n",
      "Processing batch 20/29...\n",
      "Processing batch 21/29...\n",
      "Processing batch 22/29...\n",
      "Processing batch 23/29...\n",
      "Processing batch 24/29...\n",
      "Processing batch 25/29...\n",
      "Processing batch 26/29...\n",
      "Processing batch 27/29...\n",
      "Processing batch 28/29...\n"
     ]
    },
    {
     "name": "stderr",
     "output_type": "stream",
     "text": [
      "c:\\Users\\predator\\anaconda3\\envs\\dili-3.10\\lib\\site-packages\\lmql\\runtime\\bopenai\\batched_openai.py:507: OpenAIAPIWarning: OpenAI API: Underlying stream of OpenAI complete() call failed with error\n",
      "\n",
      " (<class 'TimeoutError'>)\n",
      "\n",
      "Retrying... (attempt: 0)\n",
      "  warnings.warn(f\"OpenAI API: Underlying stream of OpenAI complete() call failed with error\\n\\n{attempt.error} ({type(attempt.error)})\\n\\nRetrying... (attempt: {self.retries})\",\n",
      "OpenAIAPIWarning: Enable tracemalloc to get the object allocation traceback\n",
      "c:\\Users\\predator\\anaconda3\\envs\\dili-3.10\\lib\\site-packages\\lmql\\runtime\\bopenai\\batched_openai.py:739: OpenAIAPIWarning: OpenAI request with ID 350 failed (timeout or other error) and will be retried\n",
      "  warnings.warn(\"OpenAI request with ID {} failed (timeout or other error) and will be retried\".format(request_id), category=OpenAIAPIWarning)\n"
     ]
    },
    {
     "name": "stdout",
     "output_type": "stream",
     "text": [
      "Processing batch 29/29...\n"
     ]
    },
    {
     "data": {
      "text/html": [
       "<div>\n",
       "<style scoped>\n",
       "    .dataframe tbody tr th:only-of-type {\n",
       "        vertical-align: middle;\n",
       "    }\n",
       "\n",
       "    .dataframe tbody tr th {\n",
       "        vertical-align: top;\n",
       "    }\n",
       "\n",
       "    .dataframe thead th {\n",
       "        text-align: right;\n",
       "    }\n",
       "</style>\n",
       "<table border=\"1\" class=\"dataframe\">\n",
       "  <thead>\n",
       "    <tr style=\"text-align: right;\">\n",
       "      <th></th>\n",
       "      <th>Smiles</th>\n",
       "      <th>Liver</th>\n",
       "      <th>label</th>\n",
       "      <th>Classification</th>\n",
       "    </tr>\n",
       "  </thead>\n",
       "  <tbody>\n",
       "    <tr>\n",
       "      <th>0</th>\n",
       "      <td>C[C@@H](C(=O)N[C@@H](C)C(=O)NC1[C@H]2[C@@H]1CN...</td>\n",
       "      <td>Hepatotoxicity</td>\n",
       "      <td>1</td>\n",
       "      <td>NonHepatotoxicity</td>\n",
       "    </tr>\n",
       "    <tr>\n",
       "      <th>1</th>\n",
       "      <td>C=CCOC1=C(C=C(C=C1)CC(=O)O)Cl</td>\n",
       "      <td>Hepatotoxicity</td>\n",
       "      <td>1</td>\n",
       "      <td>Hepatotoxicity</td>\n",
       "    </tr>\n",
       "    <tr>\n",
       "      <th>2</th>\n",
       "      <td>CCCN(CCC)C(=O)CC1=C(N=C2N1C=C(C=C2)Cl)C3=CC=C(...</td>\n",
       "      <td>Hepatotoxicity</td>\n",
       "      <td>1</td>\n",
       "      <td>Hepatotoxicity</td>\n",
       "    </tr>\n",
       "    <tr>\n",
       "      <th>3</th>\n",
       "      <td>C1CC2=CC=CC=C2C(C3=CC=CC=C31)NCCCCCCC(=O)O</td>\n",
       "      <td>Hepatotoxicity</td>\n",
       "      <td>1</td>\n",
       "      <td>NonHepatotoxicity</td>\n",
       "    </tr>\n",
       "    <tr>\n",
       "      <th>4</th>\n",
       "      <td>C1=CC=C(C=C1)CN2C3=CC=CC=C3C(=N2)OCC(=O)O</td>\n",
       "      <td>Hepatotoxicity</td>\n",
       "      <td>1</td>\n",
       "      <td>NonHepatotoxicity</td>\n",
       "    </tr>\n",
       "  </tbody>\n",
       "</table>\n",
       "</div>"
      ],
      "text/plain": [
       "                                              Smiles           Liver  label  \\\n",
       "0  C[C@@H](C(=O)N[C@@H](C)C(=O)NC1[C@H]2[C@@H]1CN...  Hepatotoxicity      1   \n",
       "1                      C=CCOC1=C(C=C(C=C1)CC(=O)O)Cl  Hepatotoxicity      1   \n",
       "2  CCCN(CCC)C(=O)CC1=C(N=C2N1C=C(C=C2)Cl)C3=CC=C(...  Hepatotoxicity      1   \n",
       "3         C1CC2=CC=CC=C2C(C3=CC=CC=C31)NCCCCCCC(=O)O  Hepatotoxicity      1   \n",
       "4          C1=CC=C(C=C1)CN2C3=CC=CC=C3C(=N2)OCC(=O)O  Hepatotoxicity      1   \n",
       "\n",
       "      Classification  \n",
       "0  NonHepatotoxicity  \n",
       "1     Hepatotoxicity  \n",
       "2     Hepatotoxicity  \n",
       "3  NonHepatotoxicity  \n",
       "4  NonHepatotoxicity  "
      ]
     },
     "execution_count": 99,
     "metadata": {},
     "output_type": "execute_result"
    }
   ],
   "source": [
    "# Function to classify a batch of SMILES strings\n",
    "from time import sleep\n",
    "\n",
    "async def classify_smiles_batch(smiles_batch):\n",
    "    # Run the LMQL query with batch input\n",
    "    response = await classify_smiles(few_shot_examples, smiles_batch)\n",
    "    \n",
    "    # Evaluate response to convert string list format into an actual Python list\n",
    "    try:\n",
    "        classifications = eval(response)  # Assumes response is in Python list format\n",
    "        return classifications\n",
    "    except Exception as e:\n",
    "        print(f\"Error parsing response: {e}\")\n",
    "        return [None] * len(smiles_batch)  # Return None for failed parsing\n",
    "\n",
    "# Process the data in batches\n",
    "batch_size = 10\n",
    "data = pd_test.copy()\n",
    "smiles_batches = [data['Smiles'][i:i + batch_size].tolist() for i in range(0, len(data), batch_size)]\n",
    "results = []\n",
    "\n",
    "# Classify each batch and store results\n",
    "print(\"Number of batches:\", len(smiles_batches))\n",
    "for i, batch in enumerate(smiles_batches):\n",
    "    print(f\"Processing batch {i+1}/{len(smiles_batches)}...\")\n",
    "    batch_results = await classify_smiles_batch(batch)\n",
    "    results.extend(batch_results)\n",
    "    sleep(10)\n",
    "\n",
    "# Add results to DataFrame\n",
    "data['Classification'] = results\n",
    "data.head()"
   ]
  },
  {
   "cell_type": "code",
   "execution_count": 102,
   "metadata": {},
   "outputs": [],
   "source": [
    "# strip all classification values\n",
    "data[\"Classification\"] = data[\"Classification\"].apply(lambda x: x.strip() if x is not None else x)"
   ]
  },
  {
   "cell_type": "code",
   "execution_count": 103,
   "metadata": {},
   "outputs": [
    {
     "data": {
      "text/plain": [
       "Classification\n",
       "Hepatotoxicity       158\n",
       "NonHepatotoxicity    128\n",
       "Name: count, dtype: int64"
      ]
     },
     "execution_count": 103,
     "metadata": {},
     "output_type": "execute_result"
    }
   ],
   "source": [
    "data[\"Classification\"].value_counts()"
   ]
  },
  {
   "cell_type": "code",
   "execution_count": null,
   "metadata": {},
   "outputs": [],
   "source": []
  },
  {
   "cell_type": "code",
   "execution_count": 105,
   "metadata": {},
   "outputs": [
    {
     "name": "stdout",
     "output_type": "stream",
     "text": [
      "Accuracy: 54.20%\n"
     ]
    }
   ],
   "source": [
    "# calculate accuracy\n",
    "accuracy = (data[\"Liver\"] == data[\"Classification\"]).mean()\n",
    "print(f\"Accuracy: {accuracy:.2%}\")\n"
   ]
  },
  {
   "cell_type": "code",
   "execution_count": 106,
   "metadata": {},
   "outputs": [],
   "source": [
    "# save the results\n",
    "data.to_csv(\"output/Testing_Group_gpt4_Results.csv\", index=False)"
   ]
  },
  {
   "cell_type": "code",
   "execution_count": null,
   "metadata": {},
   "outputs": [],
   "source": []
  }
 ],
 "metadata": {
  "kernelspec": {
   "display_name": "dili-3.10",
   "language": "python",
   "name": "python3"
  },
  "language_info": {
   "codemirror_mode": {
    "name": "ipython",
    "version": 3
   },
   "file_extension": ".py",
   "mimetype": "text/x-python",
   "name": "python",
   "nbconvert_exporter": "python",
   "pygments_lexer": "ipython3",
   "version": "3.10.15"
  }
 },
 "nbformat": 4,
 "nbformat_minor": 2
}
