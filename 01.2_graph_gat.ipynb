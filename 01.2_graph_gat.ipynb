{
 "cells": [
  {
   "cell_type": "code",
   "execution_count": 1,
   "metadata": {},
   "outputs": [
    {
     "name": "stderr",
     "output_type": "stream",
     "text": [
      "No normalization for SPS. Feature removed!\n",
      "No normalization for AvgIpc. Feature removed!\n",
      "Skipped loading some Tensorflow models, missing a dependency. No module named 'tensorflow'\n",
      "Skipped loading modules with pytorch-geometric dependency, missing a dependency. No module named 'dgl'\n",
      "Skipped loading modules with transformers dependency. No module named 'transformers'\n",
      "cannot import name 'HuggingFaceModel' from 'deepchem.models.torch_models' (c:\\Users\\predator\\anaconda3\\envs\\dili\\lib\\site-packages\\deepchem\\models\\torch_models\\__init__.py)\n",
      "Skipped loading modules with pytorch-lightning dependency, missing a dependency. No module named 'lightning'\n",
      "Skipped loading some Jax models, missing a dependency. No module named 'jax'\n",
      "Skipped loading some PyTorch models, missing a dependency. No module named 'tensorflow'\n"
     ]
    }
   ],
   "source": [
    "from rdkit import Chem\n",
    "from sklearn.metrics import roc_auc_score\n",
    "from torch_geometric.data import Data\n",
    "from torch_geometric.loader import DataLoader\n",
    "from torch_geometric.nn import (\n",
    "    GCNConv,\n",
    "    global_mean_pool,\n",
    "    global_add_pool\n",
    ")\n",
    "import matplotlib.pyplot as plt\n",
    "import pandas as pd\n",
    "import torch\n",
    "import torch.nn.functional as F\n",
    "\n",
    "import numpy as np\n",
    "from rdkit.Chem import rdFingerprintGenerator\n",
    "import deepchem as dc\n",
    "import random\n",
    "import optuna"
   ]
  },
  {
   "cell_type": "code",
   "execution_count": 2,
   "metadata": {},
   "outputs": [],
   "source": [
    "# Ensure reproducibility with a fixed seed\n",
    "def set_seed(seed):\n",
    "    random.seed(seed)\n",
    "    np.random.seed(seed)\n",
    "    torch.manual_seed(seed)\n",
    "    if torch.cuda.is_available():\n",
    "        torch.cuda.manual_seed_all(seed)\n",
    "    # For deterministic behavior in PyTorch\n",
    "    torch.backends.cudnn.deterministic = True\n",
    "    torch.backends.cudnn.benchmark = False\n",
    "\n",
    "# Set a global seed for reproducibility\n",
    "SEED = 42\n",
    "set_seed(SEED)"
   ]
  },
  {
   "cell_type": "code",
   "execution_count": 3,
   "metadata": {},
   "outputs": [
    {
     "name": "stdout",
     "output_type": "stream",
     "text": [
      "Using device: cuda\n"
     ]
    }
   ],
   "source": [
    "# Check if a GPU is available\n",
    "device = torch.device(\"cuda\" if torch.cuda.is_available() else \"cpu\")\n",
    "print(f\"Using device: {device}\")"
   ]
  },
  {
   "cell_type": "code",
   "execution_count": null,
   "metadata": {},
   "outputs": [],
   "source": []
  },
  {
   "cell_type": "code",
   "execution_count": null,
   "metadata": {},
   "outputs": [],
   "source": []
  },
  {
   "cell_type": "markdown",
   "metadata": {},
   "source": [
    "# Preprocessing SMILES Data into Graphs"
   ]
  },
  {
   "cell_type": "code",
   "execution_count": 4,
   "metadata": {},
   "outputs": [],
   "source": [
    "# Featurization using DeepChem's MolGraphConvFeaturizer\n",
    "def featurize_smiles(smiles):\n",
    "    featurizer = dc.feat.MolGraphConvFeaturizer(use_edges=True)\n",
    "    graph_data = featurizer.featurize([smiles])[0]\n",
    "    \n",
    "    # Get DeepChem atom features\n",
    "    atom_features_deepchem = graph_data.node_features\n",
    "    \n",
    "    return atom_features_deepchem\n",
    "\n",
    "# Function to generate Morgan Fingerprints (ECFP)\n",
    "def generate_ecfp(smiles):\n",
    "    # Morgan fingerprint generator\n",
    "    mfgen = rdFingerprintGenerator.GetMorganGenerator(radius=2, fpSize=4096)\n",
    "\n",
    "    molecule = Chem.MolFromSmiles(smiles)\n",
    "    if molecule is None:\n",
    "        return None\n",
    "    return mfgen.GetFingerprintAsNumPy(molecule)\n",
    "\n",
    "# Function to convert SMILES to PyTorch Geometric Data object using DeepChem featurizer\n",
    "def smiles_to_graph_featurizer(smiles):\n",
    "    # Featurization using DeepChem\n",
    "    featurizer = dc.feat.MolGraphConvFeaturizer(use_edges=True)\n",
    "\n",
    "    # Featurize the SMILES string using DeepChem\n",
    "    graph_data = featurizer.featurize([smiles])[0]\n",
    "    return graph_data.node_features, graph_data.edge_features, graph_data.edge_index\n",
    "\n",
    "# Function to extract atom features\n",
    "def atom_features(atom, ecfp):\n",
    "    # Get the atom index for corresponding ECFP value\n",
    "    atom_idx = atom.GetIdx()\n",
    "    \n",
    "    return  [\n",
    "            atom.GetAtomicNum(),  # Atomic number\n",
    "            atom.GetDegree(),  # Number of bonds\n",
    "            atom.GetTotalNumHs(),  # Total number of hydrogens\n",
    "            atom.GetFormalCharge(),  # Formal charge of the atom\n",
    "            atom.GetImplicitValence(),  # Implicit valence\n",
    "            atom.GetNumRadicalElectrons(),  # Number of radical electrons\n",
    "            int(atom.GetIsAromatic()),  # Is the atom aromatic?\n",
    "            atom.GetMass(),  # Atomic mass\n",
    "            atom.GetHybridization().real,  # Hybridization state (SP, SP2, SP3, etc.)\n",
    "            ecfp[atom_idx],  # Morgan fingerprint (ECFP) for the atom\n",
    "        ]\n",
    "\n",
    "\n",
    "# Function to extract bond features\n",
    "def bond_features(bond):\n",
    "    bond_type = bond.GetBondTypeAsDouble()            # Bond type as a float\n",
    "    is_aromatic = bond.GetIsAromatic()                # Aromatic bond\n",
    "    is_conjugated = bond.GetIsConjugated()            # Conjugated bond\n",
    "    is_in_ring = bond.IsInRing()                      # Whether the bond is part of a ring\n",
    "    stereo = bond.GetStereo()                         # Bond stereochemistry\n",
    "    \n",
    "    # Convert stereo information to a one-hot encoded format\n",
    "    stereo_one_hot = [0, 0, 0, 0]  # Stereo options: None, E, Z, Other\n",
    "    if stereo == Chem.BondStereo.STEREONONE:\n",
    "        stereo_one_hot[0] = 1\n",
    "    elif stereo == Chem.BondStereo.STEREOE:\n",
    "        stereo_one_hot[1] = 1\n",
    "    elif stereo == Chem.BondStereo.STEREOZ:\n",
    "        stereo_one_hot[2] = 1\n",
    "    else:\n",
    "        stereo_one_hot[3] = 1\n",
    "    \n",
    "    # Combine all features into a single tensor\n",
    "    return [bond_type, float(is_aromatic), float(is_conjugated), float(is_in_ring)] + stereo_one_hot\n",
    "\n",
    "\n",
    "# Convert SMILES to PyTorch Geometric Data object\n",
    "def smiles_to_graph(smiles, label):\n",
    "    mol = Chem.MolFromSmiles(smiles)\n",
    "\n",
    "    atom_features_list = []\n",
    "    edge_index = []\n",
    "    edge_attr = []\n",
    "\n",
    "    # DeepChem features\n",
    "    atom_features_deepchem = featurize_smiles(smiles)\n",
    "\n",
    "    # Generate Morgan Fingerprint (ECFP)\n",
    "    ecfp_features = generate_ecfp(smiles)\n",
    "\n",
    "    # Generate Molecule Graph Convolution features\n",
    "    mol_graph_node_features, mol_graph_edge_features, mol_graph_edge_index = smiles_to_graph_featurizer(smiles)\n",
    "\n",
    "    # Nodes (atoms)\n",
    "    for atom in mol.GetAtoms():\n",
    "        atom_features_list.append(atom_features(atom, ecfp_features))\n",
    "\n",
    "    atom_features_list = np.array(atom_features_list)\n",
    "\n",
    "    # Edges (bonds)\n",
    "    for bond in mol.GetBonds():\n",
    "        i = bond.GetBeginAtomIdx()\n",
    "        j = bond.GetEndAtomIdx()\n",
    "        \n",
    "        # Append bidirectional edges for undirected graphs\n",
    "        edge_index.append([i, j])\n",
    "        edge_index.append([j, i])\n",
    "        \n",
    "        # Append bond features for both directions\n",
    "        edge_attr.append(bond_features(bond))\n",
    "        edge_attr.append(bond_features(bond))\n",
    "\n",
    "    # Convert atom features to a tensor\n",
    "    combined_features = np.concatenate((atom_features_list, atom_features_deepchem, mol_graph_node_features), axis=1)\n",
    "    x = torch.tensor(combined_features, dtype=torch.float)\n",
    "\n",
    "    # Convert edge indices and features to tensors, handle empty edge case    \n",
    "    edge_index = torch.tensor(edge_index, dtype=torch.long).t().contiguous()\n",
    "\n",
    "    # combine edge features from ECFP and MolGraphConv    \n",
    "    edge_attr = np.array(edge_attr)\n",
    "    edge_attr = np.concatenate((edge_attr, mol_graph_edge_features), axis=1)\n",
    "    edge_attr = torch.tensor(edge_attr, dtype=torch.float)\n",
    "\n",
    "    # Label (target)\n",
    "    y = torch.tensor([label], dtype=torch.long)\n",
    "\n",
    "    return Data(x=x, edge_index=edge_index, edge_attr=edge_attr, y=y)\n",
    "\n",
    "\n",
    "\n",
    "# Function to load data from CSV and apply SMILES augmentation for training\n",
    "def load_data_from_csv(file_path):\n",
    "    df = pd.read_csv(file_path)\n",
    "    smiles_list = df[\"Smiles\"].values\n",
    "    labels = df[\"Liver\"].apply(lambda x: 1 if x == \"Hepatotoxicity\" else 0).values\n",
    "\n",
    "    data_list = []\n",
    "\n",
    "    # Initialize the SmilesEnumerator for data augmentation\n",
    "    for smiles, label in zip(smiles_list, labels):\n",
    "        # For test data, no augmentation, just use canonical SMILES\n",
    "        graph_data = smiles_to_graph(smiles, label)\n",
    "        data_list.append(graph_data)\n",
    "\n",
    "    return data_list"
   ]
  },
  {
   "cell_type": "code",
   "execution_count": null,
   "metadata": {},
   "outputs": [],
   "source": []
  },
  {
   "cell_type": "code",
   "execution_count": 5,
   "metadata": {},
   "outputs": [],
   "source": [
    "# Load training and testing data\n",
    "training_data = load_data_from_csv(\"data_smiles/Training_Group.csv\")\n",
    "testing_data = load_data_from_csv(\"data_smiles/Testing_Group.csv\")"
   ]
  },
  {
   "cell_type": "code",
   "execution_count": 6,
   "metadata": {},
   "outputs": [],
   "source": [
    "# Create data loaders\n",
    "train_loader = DataLoader(training_data, batch_size=32, shuffle=True)\n",
    "test_loader = DataLoader(testing_data, batch_size=32, shuffle=False)"
   ]
  },
  {
   "cell_type": "code",
   "execution_count": null,
   "metadata": {},
   "outputs": [],
   "source": []
  },
  {
   "cell_type": "code",
   "execution_count": null,
   "metadata": {},
   "outputs": [
    {
     "name": "stdout",
     "output_type": "stream",
     "text": [
      "DataBatch(x=[40, 70], edge_index=[2, 88], edge_attr=[88, 19], y=[1], batch=[40], ptr=[2])\n",
      "DataBatch(x=[15, 70], edge_index=[2, 30], edge_attr=[30, 19], y=[1], batch=[15], ptr=[2])\n",
      "DataBatch(x=[27, 70], edge_index=[2, 58], edge_attr=[58, 19], y=[1], batch=[27], ptr=[2])\n"
     ]
    }
   ],
   "source": [
    "# for i, data in enumerate(test_loader):\n",
    "#     print(data)\n",
    "\n",
    "#     if i == 2:\n",
    "#         break"
   ]
  },
  {
   "cell_type": "code",
   "execution_count": null,
   "metadata": {},
   "outputs": [],
   "source": []
  },
  {
   "cell_type": "code",
   "execution_count": 7,
   "metadata": {},
   "outputs": [],
   "source": [
    "# Training function with AUC and accuracy tracking\n",
    "def train(model, data_loader, optimizer, criterion):\n",
    "    model.train()\n",
    "    total_loss = 0\n",
    "    correct = 0\n",
    "    y_true = []\n",
    "    y_pred = []\n",
    "\n",
    "    for data in data_loader:\n",
    "        data = data.to(device)  # Move data to GPU\n",
    "        optimizer.zero_grad()\n",
    "        out = model(data)\n",
    "        loss = criterion(out, data.y)\n",
    "        loss.backward()\n",
    "        optimizer.step()\n",
    "\n",
    "        # Track metrics\n",
    "        total_loss += loss.item()\n",
    "        pred = out.argmax(dim=1)\n",
    "        correct += (pred == data.y).sum().item()\n",
    "        y_true.extend(data.y.cpu().tolist())  # Move back to CPU for metrics\n",
    "        y_pred.extend(out[:, 1].detach().cpu().numpy())  # Probability for class 1\n",
    "\n",
    "    acc = correct / len(data_loader.dataset)\n",
    "    auc = roc_auc_score(y_true, y_pred)\n",
    "\n",
    "    return total_loss / len(data_loader), acc, auc"
   ]
  },
  {
   "cell_type": "code",
   "execution_count": 8,
   "metadata": {},
   "outputs": [],
   "source": [
    "# Evaluation function with AUC and accuracy tracking\n",
    "def test(model, data_loader, criterion):\n",
    "    model.eval()\n",
    "    total_loss = 0\n",
    "    correct = 0\n",
    "    y_true = []\n",
    "    y_pred = []\n",
    "\n",
    "    with torch.no_grad():\n",
    "        for data in data_loader:\n",
    "            data = data.to(device)  # Move data to GPU\n",
    "            out = model(data)\n",
    "            loss = criterion(out, data.y)\n",
    "            total_loss += loss.item()\n",
    "            pred = out.argmax(dim=1)\n",
    "            correct += (pred == data.y).sum().item()\n",
    "            y_true.extend(data.y.cpu().tolist())  # Move back to CPU for metrics\n",
    "            y_pred.extend(out[:, 1].cpu().numpy())  # Probability for class 1\n",
    "\n",
    "    acc = correct / len(data_loader.dataset)\n",
    "    auc = roc_auc_score(y_true, y_pred)\n",
    "\n",
    "    return total_loss / len(data_loader), acc, auc"
   ]
  },
  {
   "cell_type": "code",
   "execution_count": null,
   "metadata": {},
   "outputs": [],
   "source": []
  },
  {
   "cell_type": "markdown",
   "metadata": {},
   "source": [
    "# Graph Attention Network approach"
   ]
  },
  {
   "cell_type": "code",
   "execution_count": 9,
   "metadata": {},
   "outputs": [],
   "source": [
    "import torch\n",
    "import torch.nn.functional as F\n",
    "from torch_geometric.nn import GATConv, global_mean_pool\n",
    "\n",
    "class GAT(torch.nn.Module):\n",
    "    def __init__(self, num_node_features, num_classes, num_layers=2, hidden_dim=64, heads=8, concat=True, dropout_prob=0.5, activation='relu'):\n",
    "        super(GAT, self).__init__()\n",
    "        \n",
    "        # Store activation function dynamically\n",
    "        if activation == 'relu':\n",
    "            self.activation = F.relu\n",
    "        elif activation == 'tanh':\n",
    "            self.activation = F.tanh\n",
    "        else:\n",
    "            raise ValueError(\"Unsupported activation function\")\n",
    "\n",
    "        self.dropout_prob = dropout_prob\n",
    "        \n",
    "        # Dynamically define the GAT layers\n",
    "        self.convs = torch.nn.ModuleList()\n",
    "        self.convs.append(GATConv(num_node_features, hidden_dim, heads=heads, concat=concat))\n",
    "        for _ in range(num_layers - 1):\n",
    "            self.convs.append(GATConv(hidden_dim * heads if concat else hidden_dim, hidden_dim, heads=heads, concat=False))\n",
    "        \n",
    "        # Final fully connected layer for classification\n",
    "        self.fc = torch.nn.Linear(hidden_dim, num_classes)\n",
    "\n",
    "    def forward(self, data):\n",
    "        x, edge_index, batch = data.x, data.edge_index, data.batch\n",
    "\n",
    "        # Apply GAT layers dynamically\n",
    "        for conv in self.convs:\n",
    "            x = conv(x, edge_index)\n",
    "            x = self.activation(x)\n",
    "        \n",
    "        # Global mean pooling\n",
    "        x = global_mean_pool(x, batch)\n",
    "\n",
    "        # Apply dropout\n",
    "        x = F.dropout(x, p=self.dropout_prob, training=self.training)\n",
    "\n",
    "        # Final classification layer\n",
    "        return F.log_softmax(self.fc(x), dim=1)\n"
   ]
  },
  {
   "cell_type": "code",
   "execution_count": 30,
   "metadata": {},
   "outputs": [],
   "source": [
    "def objective(trial):\n",
    "    # Set the seed for reproducibility in this trial\n",
    "    set_seed(SEED)\n",
    "    \n",
    "    # Suggest hyperparameters\n",
    "    hidden_dim = trial.suggest_int('hidden_dim', 32, 256)\n",
    "    dropout_prob = trial.suggest_float('dropout_prob', 0.1, 0.6)\n",
    "    lr = trial.suggest_float('lr', 1e-5, 1e-2, log=True)\n",
    "    weight_decay = trial.suggest_float('weight_decay', 1e-6, 1e-2, log=True)\n",
    "    num_layers = trial.suggest_int('num_layers', 2, 5)  # Number of GAT layers\n",
    "    heads = trial.suggest_int('heads', 2, 16)  # Number of attention heads\n",
    "    activation = trial.suggest_categorical('activation', ['relu', 'tanh'])  # Activation function\n",
    "    concat = trial.suggest_categorical('concat', [True, False])  # Whether to concatenate multi-head outputs\n",
    "\n",
    "    # Initialize the model\n",
    "    model = GAT(\n",
    "        num_node_features=70, \n",
    "        num_classes=2, \n",
    "        num_layers=num_layers, \n",
    "        hidden_dim=hidden_dim, \n",
    "        heads=heads, \n",
    "        concat=concat, \n",
    "        dropout_prob=dropout_prob, \n",
    "        activation=activation\n",
    "    ).to(device)\n",
    "    \n",
    "    optimizer = torch.optim.Adam(model.parameters(), lr=lr, weight_decay=weight_decay)\n",
    "    criterion = torch.nn.CrossEntropyLoss()\n",
    "\n",
    "    best_auc = 0\n",
    "    early_stop_counter = 0\n",
    "    patience = 10\n",
    "    max_epochs = 300\n",
    "    epoch_count = 0\n",
    "\n",
    "    # Metrics storage for plotting\n",
    "    train_acc_history, train_loss_history, train_auc_history = [], [], []\n",
    "    test_acc_history, test_loss_history, test_auc_history = [], [], []\n",
    "\n",
    "    for epoch in range(max_epochs):\n",
    "        try:\n",
    "            epoch_count += 1\n",
    "            train_loss, train_acc, train_auc = train(model, train_loader, optimizer, criterion)\n",
    "            test_loss, test_acc, test_auc = test(model, test_loader, criterion)\n",
    "\n",
    "            # Store metrics for plotting\n",
    "            train_acc_history.append(train_acc)\n",
    "            train_loss_history.append(train_loss)\n",
    "            train_auc_history.append(train_auc)\n",
    "            test_acc_history.append(test_acc)\n",
    "            test_loss_history.append(test_loss)\n",
    "            test_auc_history.append(test_auc)\n",
    "\n",
    "            if test_auc > best_auc:\n",
    "                best_auc = test_auc\n",
    "                early_stop_counter = 0\n",
    "            else:\n",
    "                early_stop_counter += 1\n",
    "\n",
    "            if early_stop_counter >= patience:\n",
    "                break\n",
    "        \n",
    "        except Exception as e:\n",
    "            print(f\"Error in epoch {epoch}: {e}\")\n",
    "            break\n",
    "\n",
    "    # Store the number of epochs in the trial's user attributes\n",
    "    trial.set_user_attr(\"n_epochs\", epoch_count)\n",
    "    trial.set_user_attr(\"train_acc_history\", train_acc_history)\n",
    "    trial.set_user_attr(\"train_loss_history\", train_loss_history)\n",
    "    trial.set_user_attr(\"train_auc_history\", train_auc_history)\n",
    "    trial.set_user_attr(\"test_acc_history\", test_acc_history)\n",
    "    trial.set_user_attr(\"test_loss_history\", test_loss_history)\n",
    "    trial.set_user_attr(\"test_auc_history\", test_auc_history)    \n",
    "\n",
    "    # Return the best AUC score for this trial\n",
    "    return best_auc\n"
   ]
  },
  {
   "cell_type": "code",
   "execution_count": 31,
   "metadata": {},
   "outputs": [
    {
     "name": "stderr",
     "output_type": "stream",
     "text": [
      "[I 2024-10-19 21:41:53,479] A new study created in memory with name: no-name-2b511739-6670-44b3-ab1d-2c51d0422b6e\n",
      "[I 2024-10-19 21:42:03,920] Trial 0 finished with value: 0.7764009745910199 and parameters: {'hidden_dim': 116, 'dropout_prob': 0.5753571532049581, 'lr': 0.001570297088405539, 'weight_decay': 0.0002481040974867811, 'num_layers': 2, 'heads': 4, 'activation': 'tanh', 'concat': False}. Best is trial 0 with value: 0.7764009745910199.\n",
      "[I 2024-10-19 21:42:09,860] Trial 1 finished with value: 0.7777932474765052 and parameters: {'hidden_dim': 36, 'dropout_prob': 0.5849549260809972, 'lr': 0.00314288089084011, 'weight_decay': 7.068974950624607e-06, 'num_layers': 2, 'heads': 4, 'activation': 'tanh', 'concat': True}. Best is trial 1 with value: 0.7777932474765052.\n",
      "[I 2024-10-19 21:42:09,961] Trial 2 finished with value: 0.0 and parameters: {'hidden_dim': 169, 'dropout_prob': 0.16974693032602092, 'lr': 7.52374288453485e-05, 'weight_decay': 2.9204338471814107e-05, 'num_layers': 3, 'heads': 13, 'activation': 'tanh', 'concat': True}. Best is trial 1 with value: 0.7777932474765052.\n"
     ]
    },
    {
     "name": "stdout",
     "output_type": "stream",
     "text": [
      "Error in epoch 0: mat1 and mat2 shapes cannot be multiplied (838x169 and 2197x2197)\n"
     ]
    },
    {
     "name": "stderr",
     "output_type": "stream",
     "text": [
      "[I 2024-10-19 21:42:10,165] Trial 3 finished with value: 0.0 and parameters: {'hidden_dim': 168, 'dropout_prob': 0.18526206184364577, 'lr': 1.5673095467235405e-05, 'weight_decay': 0.006245139574743076, 'num_layers': 5, 'heads': 14, 'activation': 'relu', 'concat': True}. Best is trial 1 with value: 0.7777932474765052.\n",
      "[I 2024-10-19 21:42:10,185] Trial 4 finished with value: 0.0 and parameters: {'hidden_dim': 59, 'dropout_prob': 0.34758845505563507, 'lr': 1.2681352169084594e-05, 'weight_decay': 0.004337920697490943, 'num_layers': 3, 'heads': 11, 'activation': 'tanh', 'concat': True}. Best is trial 1 with value: 0.7777932474765052.\n"
     ]
    },
    {
     "name": "stdout",
     "output_type": "stream",
     "text": [
      "Error in epoch 0: mat1 and mat2 shapes cannot be multiplied (793x168 and 2352x2352)\n",
      "Error in epoch 0: mat1 and mat2 shapes cannot be multiplied (688x59 and 649x649)\n"
     ]
    },
    {
     "name": "stderr",
     "output_type": "stream",
     "text": [
      "[I 2024-10-19 21:42:29,200] Trial 5 finished with value: 0.5153846153846153 and parameters: {'hidden_dim': 250, 'dropout_prob': 0.48756641168055725, 'lr': 0.006584106160121612, 'weight_decay': 0.003795853142670641, 'num_layers': 4, 'heads': 15, 'activation': 'tanh', 'concat': False}. Best is trial 1 with value: 0.7777932474765052.\n",
      "[I 2024-10-19 21:42:38,741] Trial 6 finished with value: 0.7658197006613296 and parameters: {'hidden_dim': 119, 'dropout_prob': 0.23567451588694796, 'lr': 0.003063462210622081, 'weight_decay': 2.67308831078167e-05, 'num_layers': 3, 'heads': 10, 'activation': 'tanh', 'concat': False}. Best is trial 1 with value: 0.7777932474765052.\n",
      "[I 2024-10-19 21:42:38,927] Trial 7 finished with value: 0.0 and parameters: {'hidden_dim': 205, 'dropout_prob': 0.1993578407670862, 'lr': 1.0388823104027935e-05, 'weight_decay': 0.0018274508859816032, 'num_layers': 4, 'heads': 12, 'activation': 'relu', 'concat': True}. Best is trial 1 with value: 0.7777932474765052.\n",
      "[I 2024-10-19 21:42:38,976] Trial 8 finished with value: 0.0 and parameters: {'hidden_dim': 226, 'dropout_prob': 0.41164906341377894, 'lr': 9.833181933644887e-05, 'weight_decay': 1.7956984225677624e-06, 'num_layers': 3, 'heads': 6, 'activation': 'relu', 'concat': True}. Best is trial 1 with value: 0.7777932474765052.\n"
     ]
    },
    {
     "name": "stdout",
     "output_type": "stream",
     "text": [
      "Error in epoch 0: mat1 and mat2 shapes cannot be multiplied (993x205 and 2460x2460)\n",
      "Error in epoch 0: mat1 and mat2 shapes cannot be multiplied (742x226 and 1356x1356)\n"
     ]
    },
    {
     "name": "stderr",
     "output_type": "stream",
     "text": [
      "[I 2024-10-19 21:42:46,097] Trial 9 finished with value: 0.7010093978419769 and parameters: {'hidden_dim': 58, 'dropout_prob': 0.4566223936114975, 'lr': 0.0019158219548093154, 'weight_decay': 0.0001758364027000851, 'num_layers': 5, 'heads': 9, 'activation': 'relu', 'concat': False}. Best is trial 1 with value: 0.7777932474765052.\n",
      "[I 2024-10-19 21:42:59,665] Trial 10 finished with value: 0.784197702749739 and parameters: {'hidden_dim': 36, 'dropout_prob': 0.566357641688442, 'lr': 0.0005496538318235204, 'weight_decay': 1.1799062523159326e-06, 'num_layers': 2, 'heads': 2, 'activation': 'tanh', 'concat': True}. Best is trial 10 with value: 0.784197702749739.\n",
      "[I 2024-10-19 21:43:04,181] Trial 11 finished with value: 0.7632439958231814 and parameters: {'hidden_dim': 36, 'dropout_prob': 0.5978921648392923, 'lr': 0.0004451932923910239, 'weight_decay': 1.0919235839151983e-06, 'num_layers': 2, 'heads': 2, 'activation': 'tanh', 'concat': True}. Best is trial 10 with value: 0.784197702749739.\n",
      "[I 2024-10-19 21:43:14,940] Trial 12 finished with value: 0.7835711799512705 and parameters: {'hidden_dim': 93, 'dropout_prob': 0.5255546562635668, 'lr': 0.0005291152306190217, 'weight_decay': 4.748987687967175e-06, 'num_layers': 2, 'heads': 2, 'activation': 'tanh', 'concat': True}. Best is trial 10 with value: 0.784197702749739.\n",
      "[I 2024-10-19 21:43:22,810] Trial 13 finished with value: 0.7917159763313608 and parameters: {'hidden_dim': 84, 'dropout_prob': 0.4970622864699224, 'lr': 0.0004897516648032289, 'weight_decay': 4.14607921566336e-06, 'num_layers': 2, 'heads': 2, 'activation': 'tanh', 'concat': True}. Best is trial 13 with value: 0.7917159763313608.\n",
      "[I 2024-10-19 21:43:30,728] Trial 14 finished with value: 0.7726418378002088 and parameters: {'hidden_dim': 82, 'dropout_prob': 0.34231826895922374, 'lr': 0.00015953938333467674, 'weight_decay': 5.213951366247299e-06, 'num_layers': 2, 'heads': 6, 'activation': 'tanh', 'concat': True}. Best is trial 13 with value: 0.7917159763313608.\n",
      "[I 2024-10-19 21:43:37,792] Trial 15 finished with value: 0.7851722937695788 and parameters: {'hidden_dim': 78, 'dropout_prob': 0.42561396552114983, 'lr': 0.00086449389678494, 'weight_decay': 2.442865674648892e-05, 'num_layers': 2, 'heads': 7, 'activation': 'tanh', 'concat': True}. Best is trial 13 with value: 0.7917159763313608.\n",
      "[I 2024-10-19 21:43:37,859] Trial 16 finished with value: 0.0 and parameters: {'hidden_dim': 134, 'dropout_prob': 0.41430669290341704, 'lr': 0.0009130849291014644, 'weight_decay': 4.471750708361164e-05, 'num_layers': 4, 'heads': 8, 'activation': 'tanh', 'concat': True}. Best is trial 13 with value: 0.7917159763313608.\n",
      "[I 2024-10-19 21:43:37,899] Trial 17 finished with value: 0.0 and parameters: {'hidden_dim': 89, 'dropout_prob': 0.2832140968392993, 'lr': 0.00022070788199226067, 'weight_decay': 0.00045170991584432145, 'num_layers': 3, 'heads': 7, 'activation': 'tanh', 'concat': True}. Best is trial 13 with value: 0.7917159763313608.\n"
     ]
    },
    {
     "name": "stdout",
     "output_type": "stream",
     "text": [
      "Error in epoch 0: mat1 and mat2 shapes cannot be multiplied (1121x134 and 1072x1072)\n",
      "Error in epoch 0: mat1 and mat2 shapes cannot be multiplied (904x89 and 623x623)\n"
     ]
    },
    {
     "name": "stderr",
     "output_type": "stream",
     "text": [
      "[I 2024-10-19 21:44:19,724] Trial 18 finished with value: 0.7784893839192483 and parameters: {'hidden_dim': 163, 'dropout_prob': 0.11184770575291625, 'lr': 4.0306826045316875e-05, 'weight_decay': 1.2873273974332636e-05, 'num_layers': 2, 'heads': 4, 'activation': 'relu', 'concat': False}. Best is trial 13 with value: 0.7917159763313608.\n",
      "[I 2024-10-19 21:44:19,760] Trial 19 finished with value: 0.0 and parameters: {'hidden_dim': 76, 'dropout_prob': 0.409139894644061, 'lr': 0.0064279574911470854, 'weight_decay': 7.540238293442766e-05, 'num_layers': 3, 'heads': 5, 'activation': 'tanh', 'concat': True}. Best is trial 13 with value: 0.7917159763313608.\n"
     ]
    },
    {
     "name": "stdout",
     "output_type": "stream",
     "text": [
      "Error in epoch 0: mat1 and mat2 shapes cannot be multiplied (836x76 and 380x380)\n"
     ]
    },
    {
     "name": "stderr",
     "output_type": "stream",
     "text": [
      "[I 2024-10-19 21:44:26,401] Trial 20 finished with value: 0.7811347024016707 and parameters: {'hidden_dim': 114, 'dropout_prob': 0.4986397173266068, 'lr': 0.0009895885705614007, 'weight_decay': 1.0311182672537077e-05, 'num_layers': 2, 'heads': 8, 'activation': 'tanh', 'concat': True}. Best is trial 13 with value: 0.7917159763313608.\n",
      "[I 2024-10-19 21:44:44,123] Trial 21 finished with value: 0.7798816568047338 and parameters: {'hidden_dim': 54, 'dropout_prob': 0.5341135021231855, 'lr': 0.0003983041661520195, 'weight_decay': 2.1258108517939673e-06, 'num_layers': 2, 'heads': 2, 'activation': 'tanh', 'concat': True}. Best is trial 13 with value: 0.7917159763313608.\n",
      "[I 2024-10-19 21:44:55,308] Trial 22 finished with value: 0.7781413156978768 and parameters: {'hidden_dim': 63, 'dropout_prob': 0.46050407510127134, 'lr': 0.000728846987109747, 'weight_decay': 2.835345960500377e-06, 'num_layers': 2, 'heads': 3, 'activation': 'tanh', 'concat': True}. Best is trial 13 with value: 0.7917159763313608.\n",
      "[I 2024-10-19 21:45:08,835] Trial 23 finished with value: 0.7869822485207101 and parameters: {'hidden_dim': 101, 'dropout_prob': 0.5447350664264344, 'lr': 0.0002471446901963862, 'weight_decay': 1.0891271180994188e-06, 'num_layers': 2, 'heads': 5, 'activation': 'tanh', 'concat': True}. Best is trial 13 with value: 0.7917159763313608.\n",
      "[I 2024-10-19 21:45:08,886] Trial 24 finished with value: 0.0 and parameters: {'hidden_dim': 103, 'dropout_prob': 0.4460986911957435, 'lr': 0.0002381113973985382, 'weight_decay': 1.6577306723219632e-05, 'num_layers': 3, 'heads': 6, 'activation': 'tanh', 'concat': True}. Best is trial 13 with value: 0.7917159763313608.\n"
     ]
    },
    {
     "name": "stdout",
     "output_type": "stream",
     "text": [
      "Error in epoch 0: mat1 and mat2 shapes cannot be multiplied (940x103 and 618x618)\n"
     ]
    },
    {
     "name": "stderr",
     "output_type": "stream",
     "text": [
      "[I 2024-10-19 21:45:15,921] Trial 25 finished with value: 0.7658893143056039 and parameters: {'hidden_dim': 140, 'dropout_prob': 0.5332923372138203, 'lr': 0.00010569549424860114, 'weight_decay': 3.851807661895114e-06, 'num_layers': 2, 'heads': 5, 'activation': 'tanh', 'concat': True}. Best is trial 13 with value: 0.7917159763313608.\n",
      "[I 2024-10-19 21:45:37,697] Trial 26 finished with value: 0.7570483814827706 and parameters: {'hidden_dim': 73, 'dropout_prob': 0.3837013765367358, 'lr': 4.4118216043425954e-05, 'weight_decay': 7.490447666425192e-05, 'num_layers': 3, 'heads': 7, 'activation': 'relu', 'concat': False}. Best is trial 13 with value: 0.7917159763313608.\n",
      "[I 2024-10-19 21:45:47,893] Trial 27 finished with value: 0.7891402714932128 and parameters: {'hidden_dim': 106, 'dropout_prob': 0.2964380533280869, 'lr': 0.0002804473104549427, 'weight_decay': 7.627593865250263e-06, 'num_layers': 2, 'heads': 3, 'activation': 'tanh', 'concat': True}. Best is trial 13 with value: 0.7917159763313608.\n",
      "[I 2024-10-19 21:45:47,930] Trial 28 finished with value: 0.0 and parameters: {'hidden_dim': 103, 'dropout_prob': 0.29223503496911835, 'lr': 0.0002728825284651229, 'weight_decay': 2.405640522141676e-06, 'num_layers': 4, 'heads': 3, 'activation': 'tanh', 'concat': True}. Best is trial 13 with value: 0.7917159763313608.\n"
     ]
    },
    {
     "name": "stdout",
     "output_type": "stream",
     "text": [
      "Error in epoch 0: mat1 and mat2 shapes cannot be multiplied (879x103 and 309x309)\n"
     ]
    },
    {
     "name": "stderr",
     "output_type": "stream",
     "text": [
      "[I 2024-10-19 21:46:10,599] Trial 29 finished with value: 0.7899060215802298 and parameters: {'hidden_dim': 126, 'dropout_prob': 0.31685276721731603, 'lr': 0.00014960345954796462, 'weight_decay': 7.985413023308568e-06, 'num_layers': 2, 'heads': 3, 'activation': 'tanh', 'concat': False}. Best is trial 13 with value: 0.7917159763313608.\n",
      "[I 2024-10-19 21:46:56,978] Trial 30 finished with value: 0.7841280891054647 and parameters: {'hidden_dim': 128, 'dropout_prob': 0.2999849223277925, 'lr': 5.598240297753068e-05, 'weight_decay': 9.053881339361266e-06, 'num_layers': 2, 'heads': 3, 'activation': 'tanh', 'concat': False}. Best is trial 13 with value: 0.7917159763313608.\n",
      "[I 2024-10-19 21:47:02,501] Trial 31 finished with value: 0.7546815175774453 and parameters: {'hidden_dim': 154, 'dropout_prob': 0.24214049355837636, 'lr': 0.000147719601466939, 'weight_decay': 1.050346507456094e-06, 'num_layers': 2, 'heads': 4, 'activation': 'tanh', 'concat': False}. Best is trial 13 with value: 0.7917159763313608.\n",
      "[I 2024-10-19 21:47:27,231] Trial 32 finished with value: 0.7901844761573269 and parameters: {'hidden_dim': 107, 'dropout_prob': 0.32554885308629145, 'lr': 0.00015553842941439522, 'weight_decay': 5.090765737749731e-06, 'num_layers': 2, 'heads': 5, 'activation': 'tanh', 'concat': False}. Best is trial 13 with value: 0.7917159763313608.\n",
      "[I 2024-10-19 21:47:59,669] Trial 33 finished with value: 0.7562130177514793 and parameters: {'hidden_dim': 186, 'dropout_prob': 0.3245463169263609, 'lr': 2.652690687824132e-05, 'weight_decay': 7.294417834554901e-06, 'num_layers': 2, 'heads': 3, 'activation': 'tanh', 'concat': False}. Best is trial 13 with value: 0.7917159763313608.\n",
      "[I 2024-10-19 21:48:05,205] Trial 34 finished with value: 0.7659589279498783 and parameters: {'hidden_dim': 121, 'dropout_prob': 0.37278454086647783, 'lr': 0.00017920655311047057, 'weight_decay': 1.8375852307058164e-05, 'num_layers': 2, 'heads': 4, 'activation': 'tanh', 'concat': False}. Best is trial 13 with value: 0.7917159763313608.\n",
      "[I 2024-10-19 21:48:12,532] Trial 35 finished with value: 0.7560041768186566 and parameters: {'hidden_dim': 145, 'dropout_prob': 0.2508241797622769, 'lr': 0.00010100153827579483, 'weight_decay': 3.869294142332152e-05, 'num_layers': 3, 'heads': 3, 'activation': 'tanh', 'concat': False}. Best is trial 13 with value: 0.7917159763313608.\n",
      "[I 2024-10-19 21:48:55,211] Trial 36 finished with value: 0.776679429168117 and parameters: {'hidden_dim': 108, 'dropout_prob': 0.32485277786196587, 'lr': 6.586901040197206e-05, 'weight_decay': 5.8729485503551265e-06, 'num_layers': 2, 'heads': 5, 'activation': 'tanh', 'concat': False}. Best is trial 13 with value: 0.7917159763313608.\n",
      "[I 2024-10-19 21:49:05,534] Trial 37 finished with value: 0.5680473372781065 and parameters: {'hidden_dim': 127, 'dropout_prob': 0.37573007030603556, 'lr': 0.0003154241530773749, 'weight_decay': 0.0002914468562084557, 'num_layers': 5, 'heads': 16, 'activation': 'relu', 'concat': False}. Best is trial 13 with value: 0.7917159763313608.\n",
      "[I 2024-10-19 21:49:16,421] Trial 38 finished with value: 0.7770274973894884 and parameters: {'hidden_dim': 92, 'dropout_prob': 0.2718913997577776, 'lr': 0.001378845906285554, 'weight_decay': 3.584142002416583e-06, 'num_layers': 3, 'heads': 2, 'activation': 'tanh', 'concat': False}. Best is trial 13 with value: 0.7917159763313608.\n",
      "[I 2024-10-19 21:49:25,188] Trial 39 finished with value: 0.7513400626522798 and parameters: {'hidden_dim': 186, 'dropout_prob': 0.31690035299179103, 'lr': 2.296301944700367e-05, 'weight_decay': 1.1407291573712387e-05, 'num_layers': 3, 'heads': 3, 'activation': 'tanh', 'concat': False}. Best is trial 13 with value: 0.7917159763313608.\n",
      "[I 2024-10-19 21:49:48,306] Trial 40 finished with value: 0.760389836407936 and parameters: {'hidden_dim': 145, 'dropout_prob': 0.20593030114515196, 'lr': 0.00036739769325572425, 'weight_decay': 0.0006227347927507473, 'num_layers': 2, 'heads': 4, 'activation': 'relu', 'concat': False}. Best is trial 13 with value: 0.7917159763313608.\n",
      "[I 2024-10-19 21:50:11,444] Trial 41 finished with value: 0.7888618169161156 and parameters: {'hidden_dim': 97, 'dropout_prob': 0.3529380935888962, 'lr': 0.0001292844070502598, 'weight_decay': 1.6270004182167503e-06, 'num_layers': 2, 'heads': 5, 'activation': 'tanh', 'concat': True}. Best is trial 13 with value: 0.7917159763313608.\n",
      "[I 2024-10-19 21:50:35,140] Trial 42 finished with value: 0.7919248172641838 and parameters: {'hidden_dim': 117, 'dropout_prob': 0.35051308242136886, 'lr': 0.00013562833412771182, 'weight_decay': 1.882047659305303e-06, 'num_layers': 2, 'heads': 5, 'activation': 'tanh', 'concat': True}. Best is trial 42 with value: 0.7919248172641838.\n",
      "[I 2024-10-19 21:50:40,349] Trial 43 finished with value: 0.7656108597285068 and parameters: {'hidden_dim': 117, 'dropout_prob': 0.14853788593898865, 'lr': 7.983092036778181e-05, 'weight_decay': 3.1371754390587504e-06, 'num_layers': 2, 'heads': 4, 'activation': 'tanh', 'concat': True}. Best is trial 42 with value: 0.7919248172641838.\n",
      "[I 2024-10-19 21:51:01,997] Trial 44 finished with value: 0.7879568395405501 and parameters: {'hidden_dim': 116, 'dropout_prob': 0.26622042032432847, 'lr': 0.00018939547784541135, 'weight_decay': 5.850063685469317e-06, 'num_layers': 2, 'heads': 12, 'activation': 'tanh', 'concat': False}. Best is trial 42 with value: 0.7919248172641838.\n",
      "[I 2024-10-19 21:51:17,458] Trial 45 finished with value: 0.7828750435085277 and parameters: {'hidden_dim': 49, 'dropout_prob': 0.22971278147787746, 'lr': 0.0006187481863254336, 'weight_decay': 8.163159110773757e-06, 'num_layers': 2, 'heads': 2, 'activation': 'tanh', 'concat': True}. Best is trial 42 with value: 0.7919248172641838.\n",
      "[I 2024-10-19 21:51:17,515] Trial 46 finished with value: 0.0 and parameters: {'hidden_dim': 67, 'dropout_prob': 0.3579027410008714, 'lr': 0.00012217113444445475, 'weight_decay': 1.8985371616247045e-06, 'num_layers': 3, 'heads': 10, 'activation': 'tanh', 'concat': True}. Best is trial 42 with value: 0.7919248172641838.\n"
     ]
    },
    {
     "name": "stdout",
     "output_type": "stream",
     "text": [
      "Error in epoch 0: mat1 and mat2 shapes cannot be multiplied (824x67 and 670x670)\n"
     ]
    },
    {
     "name": "stderr",
     "output_type": "stream",
     "text": [
      "[I 2024-10-19 21:51:24,991] Trial 47 finished with value: 0.7711103376261748 and parameters: {'hidden_dim': 85, 'dropout_prob': 0.3078954900014182, 'lr': 0.0003123231339436547, 'weight_decay': 1.829755252461875e-05, 'num_layers': 2, 'heads': 6, 'activation': 'tanh', 'concat': False}. Best is trial 42 with value: 0.7919248172641838.\n",
      "[I 2024-10-19 21:51:58,502] Trial 48 finished with value: 0.781204316045945 and parameters: {'hidden_dim': 132, 'dropout_prob': 0.21453271241850705, 'lr': 8.072158602552265e-05, 'weight_decay': 3.943496510975303e-06, 'num_layers': 2, 'heads': 2, 'activation': 'tanh', 'concat': True}. Best is trial 42 with value: 0.7919248172641838.\n",
      "[I 2024-10-19 21:52:08,575] Trial 49 finished with value: 0.7676296554124609 and parameters: {'hidden_dim': 107, 'dropout_prob': 0.16713828204438155, 'lr': 0.00048454076241903583, 'weight_decay': 1.8314510836998528e-06, 'num_layers': 2, 'heads': 3, 'activation': 'relu', 'concat': True}. Best is trial 42 with value: 0.7919248172641838.\n"
     ]
    }
   ],
   "source": [
    "# Run the Optuna study with the fixed seed\n",
    "study = optuna.create_study(direction='maximize', sampler=optuna.samplers.TPESampler(seed=SEED))\n",
    "study.optimize(objective, n_trials=50)"
   ]
  },
  {
   "cell_type": "code",
   "execution_count": 36,
   "metadata": {},
   "outputs": [
    {
     "name": "stdout",
     "output_type": "stream",
     "text": [
      "Best trial:\n",
      "  Value: 0.7919248172641838\n",
      "  Params: \n",
      "    hidden_dim: 117\n",
      "    dropout_prob: 0.35051308242136886\n",
      "    lr: 0.00013562833412771182\n",
      "    weight_decay: 1.882047659305303e-06\n",
      "    num_layers: 2\n",
      "    heads: 5\n",
      "    activation: tanh\n",
      "    concat: True\n"
     ]
    }
   ],
   "source": [
    "print(\"Best trial:\")\n",
    "trial = study.best_trial\n",
    "\n",
    "print(f\"  Value: {trial.value}\")\n",
    "print(\"  Params: \")\n",
    "for key, value in trial.params.items():\n",
    "    print(f\"    {key}: {value}\")"
   ]
  },
  {
   "cell_type": "code",
   "execution_count": 37,
   "metadata": {},
   "outputs": [
    {
     "name": "stdout",
     "output_type": "stream",
     "text": [
      "Best trial: {'hidden_dim': 117, 'dropout_prob': 0.35051308242136886, 'lr': 0.00013562833412771182, 'weight_decay': 1.882047659305303e-06, 'num_layers': 2, 'heads': 5, 'activation': 'tanh', 'concat': True}\n"
     ]
    }
   ],
   "source": [
    "print(f\"Best trial: {study.best_trial.params}\")"
   ]
  },
  {
   "cell_type": "code",
   "execution_count": 38,
   "metadata": {},
   "outputs": [],
   "source": [
    "n_epochs = trial.user_attrs['n_epochs']\n",
    "train_acc_history = trial.user_attrs['train_acc_history']\n",
    "train_loss_history = trial.user_attrs['train_loss_history']\n",
    "train_auc_history = trial.user_attrs['train_auc_history']\n",
    "test_acc_history = trial.user_attrs['test_acc_history']\n",
    "test_loss_history = trial.user_attrs['test_loss_history']\n",
    "test_auc_history = trial.user_attrs['test_auc_history']\n"
   ]
  },
  {
   "cell_type": "code",
   "execution_count": 39,
   "metadata": {},
   "outputs": [
    {
     "data": {
      "image/png": "[encoded data removed]",
      "text/plain": [
       "<Figure size 1000x600 with 3 Axes>"
      ]
     },
     "metadata": {},
     "output_type": "display_data"
    }
   ],
   "source": [
    "# Plot training and testing accuracy\n",
    "epochs = len(train_acc_history)\n",
    "plt.figure(figsize=(10, 6))\n",
    "\n",
    "plt.subplot(2, 2, 1)\n",
    "plt.plot(range(epochs), train_acc_history, label=\"Train Accuracy\")\n",
    "plt.plot(range(epochs), test_acc_history, label=\"Test Accuracy\")\n",
    "plt.xlabel(\"Epoch\")\n",
    "plt.ylabel(\"Accuracy\")\n",
    "plt.legend()\n",
    "\n",
    "plt.subplot(2, 2, 2)\n",
    "plt.plot(range(epochs), train_loss_history, label=\"Train Loss\")\n",
    "plt.plot(range(epochs), test_loss_history, label=\"Test Loss\")\n",
    "plt.xlabel(\"Epoch\")\n",
    "plt.ylabel(\"Loss\")\n",
    "plt.legend()\n",
    "\n",
    "# Plot AUC for train and test\n",
    "plt.subplot(2, 2, 3)\n",
    "plt.plot(range(epochs), train_auc_history, label=\"Train AUC\")\n",
    "plt.plot(range(epochs), test_auc_history, label=\"Test AUC\")\n",
    "plt.xlabel(\"Epoch\")\n",
    "plt.ylabel(\"AUC\")\n",
    "plt.legend()\n",
    "\n",
    "plt.tight_layout()\n",
    "plt.show()"
   ]
  },
  {
   "cell_type": "code",
   "execution_count": null,
   "metadata": {},
   "outputs": [],
   "source": []
  }
 ],
 "metadata": {
  "kernelspec": {
   "display_name": "dili",
   "language": "python",
   "name": "python3"
  },
  "language_info": {
   "codemirror_mode": {
    "name": "ipython",
    "version": 3
   },
   "file_extension": ".py",
   "mimetype": "text/x-python",
   "name": "python",
   "nbconvert_exporter": "python",
   "pygments_lexer": "ipython3",
   "version": "3.8.19"
  }
 },
 "nbformat": 4,
 "nbformat_minor": 2
}
