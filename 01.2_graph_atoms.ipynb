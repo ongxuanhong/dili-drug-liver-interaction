{
 "cells": [
  {
   "cell_type": "markdown",
   "metadata": {},
   "source": [
    "# RDKit-Based Approach"
   ]
  },
  {
   "cell_type": "code",
   "execution_count": 1,
   "metadata": {},
   "outputs": [],
   "source": [
    "import pandas as pd\n",
    "from rdkit import Chem\n",
    "import torch\n",
    "from torch_geometric.data import Data\n",
    "from torch_geometric.loader import DataLoader\n",
    "from torch_geometric.nn import GCNConv\n",
    "import torch.nn.functional as F"
   ]
  },
  {
   "cell_type": "markdown",
   "metadata": {},
   "source": [
    "## 1. Preprocessing SMILES Data into Graphs"
   ]
  },
  {
   "cell_type": "code",
   "execution_count": 2,
   "metadata": {},
   "outputs": [],
   "source": [
    "# Function to extract atom features\n",
    "def atom_features(atom):\n",
    "    return torch.tensor(\n",
    "        [\n",
    "            atom.GetAtomicNum(),  # Atomic number\n",
    "            atom.GetDegree(),  # Number of bonds\n",
    "            atom.GetImplicitValence(),  # Implicit valence\n",
    "            int(atom.GetIsAromatic()),  # Is aromatic\n",
    "        ],\n",
    "        dtype=torch.float,\n",
    "    )\n",
    "\n",
    "\n",
    "# Function to extract bond features\n",
    "def bond_features(bond):\n",
    "    return torch.tensor(\n",
    "        [bond.GetBondTypeAsDouble()], dtype=torch.float  # Bond type as a float\n",
    "    )\n",
    "\n",
    "\n",
    "# Convert SMILES to PyTorch Geometric Data object\n",
    "def smiles_to_graph(smiles, label):\n",
    "    mol = Chem.MolFromSmiles(smiles)\n",
    "\n",
    "    atom_features_list = []\n",
    "    edge_index = []\n",
    "    edge_attr = []\n",
    "\n",
    "    # Nodes (atoms)\n",
    "    for atom in mol.GetAtoms():\n",
    "        atom_features_list.append(atom_features(atom))\n",
    "\n",
    "    # Edges (bonds)\n",
    "    for bond in mol.GetBonds():\n",
    "        i = bond.GetBeginAtomIdx()\n",
    "        j = bond.GetEndAtomIdx()\n",
    "        edge_index.append([i, j])\n",
    "        edge_index.append([j, i])  # Add both directions for undirected graphs\n",
    "        edge_attr.append(bond_features(bond))\n",
    "        edge_attr.append(bond_features(bond))\n",
    "\n",
    "    x = torch.stack(atom_features_list)\n",
    "    edge_index = torch.tensor(edge_index, dtype=torch.long).t().contiguous()\n",
    "    edge_attr = torch.stack(edge_attr)\n",
    "\n",
    "    y = torch.tensor([label], dtype=torch.long)\n",
    "\n",
    "    return Data(x=x, edge_index=edge_index, edge_attr=edge_attr, y=y)\n",
    "\n",
    "\n",
    "# Load data from CSV\n",
    "def load_data_from_csv(file_path):\n",
    "    df = pd.read_csv(file_path)\n",
    "    smiles_list = df[\"Smiles\"].values\n",
    "    labels = df[\"Liver\"].apply(lambda x: 1 if x == \"Hepatotoxicity\" else 0).values\n",
    "\n",
    "    data_list = []\n",
    "    for smiles, label in zip(smiles_list, labels):\n",
    "        graph_data = smiles_to_graph(smiles, label)\n",
    "        data_list.append(graph_data)\n",
    "\n",
    "    return data_list"
   ]
  },
  {
   "cell_type": "code",
   "execution_count": 4,
   "metadata": {},
   "outputs": [],
   "source": [
    "# Load training and testing data\n",
    "training_data = load_data_from_csv(\"data_smiles/Training_Group.csv\")\n",
    "testing_data = load_data_from_csv(\"data_smiles/Testing_Group.csv\")\n",
    "\n",
    "# Create data loaders\n",
    "train_loader = DataLoader(training_data, batch_size=32, shuffle=True)\n",
    "test_loader = DataLoader(testing_data, batch_size=32, shuffle=False)"
   ]
  },
  {
   "cell_type": "code",
   "execution_count": 5,
   "metadata": {},
   "outputs": [
    {
     "name": "stdout",
     "output_type": "stream",
     "text": [
      "DataBatch(x=[973, 4], edge_index=[2, 2054], edge_attr=[2054, 1], y=[32], batch=[973], ptr=[33])\n"
     ]
    }
   ],
   "source": [
    "for data in train_loader:\n",
    "    print(data)\n",
    "    break"
   ]
  },
  {
   "cell_type": "code",
   "execution_count": null,
   "metadata": {},
   "outputs": [],
   "source": []
  },
  {
   "cell_type": "code",
   "execution_count": null,
   "metadata": {},
   "outputs": [],
   "source": []
  },
  {
   "cell_type": "markdown",
   "metadata": {},
   "source": [
    "## 2. Define GCN Model"
   ]
  },
  {
   "cell_type": "code",
   "execution_count": 9,
   "metadata": {},
   "outputs": [],
   "source": [
    "from torch_geometric.nn import global_mean_pool\n",
    "\n",
    "\n",
    "class GCN(torch.nn.Module):\n",
    "    def __init__(self, num_node_features, num_classes):\n",
    "        super(GCN, self).__init__()\n",
    "        self.conv1 = GCNConv(num_node_features, 64)\n",
    "        self.conv2 = GCNConv(64, 64)\n",
    "        self.fc = torch.nn.Linear(64, num_classes)\n",
    "\n",
    "    def forward(self, data):\n",
    "        x, edge_index, batch = data.x, data.edge_index, data.batch\n",
    "\n",
    "        # Apply graph convolution layers\n",
    "        x = self.conv1(x, edge_index)\n",
    "        x = F.relu(x)\n",
    "        x = self.conv2(x, edge_index)\n",
    "        x = F.relu(x)\n",
    "\n",
    "        # Global pooling (average pooling) to get graph-level representations\n",
    "        x = global_mean_pool(x, batch)  # Pooling over nodes in each graph\n",
    "\n",
    "        # Final classification layer\n",
    "        return F.log_softmax(self.fc(x), dim=1)"
   ]
  },
  {
   "cell_type": "code",
   "execution_count": 10,
   "metadata": {},
   "outputs": [],
   "source": [
    "# Initialize the model, optimizer, and loss function\n",
    "model = GCN(num_node_features=4, num_classes=2)\n",
    "optimizer = torch.optim.Adam(model.parameters(), lr=0.01)\n",
    "criterion = torch.nn.CrossEntropyLoss()\n",
    "\n",
    "\n",
    "# Training function\n",
    "def train(model, data_loader):\n",
    "    model.train()\n",
    "\n",
    "    for epoch in range(50):  # 50 epochs\n",
    "        total_loss = 0\n",
    "        for data in data_loader:\n",
    "            optimizer.zero_grad()\n",
    "            out = model(data)\n",
    "            loss = criterion(out, data.y)\n",
    "            loss.backward()\n",
    "            optimizer.step()\n",
    "            total_loss += loss.item()\n",
    "        print(f\"Epoch {epoch+1}, Loss: {total_loss:.4f}\")"
   ]
  },
  {
   "cell_type": "code",
   "execution_count": 11,
   "metadata": {},
   "outputs": [
    {
     "name": "stdout",
     "output_type": "stream",
     "text": [
      "Epoch 1, Loss: 27.3317\n",
      "Epoch 2, Loss: 26.8665\n",
      "Epoch 3, Loss: 26.6688\n",
      "Epoch 4, Loss: 27.0128\n",
      "Epoch 5, Loss: 26.6740\n",
      "Epoch 6, Loss: 26.1469\n",
      "Epoch 7, Loss: 25.9940\n",
      "Epoch 8, Loss: 25.6781\n",
      "Epoch 9, Loss: 25.5442\n",
      "Epoch 10, Loss: 25.4485\n",
      "Epoch 11, Loss: 25.4367\n",
      "Epoch 12, Loss: 25.4290\n",
      "Epoch 13, Loss: 25.4247\n",
      "Epoch 14, Loss: 25.5633\n",
      "Epoch 15, Loss: 25.5268\n",
      "Epoch 16, Loss: 25.2362\n",
      "Epoch 17, Loss: 25.4831\n",
      "Epoch 18, Loss: 25.3682\n",
      "Epoch 19, Loss: 25.3603\n",
      "Epoch 20, Loss: 25.5353\n",
      "Epoch 21, Loss: 25.3558\n",
      "Epoch 22, Loss: 25.1048\n",
      "Epoch 23, Loss: 25.6165\n",
      "Epoch 24, Loss: 25.2927\n",
      "Epoch 25, Loss: 25.1852\n",
      "Epoch 26, Loss: 25.5483\n",
      "Epoch 27, Loss: 25.2417\n",
      "Epoch 28, Loss: 25.1769\n",
      "Epoch 29, Loss: 25.1897\n",
      "Epoch 30, Loss: 25.1714\n",
      "Epoch 31, Loss: 25.2801\n",
      "Epoch 32, Loss: 25.0546\n",
      "Epoch 33, Loss: 25.0823\n",
      "Epoch 34, Loss: 25.0177\n",
      "Epoch 35, Loss: 25.2474\n",
      "Epoch 36, Loss: 25.1695\n",
      "Epoch 37, Loss: 25.2873\n",
      "Epoch 38, Loss: 25.1001\n",
      "Epoch 39, Loss: 25.0107\n",
      "Epoch 40, Loss: 24.9007\n",
      "Epoch 41, Loss: 24.9690\n",
      "Epoch 42, Loss: 25.0805\n",
      "Epoch 43, Loss: 24.9626\n",
      "Epoch 44, Loss: 25.2318\n",
      "Epoch 45, Loss: 24.9995\n",
      "Epoch 46, Loss: 25.0040\n",
      "Epoch 47, Loss: 25.0214\n",
      "Epoch 48, Loss: 25.1735\n",
      "Epoch 49, Loss: 24.9986\n",
      "Epoch 50, Loss: 25.0492\n"
     ]
    }
   ],
   "source": [
    "# Train the model on the training data\n",
    "train(model, train_loader)"
   ]
  },
  {
   "cell_type": "markdown",
   "metadata": {},
   "source": [
    "## 3. Evaluation function"
   ]
  },
  {
   "cell_type": "code",
   "execution_count": 12,
   "metadata": {},
   "outputs": [
    {
     "name": "stdout",
     "output_type": "stream",
     "text": [
      "Test Accuracy: 71.33%\n"
     ]
    }
   ],
   "source": [
    "def test(model, data_loader):\n",
    "    model.eval()\n",
    "    correct = 0\n",
    "    total = 0\n",
    "    with torch.no_grad():\n",
    "        for data in data_loader:\n",
    "            out = model(data)\n",
    "            pred = out.argmax(dim=1)\n",
    "            correct += (pred == data.y).sum().item()\n",
    "            total += data.num_graphs\n",
    "    return correct / total\n",
    "\n",
    "\n",
    "# Test the model on the testing data\n",
    "accuracy = test(model, test_loader)\n",
    "print(f\"Test Accuracy: {accuracy * 100:.2f}%\")"
   ]
  },
  {
   "cell_type": "code",
   "execution_count": null,
   "metadata": {},
   "outputs": [],
   "source": []
  }
 ],
 "metadata": {
  "kernelspec": {
   "display_name": "dili",
   "language": "python",
   "name": "python3"
  },
  "language_info": {
   "codemirror_mode": {
    "name": "ipython",
    "version": 3
   },
   "file_extension": ".py",
   "mimetype": "text/x-python",
   "name": "python",
   "nbconvert_exporter": "python",
   "pygments_lexer": "ipython3",
   "version": "3.8.19"
  }
 },
 "nbformat": 4,
 "nbformat_minor": 2
}
